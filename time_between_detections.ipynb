{
 "cells": [
  {
   "cell_type": "code",
   "execution_count": 1,
   "metadata": {},
   "outputs": [],
   "source": [
    "import pandas as pd"
   ]
  },
  {
   "cell_type": "code",
   "execution_count": 2,
   "metadata": {},
   "outputs": [],
   "source": [
    "dwell_loc = pd.read_csv(\"data/loc_code_detection_patterns.csv\")"
   ]
  },
  {
   "cell_type": "code",
   "execution_count": 3,
   "metadata": {},
   "outputs": [
    {
     "data": {
      "application/vnd.microsoft.datawrangler.viewer.v0+json": {
       "columns": [
        {
         "name": "index",
         "rawType": "int64",
         "type": "integer"
        },
        {
         "name": "tag_id",
         "rawType": "float64",
         "type": "float"
        },
        {
         "name": "loc_code",
         "rawType": "object",
         "type": "string"
        },
        {
         "name": "start_time",
         "rawType": "object",
         "type": "unknown"
        },
        {
         "name": "end_time",
         "rawType": "object",
         "type": "unknown"
        }
       ],
       "conversionMethod": "pd.DataFrame",
       "ref": "4eb95a27-840a-4495-9ef4-de1ac4e629b8",
       "rows": [
        [
         "0",
         "989.001006678562",
         "7A",
         "2020-09-26 10:36:39.030000",
         "2020-09-26 10:38:44.320000"
        ],
        [
         "1",
         "989.001033389589",
         "21",
         "2020-09-27 07:04:30.360000",
         "2020-09-27 07:04:30.360000"
        ],
        [
         "2",
         "989.001006676365",
         "22",
         "2020-10-03 04:12:49.280000",
         "2020-10-03 04:12:49.280000"
        ],
        [
         "3",
         "989.001006678563",
         "232",
         "2020-10-23 19:55:21.760000",
         "2020-10-23 19:59:11.080000"
        ],
        [
         "4",
         "989.001006678563",
         "231",
         "2020-10-23 19:59:21.450000",
         "2020-10-23 20:05:58.390000"
        ],
        [
         "5",
         "989.001038869877",
         "84",
         "2021-04-28 04:07:54.440000",
         "2021-04-28 04:07:54.440000"
        ],
        [
         "6",
         "989.001038869413",
         "84",
         "2021-04-29 00:56:23.640000",
         "2021-04-29 01:57:09.960000"
        ],
        [
         "7",
         "989.001038870418",
         "84",
         "2021-04-29 05:58:30.690000",
         "2021-04-29 15:39:16.860000"
        ],
        [
         "8",
         "989.001038869832",
         "84",
         "2021-04-29 13:13:27.770000",
         "2021-04-29 13:13:27.770000"
        ],
        [
         "9",
         "989.001038869832",
         "83",
         "2021-04-29 14:02:14.730000",
         "2021-04-29 14:02:14.730000"
        ],
        [
         "10",
         "989.001038869832",
         "84",
         "2021-04-29 14:27:06.900000",
         "2021-04-29 19:16:29.670000"
        ],
        [
         "11",
         "989.001038870418",
         "83",
         "2021-04-29 15:44:59.250000",
         "2021-04-29 15:44:59.250000"
        ],
        [
         "12",
         "989.001038870418",
         "84",
         "2021-04-29 15:50:51.680000",
         "2021-04-29 15:50:51.680000"
        ],
        [
         "13",
         "989.001038869832",
         "83",
         "2021-04-29 19:33:12.160000",
         "2021-04-29 19:34:53.880000"
        ],
        [
         "14",
         "989.001038869832",
         "84",
         "2021-04-29 19:43:05",
         "2021-04-29 20:16:52.380000"
        ],
        [
         "15",
         "989.001038870404",
         "84",
         "2021-04-29 23:15:07.990000",
         "2021-04-29 23:53:31.850000"
        ],
        [
         "16",
         "989.001038869851",
         "83",
         "2021-04-29 23:31:56.970000",
         "2021-10-05 21:59:01.780000"
        ],
        [
         "17",
         "989.001038870404",
         "83",
         "2021-04-30 00:03:34.420000",
         "2021-04-30 00:03:34.420000"
        ],
        [
         "18",
         "989.001038869847",
         "84",
         "2021-04-30 00:18:44.280000",
         "2021-04-30 00:18:44.280000"
        ],
        [
         "19",
         "989.001038869363",
         "84",
         "2021-04-30 00:32:38.790000",
         "2021-04-30 00:32:38.790000"
        ],
        [
         "20",
         "989.001038869363",
         "83",
         "2021-04-30 05:45:12.730000",
         "2021-04-30 05:45:12.730000"
        ],
        [
         "21",
         "989.001038869363",
         "84",
         "2021-04-30 05:45:54.070000",
         "2021-04-30 05:51:10.720000"
        ],
        [
         "22",
         "989.001038869399",
         "84",
         "2021-04-30 05:58:58.210000",
         "2021-04-30 05:58:58.210000"
        ],
        [
         "23",
         "989.001038869423",
         "84",
         "2021-05-01 06:11:18.580000",
         "2021-05-01 06:11:18.580000"
        ],
        [
         "24",
         "989.001038869423",
         "83",
         "2021-05-01 06:24:50.370000",
         "2022-11-04 15:13:41.820000"
        ],
        [
         "25",
         "989.001038853209",
         "6D",
         "2021-05-04 01:00:14",
         "2021-05-04 12:45:04"
        ],
        [
         "26",
         "989.001038850059",
         "6D",
         "2021-05-04 01:03:24",
         "2021-05-04 12:58:04"
        ],
        [
         "27",
         "989.001038852919",
         "6D",
         "2021-05-04 01:03:58",
         "2021-05-04 01:03:58"
        ],
        [
         "28",
         "989.001038851834",
         "6D",
         "2021-05-04 01:07:45",
         "2021-05-04 01:07:45"
        ],
        [
         "29",
         "989.001038852838",
         "6D",
         "2021-05-04 01:08:00",
         "2021-05-04 01:13:48"
        ],
        [
         "30",
         "989.001038852889",
         "6D",
         "2021-05-04 01:10:19",
         "2021-05-04 12:48:03"
        ],
        [
         "31",
         "989.001038850838",
         "6D",
         "2021-05-04 01:14:54",
         "2021-05-04 01:14:54"
        ],
        [
         "32",
         "989.001038850285",
         "6D",
         "2021-05-04 01:17:07",
         "2021-05-04 01:17:07"
        ],
        [
         "33",
         "989.001038853106",
         "6D",
         "2021-05-04 01:17:33",
         "2021-05-04 01:17:33"
        ],
        [
         "34",
         "989.001038850131",
         "6D",
         "2021-05-04 01:18:59",
         "2021-05-04 01:19:00"
        ],
        [
         "35",
         "989.001038849365",
         "6D",
         "2021-05-04 01:19:39",
         "2021-05-04 01:43:15"
        ],
        [
         "36",
         "989.001038853144",
         "6D",
         "2021-05-04 01:20:17",
         "2021-05-04 03:51:08"
        ],
        [
         "37",
         "989.001038853207",
         "6D",
         "2021-05-04 01:25:17",
         "2021-05-04 01:29:06"
        ],
        [
         "38",
         "989.00103885202",
         "6D",
         "2021-05-04 01:28:31",
         "2021-05-04 01:28:31"
        ],
        [
         "39",
         "989.001038851455",
         "6D",
         "2021-05-04 01:47:51",
         "2021-05-04 01:50:50"
        ],
        [
         "40",
         "989.001038850483",
         "6D",
         "2021-05-04 01:48:19",
         "2021-05-04 05:01:29"
        ],
        [
         "41",
         "989.001038849792",
         "6D",
         "2021-05-04 01:49:47",
         "2021-05-04 02:28:34"
        ],
        [
         "42",
         "989.001038850823",
         "6D",
         "2021-05-04 01:50:26",
         "2021-05-04 01:54:28"
        ],
        [
         "43",
         "989.00103885056",
         "6D",
         "2021-05-04 02:22:55",
         "2021-05-04 02:59:55"
        ],
        [
         "44",
         "989.001038853466",
         "6D",
         "2021-05-04 02:28:41",
         "2021-05-04 02:28:41"
        ],
        [
         "45",
         "989.001038854231",
         "6D",
         "2021-05-04 02:36:55",
         "2021-05-04 02:36:55"
        ],
        [
         "46",
         "989.001038850181",
         "6D",
         "2021-05-04 02:44:49",
         "2021-05-04 02:44:49"
        ],
        [
         "47",
         "989.001038853306",
         "6D",
         "2021-05-04 03:20:57",
         "2021-05-04 03:57:49"
        ],
        [
         "48",
         "989.001038850956",
         "6D",
         "2021-05-04 04:01:39",
         "2021-05-04 04:01:39"
        ],
        [
         "49",
         "989.001038852408",
         "6D",
         "2021-05-04 04:24:52",
         "2021-05-04 04:24:52"
        ]
       ],
       "shape": {
        "columns": 4,
        "rows": 37234
       }
      },
      "text/html": [
       "<div>\n",
       "<style scoped>\n",
       "    .dataframe tbody tr th:only-of-type {\n",
       "        vertical-align: middle;\n",
       "    }\n",
       "\n",
       "    .dataframe tbody tr th {\n",
       "        vertical-align: top;\n",
       "    }\n",
       "\n",
       "    .dataframe thead th {\n",
       "        text-align: right;\n",
       "    }\n",
       "</style>\n",
       "<table border=\"1\" class=\"dataframe\">\n",
       "  <thead>\n",
       "    <tr style=\"text-align: right;\">\n",
       "      <th></th>\n",
       "      <th>tag_id</th>\n",
       "      <th>loc_code</th>\n",
       "      <th>start_time</th>\n",
       "      <th>end_time</th>\n",
       "    </tr>\n",
       "  </thead>\n",
       "  <tbody>\n",
       "    <tr>\n",
       "      <th>0</th>\n",
       "      <td>989.001007</td>\n",
       "      <td>7A</td>\n",
       "      <td>2020-09-26 10:36:39.030000</td>\n",
       "      <td>2020-09-26 10:38:44.320000</td>\n",
       "    </tr>\n",
       "    <tr>\n",
       "      <th>1</th>\n",
       "      <td>989.001033</td>\n",
       "      <td>21</td>\n",
       "      <td>2020-09-27 07:04:30.360000</td>\n",
       "      <td>2020-09-27 07:04:30.360000</td>\n",
       "    </tr>\n",
       "    <tr>\n",
       "      <th>2</th>\n",
       "      <td>989.001007</td>\n",
       "      <td>22</td>\n",
       "      <td>2020-10-03 04:12:49.280000</td>\n",
       "      <td>2020-10-03 04:12:49.280000</td>\n",
       "    </tr>\n",
       "    <tr>\n",
       "      <th>3</th>\n",
       "      <td>989.001007</td>\n",
       "      <td>232</td>\n",
       "      <td>2020-10-23 19:55:21.760000</td>\n",
       "      <td>2020-10-23 19:59:11.080000</td>\n",
       "    </tr>\n",
       "    <tr>\n",
       "      <th>4</th>\n",
       "      <td>989.001007</td>\n",
       "      <td>231</td>\n",
       "      <td>2020-10-23 19:59:21.450000</td>\n",
       "      <td>2020-10-23 20:05:58.390000</td>\n",
       "    </tr>\n",
       "    <tr>\n",
       "      <th>...</th>\n",
       "      <td>...</td>\n",
       "      <td>...</td>\n",
       "      <td>...</td>\n",
       "      <td>...</td>\n",
       "    </tr>\n",
       "    <tr>\n",
       "      <th>37242</th>\n",
       "      <td>989.002028</td>\n",
       "      <td>202</td>\n",
       "      <td>2025-01-31 23:04:42.340000</td>\n",
       "      <td>2025-01-31 23:04:42.340000</td>\n",
       "    </tr>\n",
       "    <tr>\n",
       "      <th>37243</th>\n",
       "      <td>989.002028</td>\n",
       "      <td>201</td>\n",
       "      <td>2025-01-31 23:08:05.630000</td>\n",
       "      <td>2025-01-31 23:08:05.630000</td>\n",
       "    </tr>\n",
       "    <tr>\n",
       "      <th>37244</th>\n",
       "      <td>989.001034</td>\n",
       "      <td>401</td>\n",
       "      <td>2025-02-01 01:12:03.700000</td>\n",
       "      <td>2025-02-01 01:12:03.700000</td>\n",
       "    </tr>\n",
       "    <tr>\n",
       "      <th>37245</th>\n",
       "      <td>989.001034</td>\n",
       "      <td>402</td>\n",
       "      <td>2025-02-05 01:07:23.460000</td>\n",
       "      <td>2025-02-05 01:07:23.460000</td>\n",
       "    </tr>\n",
       "    <tr>\n",
       "      <th>37246</th>\n",
       "      <td>989.002028</td>\n",
       "      <td>702</td>\n",
       "      <td>2025-02-06 00:19:28.940000</td>\n",
       "      <td>2025-02-06 02:39:46.360000</td>\n",
       "    </tr>\n",
       "  </tbody>\n",
       "</table>\n",
       "<p>37234 rows × 4 columns</p>\n",
       "</div>"
      ],
      "text/plain": [
       "           tag_id loc_code                  start_time  \\\n",
       "0      989.001007       7A  2020-09-26 10:36:39.030000   \n",
       "1      989.001033       21  2020-09-27 07:04:30.360000   \n",
       "2      989.001007       22  2020-10-03 04:12:49.280000   \n",
       "3      989.001007      232  2020-10-23 19:55:21.760000   \n",
       "4      989.001007      231  2020-10-23 19:59:21.450000   \n",
       "...           ...      ...                         ...   \n",
       "37242  989.002028      202  2025-01-31 23:04:42.340000   \n",
       "37243  989.002028      201  2025-01-31 23:08:05.630000   \n",
       "37244  989.001034      401  2025-02-01 01:12:03.700000   \n",
       "37245  989.001034      402  2025-02-05 01:07:23.460000   \n",
       "37246  989.002028      702  2025-02-06 00:19:28.940000   \n",
       "\n",
       "                         end_time  \n",
       "0      2020-09-26 10:38:44.320000  \n",
       "1      2020-09-27 07:04:30.360000  \n",
       "2      2020-10-03 04:12:49.280000  \n",
       "3      2020-10-23 19:59:11.080000  \n",
       "4      2020-10-23 20:05:58.390000  \n",
       "...                           ...  \n",
       "37242  2025-01-31 23:04:42.340000  \n",
       "37243  2025-01-31 23:08:05.630000  \n",
       "37244  2025-02-01 01:12:03.700000  \n",
       "37245  2025-02-05 01:07:23.460000  \n",
       "37246  2025-02-06 02:39:46.360000  \n",
       "\n",
       "[37234 rows x 4 columns]"
      ]
     },
     "execution_count": 3,
     "metadata": {},
     "output_type": "execute_result"
    }
   ],
   "source": [
    "direction = dwell_loc[['tag_id', 'loc_code', 'start_time', 'end_time']]\n",
    "direction = direction[direction['loc_code']!='3M'].replace('60','61') # remove 3M, 60 and 61 are the same-so replace\n",
    "direction"
   ]
  },
  {
   "cell_type": "markdown",
   "metadata": {},
   "source": [
    "Testing the workflow for a single tag"
   ]
  },
  {
   "cell_type": "code",
   "execution_count": 4,
   "metadata": {},
   "outputs": [
    {
     "data": {
      "application/vnd.microsoft.datawrangler.viewer.v0+json": {
       "columns": [
        {
         "name": "index",
         "rawType": "int64",
         "type": "integer"
        },
        {
         "name": "tag_id",
         "rawType": "float64",
         "type": "float"
        },
        {
         "name": "loc_code",
         "rawType": "object",
         "type": "string"
        },
        {
         "name": "start_time",
         "rawType": "object",
         "type": "string"
        },
        {
         "name": "end_time",
         "rawType": "object",
         "type": "string"
        }
       ],
       "conversionMethod": "pd.DataFrame",
       "ref": "d1641c17-d3ac-45bf-9664-c3986557c1ff",
       "rows": [
        [
         "8",
         "989.001038869832",
         "84",
         "2021-04-29 13:13:27.770000",
         "2021-04-29 13:13:27.770000"
        ],
        [
         "9",
         "989.001038869832",
         "83",
         "2021-04-29 14:02:14.730000",
         "2021-04-29 14:02:14.730000"
        ],
        [
         "10",
         "989.001038869832",
         "84",
         "2021-04-29 14:27:06.900000",
         "2021-04-29 19:16:29.670000"
        ],
        [
         "13",
         "989.001038869832",
         "83",
         "2021-04-29 19:33:12.160000",
         "2021-04-29 19:34:53.880000"
        ],
        [
         "14",
         "989.001038869832",
         "84",
         "2021-04-29 19:43:05",
         "2021-04-29 20:16:52.380000"
        ],
        [
         "837",
         "989.001038869832",
         "83",
         "2021-09-30 07:31:40.930000",
         "2021-09-30 07:31:40.930000"
        ],
        [
         "838",
         "989.001038869832",
         "84",
         "2021-09-30 07:35:06.370000",
         "2021-09-30 07:35:06.370000"
        ]
       ],
       "shape": {
        "columns": 4,
        "rows": 7
       }
      },
      "text/html": [
       "<div>\n",
       "<style scoped>\n",
       "    .dataframe tbody tr th:only-of-type {\n",
       "        vertical-align: middle;\n",
       "    }\n",
       "\n",
       "    .dataframe tbody tr th {\n",
       "        vertical-align: top;\n",
       "    }\n",
       "\n",
       "    .dataframe thead th {\n",
       "        text-align: right;\n",
       "    }\n",
       "</style>\n",
       "<table border=\"1\" class=\"dataframe\">\n",
       "  <thead>\n",
       "    <tr style=\"text-align: right;\">\n",
       "      <th></th>\n",
       "      <th>tag_id</th>\n",
       "      <th>loc_code</th>\n",
       "      <th>start_time</th>\n",
       "      <th>end_time</th>\n",
       "    </tr>\n",
       "  </thead>\n",
       "  <tbody>\n",
       "    <tr>\n",
       "      <th>8</th>\n",
       "      <td>989.001039</td>\n",
       "      <td>84</td>\n",
       "      <td>2021-04-29 13:13:27.770000</td>\n",
       "      <td>2021-04-29 13:13:27.770000</td>\n",
       "    </tr>\n",
       "    <tr>\n",
       "      <th>9</th>\n",
       "      <td>989.001039</td>\n",
       "      <td>83</td>\n",
       "      <td>2021-04-29 14:02:14.730000</td>\n",
       "      <td>2021-04-29 14:02:14.730000</td>\n",
       "    </tr>\n",
       "    <tr>\n",
       "      <th>10</th>\n",
       "      <td>989.001039</td>\n",
       "      <td>84</td>\n",
       "      <td>2021-04-29 14:27:06.900000</td>\n",
       "      <td>2021-04-29 19:16:29.670000</td>\n",
       "    </tr>\n",
       "    <tr>\n",
       "      <th>13</th>\n",
       "      <td>989.001039</td>\n",
       "      <td>83</td>\n",
       "      <td>2021-04-29 19:33:12.160000</td>\n",
       "      <td>2021-04-29 19:34:53.880000</td>\n",
       "    </tr>\n",
       "    <tr>\n",
       "      <th>14</th>\n",
       "      <td>989.001039</td>\n",
       "      <td>84</td>\n",
       "      <td>2021-04-29 19:43:05</td>\n",
       "      <td>2021-04-29 20:16:52.380000</td>\n",
       "    </tr>\n",
       "    <tr>\n",
       "      <th>837</th>\n",
       "      <td>989.001039</td>\n",
       "      <td>83</td>\n",
       "      <td>2021-09-30 07:31:40.930000</td>\n",
       "      <td>2021-09-30 07:31:40.930000</td>\n",
       "    </tr>\n",
       "    <tr>\n",
       "      <th>838</th>\n",
       "      <td>989.001039</td>\n",
       "      <td>84</td>\n",
       "      <td>2021-09-30 07:35:06.370000</td>\n",
       "      <td>2021-09-30 07:35:06.370000</td>\n",
       "    </tr>\n",
       "  </tbody>\n",
       "</table>\n",
       "</div>"
      ],
      "text/plain": [
       "         tag_id loc_code                  start_time  \\\n",
       "8    989.001039       84  2021-04-29 13:13:27.770000   \n",
       "9    989.001039       83  2021-04-29 14:02:14.730000   \n",
       "10   989.001039       84  2021-04-29 14:27:06.900000   \n",
       "13   989.001039       83  2021-04-29 19:33:12.160000   \n",
       "14   989.001039       84         2021-04-29 19:43:05   \n",
       "837  989.001039       83  2021-09-30 07:31:40.930000   \n",
       "838  989.001039       84  2021-09-30 07:35:06.370000   \n",
       "\n",
       "                       end_time  \n",
       "8    2021-04-29 13:13:27.770000  \n",
       "9    2021-04-29 14:02:14.730000  \n",
       "10   2021-04-29 19:16:29.670000  \n",
       "13   2021-04-29 19:34:53.880000  \n",
       "14   2021-04-29 20:16:52.380000  \n",
       "837  2021-09-30 07:31:40.930000  \n",
       "838  2021-09-30 07:35:06.370000  "
      ]
     },
     "execution_count": 4,
     "metadata": {},
     "output_type": "execute_result"
    }
   ],
   "source": [
    "ind = direction[direction['tag_id'] == 989.001038869832]\n",
    "ind"
   ]
  },
  {
   "cell_type": "code",
   "execution_count": null,
   "metadata": {},
   "outputs": [
    {
     "name": "stderr",
     "output_type": "stream",
     "text": [
      "C:\\Users\\hp\\AppData\\Local\\Temp\\ipykernel_15928\\973129667.py:5: SettingWithCopyWarning: \n",
      "A value is trying to be set on a copy of a slice from a DataFrame.\n",
      "Try using .loc[row_indexer,col_indexer] = value instead\n",
      "\n",
      "See the caveats in the documentation: https://pandas.pydata.org/pandas-docs/stable/user_guide/indexing.html#returning-a-view-versus-a-copy\n",
      "  ind[\"start_shift\"] = ind[\"start_time\"].shift(-1)\n"
     ]
    },
    {
     "data": {
      "application/vnd.microsoft.datawrangler.viewer.v0+json": {
       "columns": [
        {
         "name": "index",
         "rawType": "int64",
         "type": "integer"
        },
        {
         "name": "tag_id",
         "rawType": "float64",
         "type": "float"
        },
        {
         "name": "loc_code",
         "rawType": "object",
         "type": "string"
        },
        {
         "name": "start_time",
         "rawType": "object",
         "type": "string"
        },
        {
         "name": "end_time",
         "rawType": "object",
         "type": "string"
        },
        {
         "name": "start_shift",
         "rawType": "object",
         "type": "unknown"
        }
       ],
       "conversionMethod": "pd.DataFrame",
       "ref": "de000921-1207-461e-ba9e-5377b89ea372",
       "rows": [
        [
         "8",
         "989.001038869832",
         "84",
         "2021-04-29 13:13:27.770000",
         "2021-04-29 13:13:27.770000",
         "2021-04-29 14:02:14.730000"
        ],
        [
         "9",
         "989.001038869832",
         "83",
         "2021-04-29 14:02:14.730000",
         "2021-04-29 14:02:14.730000",
         "2021-04-29 14:27:06.900000"
        ],
        [
         "10",
         "989.001038869832",
         "84",
         "2021-04-29 14:27:06.900000",
         "2021-04-29 19:16:29.670000",
         "2021-04-29 19:33:12.160000"
        ],
        [
         "13",
         "989.001038869832",
         "83",
         "2021-04-29 19:33:12.160000",
         "2021-04-29 19:34:53.880000",
         "2021-04-29 19:43:05"
        ],
        [
         "14",
         "989.001038869832",
         "84",
         "2021-04-29 19:43:05",
         "2021-04-29 20:16:52.380000",
         "2021-09-30 07:31:40.930000"
        ],
        [
         "837",
         "989.001038869832",
         "83",
         "2021-09-30 07:31:40.930000",
         "2021-09-30 07:31:40.930000",
         "2021-09-30 07:35:06.370000"
        ],
        [
         "838",
         "989.001038869832",
         "84",
         "2021-09-30 07:35:06.370000",
         "2021-09-30 07:35:06.370000",
         null
        ]
       ],
       "shape": {
        "columns": 5,
        "rows": 7
       }
      },
      "text/html": [
       "<div>\n",
       "<style scoped>\n",
       "    .dataframe tbody tr th:only-of-type {\n",
       "        vertical-align: middle;\n",
       "    }\n",
       "\n",
       "    .dataframe tbody tr th {\n",
       "        vertical-align: top;\n",
       "    }\n",
       "\n",
       "    .dataframe thead th {\n",
       "        text-align: right;\n",
       "    }\n",
       "</style>\n",
       "<table border=\"1\" class=\"dataframe\">\n",
       "  <thead>\n",
       "    <tr style=\"text-align: right;\">\n",
       "      <th></th>\n",
       "      <th>tag_id</th>\n",
       "      <th>loc_code</th>\n",
       "      <th>start_time</th>\n",
       "      <th>end_time</th>\n",
       "      <th>start_shift</th>\n",
       "    </tr>\n",
       "  </thead>\n",
       "  <tbody>\n",
       "    <tr>\n",
       "      <th>8</th>\n",
       "      <td>989.001039</td>\n",
       "      <td>84</td>\n",
       "      <td>2021-04-29 13:13:27.770000</td>\n",
       "      <td>2021-04-29 13:13:27.770000</td>\n",
       "      <td>2021-04-29 14:02:14.730000</td>\n",
       "    </tr>\n",
       "    <tr>\n",
       "      <th>9</th>\n",
       "      <td>989.001039</td>\n",
       "      <td>83</td>\n",
       "      <td>2021-04-29 14:02:14.730000</td>\n",
       "      <td>2021-04-29 14:02:14.730000</td>\n",
       "      <td>2021-04-29 14:27:06.900000</td>\n",
       "    </tr>\n",
       "    <tr>\n",
       "      <th>10</th>\n",
       "      <td>989.001039</td>\n",
       "      <td>84</td>\n",
       "      <td>2021-04-29 14:27:06.900000</td>\n",
       "      <td>2021-04-29 19:16:29.670000</td>\n",
       "      <td>2021-04-29 19:33:12.160000</td>\n",
       "    </tr>\n",
       "    <tr>\n",
       "      <th>13</th>\n",
       "      <td>989.001039</td>\n",
       "      <td>83</td>\n",
       "      <td>2021-04-29 19:33:12.160000</td>\n",
       "      <td>2021-04-29 19:34:53.880000</td>\n",
       "      <td>2021-04-29 19:43:05</td>\n",
       "    </tr>\n",
       "    <tr>\n",
       "      <th>14</th>\n",
       "      <td>989.001039</td>\n",
       "      <td>84</td>\n",
       "      <td>2021-04-29 19:43:05</td>\n",
       "      <td>2021-04-29 20:16:52.380000</td>\n",
       "      <td>2021-09-30 07:31:40.930000</td>\n",
       "    </tr>\n",
       "    <tr>\n",
       "      <th>837</th>\n",
       "      <td>989.001039</td>\n",
       "      <td>83</td>\n",
       "      <td>2021-09-30 07:31:40.930000</td>\n",
       "      <td>2021-09-30 07:31:40.930000</td>\n",
       "      <td>2021-09-30 07:35:06.370000</td>\n",
       "    </tr>\n",
       "    <tr>\n",
       "      <th>838</th>\n",
       "      <td>989.001039</td>\n",
       "      <td>84</td>\n",
       "      <td>2021-09-30 07:35:06.370000</td>\n",
       "      <td>2021-09-30 07:35:06.370000</td>\n",
       "      <td>None</td>\n",
       "    </tr>\n",
       "  </tbody>\n",
       "</table>\n",
       "</div>"
      ],
      "text/plain": [
       "         tag_id loc_code                  start_time  \\\n",
       "8    989.001039       84  2021-04-29 13:13:27.770000   \n",
       "9    989.001039       83  2021-04-29 14:02:14.730000   \n",
       "10   989.001039       84  2021-04-29 14:27:06.900000   \n",
       "13   989.001039       83  2021-04-29 19:33:12.160000   \n",
       "14   989.001039       84         2021-04-29 19:43:05   \n",
       "837  989.001039       83  2021-09-30 07:31:40.930000   \n",
       "838  989.001039       84  2021-09-30 07:35:06.370000   \n",
       "\n",
       "                       end_time                 start_shift  \n",
       "8    2021-04-29 13:13:27.770000  2021-04-29 14:02:14.730000  \n",
       "9    2021-04-29 14:02:14.730000  2021-04-29 14:27:06.900000  \n",
       "10   2021-04-29 19:16:29.670000  2021-04-29 19:33:12.160000  \n",
       "13   2021-04-29 19:34:53.880000         2021-04-29 19:43:05  \n",
       "14   2021-04-29 20:16:52.380000  2021-09-30 07:31:40.930000  \n",
       "837  2021-09-30 07:31:40.930000  2021-09-30 07:35:06.370000  \n",
       "838  2021-09-30 07:35:06.370000                        None  "
      ]
     },
     "execution_count": 5,
     "metadata": {},
     "output_type": "execute_result"
    }
   ],
   "source": [
    "ind[\"start_shift\"] = ind[\"start_time\"].shift(-1) \n",
    "ind"
   ]
  },
  {
   "cell_type": "code",
   "execution_count": null,
   "metadata": {},
   "outputs": [
    {
     "name": "stderr",
     "output_type": "stream",
     "text": [
      "C:\\Users\\hp\\AppData\\Local\\Temp\\ipykernel_15928\\1031816855.py:2: SettingWithCopyWarning: \n",
      "A value is trying to be set on a copy of a slice from a DataFrame.\n",
      "Try using .loc[row_indexer,col_indexer] = value instead\n",
      "\n",
      "See the caveats in the documentation: https://pandas.pydata.org/pandas-docs/stable/user_guide/indexing.html#returning-a-view-versus-a-copy\n",
      "  ind[\"start_time\"] = pd.to_datetime(ind[\"start_time\"], format=\"ISO8601\", errors=\"coerce\")\n",
      "C:\\Users\\hp\\AppData\\Local\\Temp\\ipykernel_15928\\1031816855.py:3: SettingWithCopyWarning: \n",
      "A value is trying to be set on a copy of a slice from a DataFrame.\n",
      "Try using .loc[row_indexer,col_indexer] = value instead\n",
      "\n",
      "See the caveats in the documentation: https://pandas.pydata.org/pandas-docs/stable/user_guide/indexing.html#returning-a-view-versus-a-copy\n",
      "  ind[\"end_time\"] = pd.to_datetime(ind[\"end_time\"], format=\"ISO8601\", errors=\"coerce\")\n",
      "C:\\Users\\hp\\AppData\\Local\\Temp\\ipykernel_15928\\1031816855.py:4: SettingWithCopyWarning: \n",
      "A value is trying to be set on a copy of a slice from a DataFrame.\n",
      "Try using .loc[row_indexer,col_indexer] = value instead\n",
      "\n",
      "See the caveats in the documentation: https://pandas.pydata.org/pandas-docs/stable/user_guide/indexing.html#returning-a-view-versus-a-copy\n",
      "  ind[\"start_shift\"] = pd.to_datetime(ind[\"start_shift\"], format=\"ISO8601\", errors=\"coerce\")  # Convert 'NaT' to proper datetime NaT\n",
      "C:\\Users\\hp\\AppData\\Local\\Temp\\ipykernel_15928\\1031816855.py:7: SettingWithCopyWarning: \n",
      "A value is trying to be set on a copy of a slice from a DataFrame.\n",
      "Try using .loc[row_indexer,col_indexer] = value instead\n",
      "\n",
      "See the caveats in the documentation: https://pandas.pydata.org/pandas-docs/stable/user_guide/indexing.html#returning-a-view-versus-a-copy\n",
      "  ind[\"time_between_detection\"] = ind[\"start_shift\"] - ind[\"end_time\"]\n"
     ]
    },
    {
     "data": {
      "application/vnd.microsoft.datawrangler.viewer.v0+json": {
       "columns": [
        {
         "name": "index",
         "rawType": "int64",
         "type": "integer"
        },
        {
         "name": "tag_id",
         "rawType": "float64",
         "type": "float"
        },
        {
         "name": "loc_code",
         "rawType": "object",
         "type": "string"
        },
        {
         "name": "start_time",
         "rawType": "datetime64[ns]",
         "type": "datetime"
        },
        {
         "name": "end_time",
         "rawType": "datetime64[ns]",
         "type": "datetime"
        },
        {
         "name": "start_shift",
         "rawType": "datetime64[ns]",
         "type": "datetime"
        },
        {
         "name": "time_between_detection",
         "rawType": "timedelta64[ns]",
         "type": "unknown"
        }
       ],
       "conversionMethod": "pd.DataFrame",
       "ref": "83d7e5e1-bfb4-47be-ba97-1340398cb486",
       "rows": [
        [
         "8",
         "989.001038869832",
         "84",
         "2021-04-29 13:13:27.770000",
         "2021-04-29 13:13:27.770000",
         "2021-04-29 14:02:14.730000",
         "0 days 00:48:46.960000"
        ],
        [
         "9",
         "989.001038869832",
         "83",
         "2021-04-29 14:02:14.730000",
         "2021-04-29 14:02:14.730000",
         "2021-04-29 14:27:06.900000",
         "0 days 00:24:52.170000"
        ],
        [
         "10",
         "989.001038869832",
         "84",
         "2021-04-29 14:27:06.900000",
         "2021-04-29 19:16:29.670000",
         "2021-04-29 19:33:12.160000",
         "0 days 00:16:42.490000"
        ],
        [
         "13",
         "989.001038869832",
         "83",
         "2021-04-29 19:33:12.160000",
         "2021-04-29 19:34:53.880000",
         "2021-04-29 19:43:05",
         "0 days 00:08:11.120000"
        ],
        [
         "14",
         "989.001038869832",
         "84",
         "2021-04-29 19:43:05",
         "2021-04-29 20:16:52.380000",
         "2021-09-30 07:31:40.930000",
         "153 days 11:14:48.550000"
        ],
        [
         "837",
         "989.001038869832",
         "83",
         "2021-09-30 07:31:40.930000",
         "2021-09-30 07:31:40.930000",
         "2021-09-30 07:35:06.370000",
         "0 days 00:03:25.440000"
        ],
        [
         "838",
         "989.001038869832",
         "84",
         "2021-09-30 07:35:06.370000",
         "2021-09-30 07:35:06.370000",
         null,
         null
        ]
       ],
       "shape": {
        "columns": 6,
        "rows": 7
       }
      },
      "text/html": [
       "<div>\n",
       "<style scoped>\n",
       "    .dataframe tbody tr th:only-of-type {\n",
       "        vertical-align: middle;\n",
       "    }\n",
       "\n",
       "    .dataframe tbody tr th {\n",
       "        vertical-align: top;\n",
       "    }\n",
       "\n",
       "    .dataframe thead th {\n",
       "        text-align: right;\n",
       "    }\n",
       "</style>\n",
       "<table border=\"1\" class=\"dataframe\">\n",
       "  <thead>\n",
       "    <tr style=\"text-align: right;\">\n",
       "      <th></th>\n",
       "      <th>tag_id</th>\n",
       "      <th>loc_code</th>\n",
       "      <th>start_time</th>\n",
       "      <th>end_time</th>\n",
       "      <th>start_shift</th>\n",
       "      <th>time_between_detection</th>\n",
       "    </tr>\n",
       "  </thead>\n",
       "  <tbody>\n",
       "    <tr>\n",
       "      <th>8</th>\n",
       "      <td>989.001039</td>\n",
       "      <td>84</td>\n",
       "      <td>2021-04-29 13:13:27.770</td>\n",
       "      <td>2021-04-29 13:13:27.770</td>\n",
       "      <td>2021-04-29 14:02:14.730</td>\n",
       "      <td>0 days 00:48:46.960000</td>\n",
       "    </tr>\n",
       "    <tr>\n",
       "      <th>9</th>\n",
       "      <td>989.001039</td>\n",
       "      <td>83</td>\n",
       "      <td>2021-04-29 14:02:14.730</td>\n",
       "      <td>2021-04-29 14:02:14.730</td>\n",
       "      <td>2021-04-29 14:27:06.900</td>\n",
       "      <td>0 days 00:24:52.170000</td>\n",
       "    </tr>\n",
       "    <tr>\n",
       "      <th>10</th>\n",
       "      <td>989.001039</td>\n",
       "      <td>84</td>\n",
       "      <td>2021-04-29 14:27:06.900</td>\n",
       "      <td>2021-04-29 19:16:29.670</td>\n",
       "      <td>2021-04-29 19:33:12.160</td>\n",
       "      <td>0 days 00:16:42.490000</td>\n",
       "    </tr>\n",
       "    <tr>\n",
       "      <th>13</th>\n",
       "      <td>989.001039</td>\n",
       "      <td>83</td>\n",
       "      <td>2021-04-29 19:33:12.160</td>\n",
       "      <td>2021-04-29 19:34:53.880</td>\n",
       "      <td>2021-04-29 19:43:05.000</td>\n",
       "      <td>0 days 00:08:11.120000</td>\n",
       "    </tr>\n",
       "    <tr>\n",
       "      <th>14</th>\n",
       "      <td>989.001039</td>\n",
       "      <td>84</td>\n",
       "      <td>2021-04-29 19:43:05.000</td>\n",
       "      <td>2021-04-29 20:16:52.380</td>\n",
       "      <td>2021-09-30 07:31:40.930</td>\n",
       "      <td>153 days 11:14:48.550000</td>\n",
       "    </tr>\n",
       "    <tr>\n",
       "      <th>837</th>\n",
       "      <td>989.001039</td>\n",
       "      <td>83</td>\n",
       "      <td>2021-09-30 07:31:40.930</td>\n",
       "      <td>2021-09-30 07:31:40.930</td>\n",
       "      <td>2021-09-30 07:35:06.370</td>\n",
       "      <td>0 days 00:03:25.440000</td>\n",
       "    </tr>\n",
       "    <tr>\n",
       "      <th>838</th>\n",
       "      <td>989.001039</td>\n",
       "      <td>84</td>\n",
       "      <td>2021-09-30 07:35:06.370</td>\n",
       "      <td>2021-09-30 07:35:06.370</td>\n",
       "      <td>NaT</td>\n",
       "      <td>NaT</td>\n",
       "    </tr>\n",
       "  </tbody>\n",
       "</table>\n",
       "</div>"
      ],
      "text/plain": [
       "         tag_id loc_code              start_time                end_time  \\\n",
       "8    989.001039       84 2021-04-29 13:13:27.770 2021-04-29 13:13:27.770   \n",
       "9    989.001039       83 2021-04-29 14:02:14.730 2021-04-29 14:02:14.730   \n",
       "10   989.001039       84 2021-04-29 14:27:06.900 2021-04-29 19:16:29.670   \n",
       "13   989.001039       83 2021-04-29 19:33:12.160 2021-04-29 19:34:53.880   \n",
       "14   989.001039       84 2021-04-29 19:43:05.000 2021-04-29 20:16:52.380   \n",
       "837  989.001039       83 2021-09-30 07:31:40.930 2021-09-30 07:31:40.930   \n",
       "838  989.001039       84 2021-09-30 07:35:06.370 2021-09-30 07:35:06.370   \n",
       "\n",
       "                start_shift   time_between_detection  \n",
       "8   2021-04-29 14:02:14.730   0 days 00:48:46.960000  \n",
       "9   2021-04-29 14:27:06.900   0 days 00:24:52.170000  \n",
       "10  2021-04-29 19:33:12.160   0 days 00:16:42.490000  \n",
       "13  2021-04-29 19:43:05.000   0 days 00:08:11.120000  \n",
       "14  2021-09-30 07:31:40.930 153 days 11:14:48.550000  \n",
       "837 2021-09-30 07:35:06.370   0 days 00:03:25.440000  \n",
       "838                     NaT                      NaT  "
      ]
     },
     "execution_count": 6,
     "metadata": {},
     "output_type": "execute_result"
    }
   ],
   "source": [
    "ind[\"start_time\"] = pd.to_datetime(ind[\"start_time\"], format=\"ISO8601\", errors=\"coerce\")\n",
    "ind[\"end_time\"] = pd.to_datetime(ind[\"end_time\"], format=\"ISO8601\", errors=\"coerce\")\n",
    "ind[\"start_shift\"] = pd.to_datetime(ind[\"start_shift\"], format=\"ISO8601\", errors=\"coerce\")  # Convert 'NaT' to proper datetime NaT\n",
    "\n",
    "ind[\"time_between_detection\"] = ind[\"start_shift\"] - ind[\"end_time\"]\n",
    "\n",
    "ind"
   ]
  },
  {
   "cell_type": "markdown",
   "metadata": {},
   "source": [
    "Continuing for the dataframe - direction"
   ]
  },
  {
   "cell_type": "code",
   "execution_count": null,
   "metadata": {},
   "outputs": [
    {
     "name": "stdout",
     "output_type": "stream",
     "text": [
      "          tag_id                                      sequence_data\n",
      "0     989.001007  {'loc_code': ['61', '6A', '6B', '6A', '61'], '...\n",
      "1     989.001007  {'loc_code': ['22', '202', '201'], 'time_betwe...\n",
      "2     989.001007  {'loc_code': ['6A', '6B', '6A', '6B', '6A'], '...\n",
      "3     989.001007  {'loc_code': ['61', '6A', '6B'], 'time_between...\n",
      "4     989.001007  {'loc_code': ['202', '201'], 'time_between_det...\n",
      "...          ...                                                ...\n",
      "6996  989.002028  {'loc_code': ['91'], 'time_between_detections'...\n",
      "6997  989.002028  {'loc_code': ['91', '922', '9A', '9B'], 'time_...\n",
      "6998  989.002028  {'loc_code': ['91', '921', '922', '9A', '9B'],...\n",
      "6999  989.002028  {'loc_code': ['91'], 'time_between_detections'...\n",
      "7000  989.002028  {'loc_code': ['91', '922', '921', '922', '9B',...\n",
      "\n",
      "[7001 rows x 2 columns]\n"
     ]
    }
   ],
   "source": [
    "direction[\"start_time\"] = pd.to_datetime(direction[\"start_time\"], errors=\"coerce\")\n",
    "direction[\"end_time\"] = pd.to_datetime(direction[\"end_time\"], errors=\"coerce\")\n",
    "\n",
    "def calculate_sequences(group):\n",
    "    \n",
    "    group[\"start_shift\"] = group[\"start_time\"].shift(-1)\n",
    "    group[\"time_between_detection\"] = group[\"start_shift\"] - group[\"end_time\"]\n",
    "    return {\n",
    "        \n",
    "        \"loc_code\": group[\"loc_code\"].tolist(),\n",
    "        \"time_between_detections\": group[\"time_between_detection\"].tolist(),\n",
    "    }\n",
    "\n",
    "sequence_data = direction.groupby(\"tag_id\").apply(calculate_sequences).reset_index(name=\"sequence_data\")\n",
    "\n",
    "print(sequence_data)\n"
   ]
  },
  {
   "cell_type": "code",
   "execution_count": 10,
   "metadata": {},
   "outputs": [
    {
     "data": {
      "application/vnd.microsoft.datawrangler.viewer.v0+json": {
       "columns": [
        {
         "name": "index",
         "rawType": "int64",
         "type": "integer"
        },
        {
         "name": "tag_id",
         "rawType": "float64",
         "type": "float"
        },
        {
         "name": "loc_code",
         "rawType": "object",
         "type": "unknown"
        },
        {
         "name": "time_between_detections",
         "rawType": "object",
         "type": "unknown"
        }
       ],
       "conversionMethod": "pd.DataFrame",
       "ref": "3ccb7124-2531-46e8-9ff7-3d6a5d00821c",
       "rows": [
        [
         "0",
         "989.00100659888",
         "['61', '6A', '6B', '6A', '61']",
         "[Timedelta('0 days 00:15:36.770000'), Timedelta('0 days 00:15:46.650000'), Timedelta('0 days 00:08:37.690000'), Timedelta('0 days 00:16:47.650000'), NaT]"
        ],
        [
         "1",
         "989.001006608003",
         "['22', '202', '201']",
         "[Timedelta('14 days 21:54:52.150000'), Timedelta('0 days 00:05:54.750000'), NaT]"
        ],
        [
         "2",
         "989.001006608062",
         "['6A', '6B', '6A', '6B', '6A']",
         "[Timedelta('0 days 00:00:06.370000'), Timedelta('0 days 00:00:16.130000'), Timedelta('0 days 00:04:59.590000'), Timedelta('0 days 00:00:42.250000'), NaT]"
        ],
        [
         "3",
         "989.001006675482",
         "['61', '6A', '6B']",
         "[Timedelta('0 days 00:07:41.460000'), Timedelta('0 days 00:01:38.940000'), NaT]"
        ],
        [
         "4",
         "989.001006675484",
         "['202', '201']",
         "[Timedelta('0 days 00:20:52.190000'), NaT]"
        ],
        [
         "5",
         "989.001006676104",
         "['402', '401', '402', '401', '402', '401', '402', '401', '402', '401', '402', '401', '402', '401', '402', '401', '402', '401', '402', '401', '402', '401', '402', '401', '402', '401', '402', '401', '402', '401', '402', '401', '402', '401', '402', '401', '402', '401', '402', '401', '402', '401', '402', '401', '402', '401', '402', '401', '402', '401', '402', '401', '402', '401', '402', '401', '402', '401', '402', '401', '402', '401', '402', '401', '402', '401', '402', '401', '402', '401', '402', '401', '402', '401', '402', '401', '402', '401', '402', '401', '402', '401', '402', '401', '402', '401', '402', '401', '402', '401', '402', '401', '402', '401', '402', '401', '402', '401', '402', '401', '402', '401', '402', '401', '402', '401', '402', '401', '402', '401', '402', '401', '402', '401', '402', '401', '402', '401', '402', '401', '402', '401', '402', '401', '402', '401', '402', '401', '402', '401', '402', '401', '402', '401', '402', '401', '402', '401', '402', '401', '402', '401', '402', '401', '402', '401', '402', '401', '402', '401', '402', '401', '402', '401', '402', '401', '402', '401', '402', '401', '402', '401', '402', '401', '402', '401', '402', '401', '402', '401', '402', '401', '402', '401', '402', '401', '402', '401', '402', '401', '402', '401', '402', '401', '402', '401', '402', '401', '402', '401', '402', '401', '402', '401', '402', '401', '402', '401', '402', '401', '402', '401', '402', '401', '402', '401', '402', '401', '402', '401', '402', '401', '402', '401', '402', '401', '402', '401', '402', '401', '402', '401', '402', '401', '402', '401', '402', '401', '402', '401', '402', '401', '402', '401', '402', '401', '402', '401', '402', '401', '402', '401', '402', '401', '402', '401', '402', '401', '402', '401', '402', '401', '402', '401', '402', '401', '402', '401', '402', '401', '402', '401', '402', '401', '402', '401', '402', '401', '402', '401', '402', '401', '402', '401', '402', '401', '402', '401', '402', '401', '402', '401', '402', '401', '402', '401', '402', '401', '402', '401', '402', '401', '402', '401', '402', '401', '402', '401', '402', '401', '402', '401', '402', '401', '402', '401', '402', '401', '402', '401', '402', '401', '402', '401', '402', '401', '402', '401', '402', '401', '402', '401', '402', '401', '402', '401', '402', '401', '402', '401', '402', '401', '402', '401', '402', '401', '402', '401', '402', '401', '402', '401', '402']",
         "[Timedelta('0 days 00:11:02.820000'), Timedelta('0 days 02:08:38.870000'), Timedelta('0 days 02:58:02.930000'), Timedelta('0 days 00:04:19.360000'), Timedelta('0 days 00:05:47.240000'), Timedelta('0 days 17:50:38.630000'), Timedelta('0 days 00:10:30.390000'), Timedelta('0 days 00:11:26.620000'), Timedelta('0 days 00:13:24.060000'), Timedelta('0 days 00:05:41.920000'), Timedelta('0 days 00:15:33.400000'), Timedelta('0 days 01:02:33.380000'), Timedelta('0 days 01:37:42.180000'), Timedelta('0 days 01:27:39.860000'), Timedelta('1 days 21:44:02.340000'), Timedelta('4 days 12:36:16.560000'), Timedelta('0 days 00:16:55.990000'), Timedelta('0 days 00:12:23.870000'), Timedelta('0 days 01:44:50.570000'), Timedelta('0 days 03:25:33'), Timedelta('0 days 00:07:26.010000'), Timedelta('0 days 17:37:00.240000'), Timedelta('0 days 00:06:35.600000'), Timedelta('0 days 18:26:11.650000'), Timedelta('0 days 00:11:53.400000'), Timedelta('0 days 00:04:50.140000'), Timedelta('0 days 00:21:02.030000'), Timedelta('0 days 03:56:51.890000'), Timedelta('0 days 00:16:23.890000'), Timedelta('0 days 00:01:25.200000'), Timedelta('0 days 00:06:21.480000'), Timedelta('0 days 01:15:44.260000'), Timedelta('0 days 00:08:35.500000'), Timedelta('0 days 00:04:44.190000'), Timedelta('0 days 00:07:44.670000'), Timedelta('0 days 07:22:21.660000'), Timedelta('0 days 00:45:23.920000'), Timedelta('0 days 02:00:59.310000'), Timedelta('0 days 00:31:13.940000'), Timedelta('0 days 00:16:45.390000'), Timedelta('0 days 00:37:22.110000'), Timedelta('0 days 00:06:15.950000'), Timedelta('0 days 00:11:16.860000'), Timedelta('0 days 00:05:14.490000'), Timedelta('0 days 00:20:51.460000'), Timedelta('0 days 00:30:37.850000'), Timedelta('0 days 06:04:53.590000'), Timedelta('0 days 01:49:03.570000'), Timedelta('0 days 00:25:14.330000'), Timedelta('0 days 03:56:29.600000'), Timedelta('0 days 00:05:45.830000'), Timedelta('0 days 00:10:59.990000'), Timedelta('0 days 00:06:25.410000'), Timedelta('0 days 00:33:22.370000'), Timedelta('0 days 00:09:24.560000'), Timedelta('0 days 00:14:36.150000'), Timedelta('0 days 04:25:53.750000'), Timedelta('0 days 00:10:08.250000'), Timedelta('0 days 01:18:15.770000'), Timedelta('0 days 00:47:16.100000'), Timedelta('0 days 00:18:13.220000'), Timedelta('0 days 11:31:36.150000'), Timedelta('2 days 04:45:54.080000'), Timedelta('2 days 23:55:27.320000'), Timedelta('0 days 15:34:26.060000'), Timedelta('0 days 02:46:30.560000'), Timedelta('0 days 00:25:13.210000'), Timedelta('0 days 00:03:52.760000'), Timedelta('0 days 00:05:41.660000'), Timedelta('0 days 00:09:24.790000'), Timedelta('0 days 11:16:43.200000'), Timedelta('0 days 00:53:58.730000'), Timedelta('0 days 00:38:46.470000'), Timedelta('0 days 00:07:50.460000'), Timedelta('0 days 00:34:37.890000'), Timedelta('0 days 00:10:30.260000'), Timedelta('0 days 00:10:27.400000'), Timedelta('0 days 00:03:46.680000'), Timedelta('0 days 04:39:49.040000'), NaT, Timedelta('0 days 00:04:11.940000'), Timedelta('0 days 00:04:45.830000'), Timedelta('0 days 00:10:02.290000'), Timedelta('0 days 00:09:20.280000'), Timedelta('0 days 00:15:38.770000'), Timedelta('0 days 00:51:08.400000'), Timedelta('0 days 00:04:32.420000'), Timedelta('0 days 00:06:20.870000'), Timedelta('0 days 00:03:15.260000'), Timedelta('0 days 00:06:11.640000'), Timedelta('0 days 14:14:52.440000'), Timedelta('0 days 00:11:32.110000'), Timedelta('0 days 00:04:21.530000'), Timedelta('0 days 00:21:01.670000'), Timedelta('0 days 00:08:59.660000'), Timedelta('0 days 00:06:49.080000'), Timedelta('0 days 00:08:08.210000'), Timedelta('0 days 00:10:31.660000'), Timedelta('0 days 13:49:00.310000'), Timedelta('0 days 00:14:11.940000'), NaT, Timedelta('0 days 00:06:52.270000'), Timedelta('0 days 00:03:15.460000'), Timedelta('0 days 00:04:22.790000'), Timedelta('0 days 00:07:54.010000'), Timedelta('0 days 13:49:48.240000'), Timedelta('0 days 13:51:21.650000'), Timedelta('0 days 00:05:16.330000'), Timedelta('0 days 00:05:11.010000'), Timedelta('0 days 00:12:43.430000'), Timedelta('0 days 00:05:34.200000'), Timedelta('0 days 00:13:57.660000'), Timedelta('0 days 00:04:34.480000'), Timedelta('0 days 00:23:54.340000'), Timedelta('0 days 00:04:54.040000'), Timedelta('0 days 04:08:16.480000'), Timedelta('0 days 05:17:35.340000'), Timedelta('0 days 00:08:11.320000'), Timedelta('0 days 00:09:14.210000'), NaT, Timedelta('0 days 00:11:35.380000'), Timedelta('0 days 00:22:29.400000'), Timedelta('0 days 00:04:48.330000'), Timedelta('0 days 00:07:03.840000'), Timedelta('0 days 00:08:51.100000'), Timedelta('0 days 00:06:40.830000'), Timedelta('0 days 01:08:59.030000'), Timedelta('0 days 00:06:44.390000'), Timedelta('0 days 00:35:38.170000'), Timedelta('0 days 00:13:31.200000'), Timedelta('0 days 00:38:09.430000'), Timedelta('0 days 00:17:01.400000'), Timedelta('0 days 00:06:04.290000'), Timedelta('0 days 00:20:42.920000'), Timedelta('0 days 00:13:31.900000'), Timedelta('0 days 00:14:50.080000'), Timedelta('0 days 03:50:36.850000'), Timedelta('0 days 00:14:45.630000'), Timedelta('0 days 00:10:34.390000'), Timedelta('0 days 00:10:58.940000'), Timedelta('0 days 00:05:11.500000'), Timedelta('0 days 00:17:55.840000'), Timedelta('0 days 00:07:10.390000'), Timedelta('0 days 00:08:08.020000'), Timedelta('0 days 00:10:16.580000'), Timedelta('0 days 00:07:18.250000'), Timedelta('0 days 00:09:44.880000'), Timedelta('0 days 00:10:19.160000'), Timedelta('0 days 01:12:05.360000'), Timedelta('0 days 00:40:51.400000'), Timedelta('0 days 00:31:02.480000'), Timedelta('0 days 00:05:18.690000'), Timedelta('0 days 00:24:29.010000'), Timedelta('0 days 01:02:37.140000'), Timedelta('0 days 00:12:50.570000'), Timedelta('0 days 04:06:20.910000'), Timedelta('0 days 00:11:50.030000'), Timedelta('0 days 00:06:30.040000'), Timedelta('0 days 00:11:53.910000'), Timedelta('0 days 00:08:30.460000'), Timedelta('0 days 00:19:47.180000'), Timedelta('0 days 00:23:30.450000'), Timedelta('0 days 00:14:25.550000'), Timedelta('0 days 00:15:57.300000'), Timedelta('0 days 00:15:04.330000'), Timedelta('0 days 00:09:13.760000'), Timedelta('0 days 01:08:35.420000'), Timedelta('0 days 00:05:57.670000'), Timedelta('0 days 00:12:52.540000'), Timedelta('0 days 00:08:56.780000'), Timedelta('0 days 00:08:45.750000'), Timedelta('0 days 00:24:42.110000'), Timedelta('0 days 00:12:38.760000'), Timedelta('0 days 00:09:50.510000'), Timedelta('0 days 00:05:19.570000'), Timedelta('0 days 00:07:29.500000'), Timedelta('0 days 00:09:47.080000'), Timedelta('0 days 02:37:49.450000'), Timedelta('0 days 00:45:21.450000'), Timedelta('0 days 00:20:35.310000'), Timedelta('0 days 00:17:16.660000'), Timedelta('0 days 00:27:39.880000'), Timedelta('0 days 03:47:58.920000'), Timedelta('0 days 00:10:00.050000'), Timedelta('0 days 00:11:23.350000'), Timedelta('0 days 03:30:51.310000'), Timedelta('0 days 00:13:29.130000'), Timedelta('0 days 00:21:58.370000'), Timedelta('0 days 00:12:00.600000'), Timedelta('0 days 00:05:38.780000'), Timedelta('0 days 00:13:56.350000'), Timedelta('0 days 00:48:34.800000'), Timedelta('0 days 02:56:01.520000'), Timedelta('0 days 00:24:59.980000'), Timedelta('0 days 00:32:01.620000'), Timedelta('0 days 00:15:27.430000'), Timedelta('0 days 00:09:50.730000'), Timedelta('0 days 00:03:31.230000'), Timedelta('0 days 03:32:18.340000'), NaT, NaT, Timedelta('0 days 00:15:33.520000'), Timedelta('0 days 00:40:13.980000'), Timedelta('0 days 00:23:07.750000'), Timedelta('0 days 01:05:17.200000'), Timedelta('0 days 00:32:12.180000'), Timedelta('0 days 00:06:07.090000'), Timedelta('0 days 00:10:47.120000'), Timedelta('0 days 00:14:11.350000'), Timedelta('0 days 00:10:16.360000'), Timedelta('0 days 00:06:21.200000'), Timedelta('0 days 00:01:52.720000'), Timedelta('0 days 05:41:13.230000'), Timedelta('0 days 04:10:35.740000'), Timedelta('0 days 00:53:11.860000'), Timedelta('0 days 00:12:40.550000'), Timedelta('0 days 00:10:31.170000'), Timedelta('6 days 09:31:18.740000'), Timedelta('0 days 00:07:19.570000'), Timedelta('0 days 00:04:30.910000'), Timedelta('0 days 00:04:31.420000'), Timedelta('1 days 05:15:52.710000'), Timedelta('0 days 00:13:32.300000'), Timedelta('0 days 00:06:14.580000'), Timedelta('0 days 00:05:24.020000'), Timedelta('0 days 00:24:49.780000'), Timedelta('0 days 00:32:33.410000'), Timedelta('0 days 03:06:25.500000'), Timedelta('0 days 00:14:46.030000'), Timedelta('0 days 04:17:36.810000'), Timedelta('0 days 00:38:48.080000'), Timedelta('0 days 00:02:05.210000'), Timedelta('0 days 00:11:26.480000'), Timedelta('0 days 00:06:53.360000'), Timedelta('0 days 00:16:26'), Timedelta('34 days 15:04:55.610000'), Timedelta('0 days 00:54:03.030000'), Timedelta('0 days 00:08:48.640000'), Timedelta('5 days 11:24:10.760000'), Timedelta('0 days 00:10:14.180000'), Timedelta('0 days 15:53:25.660000'), Timedelta('0 days 22:02:48.410000'), Timedelta('0 days 00:17:46.510000'), Timedelta('0 days 00:02:22.070000'), Timedelta('0 days 03:12:59.840000'), Timedelta('0 days 00:04:29.050000'), Timedelta('0 days 11:23:49.750000'), Timedelta('0 days 12:46:39.290000'), Timedelta('0 days 01:14:45.300000'), Timedelta('2 days 23:26:00.150000'), Timedelta('0 days 00:46:22.610000'), Timedelta('1 days 18:03:16.320000'), Timedelta('0 days 01:04:45.840000'), Timedelta('0 days 02:06:33.010000'), Timedelta('0 days 00:18:55.670000'), Timedelta('0 days 07:08:59.560000'), Timedelta('0 days 00:32:32.760000'), Timedelta('0 days 13:36:13.890000'), Timedelta('0 days 10:28:40.030000'), Timedelta('0 days 13:20:13.920000'), Timedelta('0 days 00:05:30.650000'), Timedelta('0 days 00:01:43.100000'), Timedelta('0 days 00:06:18.810000'), Timedelta('0 days 00:01:35.680000'), Timedelta('0 days 10:16:46.300000'), Timedelta('0 days 14:04:29.620000'), Timedelta('0 days 00:04:52.920000'), Timedelta('0 days 09:43:29.920000'), Timedelta('0 days 00:06:22.070000'), Timedelta('0 days 09:52:14.690000'), Timedelta('0 days 00:05:42.590000'), Timedelta('0 days 00:55:53.690000'), Timedelta('0 days 01:01:18.570000'), Timedelta('0 days 20:40:18.960000'), Timedelta('0 days 00:04:49.350000'), Timedelta('1 days 00:04:10.510000'), Timedelta('0 days 00:06:34.900000'), Timedelta('0 days 00:02:12.720000'), Timedelta('0 days 00:08:51.380000'), Timedelta('1 days 23:47:49.810000'), Timedelta('0 days 00:02:35.170000'), Timedelta('0 days 00:04:42.190000'), Timedelta('0 days 00:03:51.350000'), Timedelta('0 days 23:57:32.640000'), Timedelta('1 days 09:56:32.290000'), Timedelta('0 days 00:11:32.850000'), Timedelta('0 days 08:08:08.110000'), Timedelta('0 days 00:01:27.890000'), Timedelta('0 days 00:02:41'), Timedelta('0 days 14:52:48.760000'), Timedelta('0 days 01:50:36.510000'), Timedelta('0 days 00:15:37.520000'), Timedelta('0 days 06:18:25.690000'), Timedelta('0 days 15:29:32.820000'), Timedelta('0 days 00:09:55.580000'), Timedelta('0 days 23:46:57.230000'), Timedelta('0 days 00:04:12.330000'), Timedelta('0 days 23:52:35.850000'), Timedelta('0 days 08:36:53.350000'), Timedelta('0 days 00:01:35.180000'), Timedelta('0 days 08:50:12.360000'), Timedelta('0 days 14:52:25.890000'), Timedelta('0 days 08:19:10.850000'), Timedelta('0 days 15:26:18.240000'), Timedelta('0 days 00:05:29.550000'), Timedelta('0 days 00:04:48.630000'), Timedelta('0 days 00:04:45.160000'), Timedelta('0 days 08:16:28.100000'), Timedelta('0 days 00:05:00.700000'), Timedelta('0 days 00:04:54.990000'), Timedelta('0 days 00:03:25.460000'), Timedelta('0 days 06:16:50.490000'), Timedelta('0 days 00:03:16.570000'), Timedelta('0 days 15:04:00.120000'), Timedelta('0 days 03:49:00.840000'), Timedelta('0 days 20:23:21.430000'), Timedelta('0 days 08:24:34.080000'), Timedelta('0 days 00:05:50.070000'), Timedelta('0 days 00:05:38.530000'), Timedelta('0 days 07:59:43.970000'), Timedelta('0 days 00:08:05.420000'), Timedelta('0 days 00:09:40.730000'), Timedelta('0 days 00:04:45.840000'), Timedelta('0 days 07:16:58.150000'), Timedelta('0 days 00:20:31.430000'), Timedelta('0 days 22:57:56.060000'), Timedelta('0 days 07:22:46.440000'), Timedelta('0 days 00:23:49.590000'), Timedelta('0 days 00:14:16.820000'), Timedelta('0 days 00:12:46.730000'), Timedelta('0 days 00:06:57.320000'), Timedelta('0 days 00:05:49.030000'), Timedelta('0 days 07:21:43.240000'), Timedelta('0 days 00:02:54.250000'), Timedelta('0 days 00:14:08.270000'), Timedelta('0 days 00:41:40.730000'), Timedelta('0 days 05:23:07.400000'), Timedelta('0 days 16:06:29.420000'), Timedelta('0 days 00:05:57.050000'), Timedelta('0 days 07:03:24.580000'), Timedelta('0 days 00:04:43.220000'), Timedelta('0 days 00:18:29.960000'), NaT]"
        ],
        [
         "6",
         "989.001006676128",
         "['401']",
         "[NaT]"
        ],
        [
         "7",
         "989.001006676135",
         "['402']",
         "[NaT]"
        ],
        [
         "8",
         "989.001006676365",
         "['22']",
         "[NaT]"
        ],
        [
         "9",
         "989.001006676545",
         "['22']",
         "[NaT]"
        ],
        [
         "10",
         "989.001006676594",
         "['81', '84', '83', '84']",
         "[Timedelta('514 days 09:31:53.870000'), Timedelta('0 days 00:15:07.520000'), Timedelta('0 days 00:04:52.480000'), NaT]"
        ],
        [
         "11",
         "989.001006676596",
         "['81', '83', '84']",
         "[Timedelta('516 days 11:03:46.420000'), Timedelta('0 days 00:02:06.610000'), NaT]"
        ],
        [
         "12",
         "989.001006676619",
         "['84', '82', '83']",
         "[Timedelta('0 days 00:08:06.320000'), Timedelta('514 days 22:05:49.240000'), NaT]"
        ],
        [
         "13",
         "989.001006676621",
         "['84', '82', '83', '84']",
         "[Timedelta('0 days 03:04:56.590000'), Timedelta('203 days 16:59:36.330000'), Timedelta('0 days 00:30:20.530000'), NaT]"
        ],
        [
         "14",
         "989.001006676628",
         "['84', '82', '83', '84']",
         "[Timedelta('0 days 02:21:50.630000'), Timedelta('517 days 19:34:19.870000'), Timedelta('0 days 00:05:06.270000'), NaT]"
        ],
        [
         "15",
         "989.001006676636",
         "['84', '82', '84', '81', '83', '84']",
         "[Timedelta('0 days 05:20:14.250000'), Timedelta('0 days 00:05:54.350000'), Timedelta('0 days 00:14:28.510000'), Timedelta('516 days 01:08:47.980000'), Timedelta('0 days 00:53:07.770000'), NaT]"
        ],
        [
         "16",
         "989.001006676637",
         "['84', '82', '84', '83', '84']",
         "[Timedelta('0 days 00:13:14.350000'), Timedelta('0 days 00:10:13.520000'), Timedelta('514 days 07:38:42.900000'), Timedelta('0 days 01:50:41.730000'), NaT]"
        ],
        [
         "17",
         "989.001006676649",
         "['84', '82', '81', '84', '83', '84']",
         "[Timedelta('0 days 00:44:01.620000'), Timedelta('0 days 07:29:09.780000'), Timedelta('513 days 23:23:09.420000'), Timedelta('0 days 00:18:10.770000'), Timedelta('0 days 00:01:49.230000'), NaT]"
        ],
        [
         "18",
         "989.001006676653",
         "['82', '81', '83', '84']",
         "[Timedelta('0 days 00:38:14.470000'), Timedelta('515 days 13:53:11.680000'), Timedelta('0 days 01:10:55.220000'), NaT]"
        ],
        [
         "19",
         "989.001006676969",
         "['44']",
         "[NaT]"
        ],
        [
         "20",
         "989.001006676972",
         "['44']",
         "[NaT]"
        ],
        [
         "21",
         "989.001006677009",
         "['44']",
         "[NaT]"
        ],
        [
         "22",
         "989.001006677579",
         "['301', '302', '301']",
         "[Timedelta('41 days 15:26:34.160000'), Timedelta('0 days 00:07:56.710000'), NaT]"
        ],
        [
         "23",
         "989.001006677596",
         "['302']",
         "[NaT]"
        ],
        [
         "24",
         "989.001006678087",
         "['402', '44']",
         "[Timedelta('516 days 04:18:20.980000'), NaT]"
        ],
        [
         "25",
         "989.001006678097",
         "['401', '402', '401', '402', '44']",
         "[Timedelta('0 days 00:06:37.560000'), Timedelta('0 days 00:00:26.980000'), Timedelta('0 days 04:42:22'), Timedelta('514 days 20:34:08.920000'), NaT]"
        ],
        [
         "26",
         "989.0010066781",
         "['44']",
         "[NaT]"
        ],
        [
         "27",
         "989.001006678105",
         "['41']",
         "[NaT]"
        ],
        [
         "28",
         "989.001006678159",
         "['41']",
         "[NaT]"
        ],
        [
         "29",
         "989.001006678314",
         "['201', '202']",
         "[Timedelta('0 days 03:04:36.140000'), NaT]"
        ],
        [
         "30",
         "989.001006678532",
         "['202', '201', '202']",
         "[Timedelta('0 days 00:18:17.130000'), Timedelta('36 days 19:00:14.880000'), NaT]"
        ],
        [
         "31",
         "989.001006678562",
         "['7A']",
         "[NaT]"
        ],
        [
         "32",
         "989.001006678563",
         "['232', '231']",
         "[Timedelta('0 days 00:00:10.370000'), NaT]"
        ],
        [
         "33",
         "989.001030605066",
         "['202', '232', '231', '233']",
         "[Timedelta('24 days 00:50:39.730000'), Timedelta('0 days 00:10:44.150000'), Timedelta('15 days 05:45:20.350000'), NaT]"
        ],
        [
         "34",
         "989.001030608631",
         "['71']",
         "[NaT]"
        ],
        [
         "35",
         "989.001033389589",
         "['21']",
         "[NaT]"
        ],
        [
         "36",
         "989.001034043886",
         "['302', '301', '302']",
         "[Timedelta('0 days 00:06:08.570000'), Timedelta('0 days 00:14:47.700000'), NaT]"
        ],
        [
         "37",
         "989.001034043902",
         "['202', '201', '202', '201']",
         "[Timedelta('0 days 00:48:32.190000'), Timedelta('0 days 00:01:04.380000'), Timedelta('0 days 00:02:59.690000'), NaT]"
        ],
        [
         "38",
         "989.001034043979",
         "['202', '201', '233']",
         "[Timedelta('0 days 00:03:15.810000'), Timedelta('17 days 15:10:22.240000'), NaT]"
        ],
        [
         "39",
         "989.00103404408",
         "['202', '201']",
         "[Timedelta('0 days 00:06:56.830000'), NaT]"
        ],
        [
         "40",
         "989.00103404415",
         "['202', '201', '233']",
         "[Timedelta('0 days 00:08:30.930000'), Timedelta('10 days 04:16:13.710000'), NaT]"
        ],
        [
         "41",
         "989.001034044161",
         "['202', '201', '202', '201', '202', '201', '202']",
         "[Timedelta('0 days 00:51:46.530000'), Timedelta('0 days 00:02:09.990000'), Timedelta('5 days 21:45:17.300000'), Timedelta('0 days 00:00:53.360000'), Timedelta('2 days 23:14:25.460000'), Timedelta('0 days 00:02:15.140000'), NaT]"
        ],
        [
         "42",
         "989.001034044232",
         "['202', '201']",
         "[Timedelta('0 days 00:04:46.560000'), NaT]"
        ],
        [
         "43",
         "989.001034044239",
         "['202', '201']",
         "[Timedelta('0 days 00:06:35.590000'), NaT]"
        ],
        [
         "44",
         "989.001034044255",
         "['22', '201', '202', '201', '202', '201']",
         "[Timedelta('25 days 06:04:40.960000'), Timedelta('7 days 00:50:03.370000'), Timedelta('0 days 00:02:22.240000'), Timedelta('3 days 16:12:21.610000'), Timedelta('0 days 00:02:08.330000'), NaT]"
        ],
        [
         "45",
         "989.001034044646",
         "['202', '201', '202', '201']",
         "[Timedelta('0 days 00:03:18.540000'), Timedelta('0 days 04:33:45.420000'), Timedelta('0 days 04:36:34.820000'), NaT]"
        ],
        [
         "46",
         "989.001034044706",
         "['21', '202', '201', '202', '201', '202', '201']",
         "[Timedelta('2 days 09:16:22.710000'), Timedelta('0 days 00:01:44.810000'), Timedelta('0 days 06:10:07.700000'), Timedelta('0 days 00:02:19.930000'), Timedelta('1 days 00:18:02.820000'), Timedelta('0 days 00:01:54.300000'), NaT]"
        ],
        [
         "47",
         "989.001034044857",
         "['21', '202']",
         "[Timedelta('1 days 06:39:38.220000'), NaT]"
        ],
        [
         "48",
         "989.001034044932",
         "['202', '201']",
         "[Timedelta('0 days 00:17:48.300000'), NaT]"
        ],
        [
         "49",
         "989.001034044971",
         "['202', '201']",
         "[Timedelta('0 days 00:06:16.780000'), NaT]"
        ]
       ],
       "shape": {
        "columns": 3,
        "rows": 7001
       }
      },
      "text/html": [
       "<div>\n",
       "<style scoped>\n",
       "    .dataframe tbody tr th:only-of-type {\n",
       "        vertical-align: middle;\n",
       "    }\n",
       "\n",
       "    .dataframe tbody tr th {\n",
       "        vertical-align: top;\n",
       "    }\n",
       "\n",
       "    .dataframe thead th {\n",
       "        text-align: right;\n",
       "    }\n",
       "</style>\n",
       "<table border=\"1\" class=\"dataframe\">\n",
       "  <thead>\n",
       "    <tr style=\"text-align: right;\">\n",
       "      <th></th>\n",
       "      <th>tag_id</th>\n",
       "      <th>loc_code</th>\n",
       "      <th>time_between_detections</th>\n",
       "    </tr>\n",
       "  </thead>\n",
       "  <tbody>\n",
       "    <tr>\n",
       "      <th>0</th>\n",
       "      <td>989.001007</td>\n",
       "      <td>[61, 6A, 6B, 6A, 61]</td>\n",
       "      <td>[0 days 00:15:36.770000, 0 days 00:15:46.65000...</td>\n",
       "    </tr>\n",
       "    <tr>\n",
       "      <th>1</th>\n",
       "      <td>989.001007</td>\n",
       "      <td>[22, 202, 201]</td>\n",
       "      <td>[14 days 21:54:52.150000, 0 days 00:05:54.7500...</td>\n",
       "    </tr>\n",
       "    <tr>\n",
       "      <th>2</th>\n",
       "      <td>989.001007</td>\n",
       "      <td>[6A, 6B, 6A, 6B, 6A]</td>\n",
       "      <td>[0 days 00:00:06.370000, 0 days 00:00:16.13000...</td>\n",
       "    </tr>\n",
       "    <tr>\n",
       "      <th>3</th>\n",
       "      <td>989.001007</td>\n",
       "      <td>[61, 6A, 6B]</td>\n",
       "      <td>[0 days 00:07:41.460000, 0 days 00:01:38.94000...</td>\n",
       "    </tr>\n",
       "    <tr>\n",
       "      <th>4</th>\n",
       "      <td>989.001007</td>\n",
       "      <td>[202, 201]</td>\n",
       "      <td>[0 days 00:20:52.190000, NaT]</td>\n",
       "    </tr>\n",
       "    <tr>\n",
       "      <th>...</th>\n",
       "      <td>...</td>\n",
       "      <td>...</td>\n",
       "      <td>...</td>\n",
       "    </tr>\n",
       "    <tr>\n",
       "      <th>6996</th>\n",
       "      <td>989.002028</td>\n",
       "      <td>[91]</td>\n",
       "      <td>[NaT]</td>\n",
       "    </tr>\n",
       "    <tr>\n",
       "      <th>6997</th>\n",
       "      <td>989.002028</td>\n",
       "      <td>[91, 922, 9A, 9B]</td>\n",
       "      <td>[1 days 06:24:57.110000, 5 days 06:23:08.72000...</td>\n",
       "    </tr>\n",
       "    <tr>\n",
       "      <th>6998</th>\n",
       "      <td>989.002028</td>\n",
       "      <td>[91, 921, 922, 9A, 9B]</td>\n",
       "      <td>[2 days 10:04:40.160000, 0 days 00:02:57.40000...</td>\n",
       "    </tr>\n",
       "    <tr>\n",
       "      <th>6999</th>\n",
       "      <td>989.002028</td>\n",
       "      <td>[91]</td>\n",
       "      <td>[NaT]</td>\n",
       "    </tr>\n",
       "    <tr>\n",
       "      <th>7000</th>\n",
       "      <td>989.002028</td>\n",
       "      <td>[91, 922, 921, 922, 9B, 9A, 9B, 9A]</td>\n",
       "      <td>[2 days 22:01:48.730000, 0 days 00:07:22.11000...</td>\n",
       "    </tr>\n",
       "  </tbody>\n",
       "</table>\n",
       "<p>7001 rows × 3 columns</p>\n",
       "</div>"
      ],
      "text/plain": [
       "          tag_id                             loc_code  \\\n",
       "0     989.001007                 [61, 6A, 6B, 6A, 61]   \n",
       "1     989.001007                       [22, 202, 201]   \n",
       "2     989.001007                 [6A, 6B, 6A, 6B, 6A]   \n",
       "3     989.001007                         [61, 6A, 6B]   \n",
       "4     989.001007                           [202, 201]   \n",
       "...          ...                                  ...   \n",
       "6996  989.002028                                 [91]   \n",
       "6997  989.002028                    [91, 922, 9A, 9B]   \n",
       "6998  989.002028               [91, 921, 922, 9A, 9B]   \n",
       "6999  989.002028                                 [91]   \n",
       "7000  989.002028  [91, 922, 921, 922, 9B, 9A, 9B, 9A]   \n",
       "\n",
       "                                time_between_detections  \n",
       "0     [0 days 00:15:36.770000, 0 days 00:15:46.65000...  \n",
       "1     [14 days 21:54:52.150000, 0 days 00:05:54.7500...  \n",
       "2     [0 days 00:00:06.370000, 0 days 00:00:16.13000...  \n",
       "3     [0 days 00:07:41.460000, 0 days 00:01:38.94000...  \n",
       "4                         [0 days 00:20:52.190000, NaT]  \n",
       "...                                                 ...  \n",
       "6996                                              [NaT]  \n",
       "6997  [1 days 06:24:57.110000, 5 days 06:23:08.72000...  \n",
       "6998  [2 days 10:04:40.160000, 0 days 00:02:57.40000...  \n",
       "6999                                              [NaT]  \n",
       "7000  [2 days 22:01:48.730000, 0 days 00:07:22.11000...  \n",
       "\n",
       "[7001 rows x 3 columns]"
      ]
     },
     "execution_count": 10,
     "metadata": {},
     "output_type": "execute_result"
    }
   ],
   "source": [
    "sequence_df = pd.DataFrame(sequence_data)\n",
    "sequence_df[\"loc_code\"] = sequence_df['sequence_data'].apply(lambda x: x[\"loc_code\"])\n",
    "sequence_df[\"time_between_detections\"] = sequence_df['sequence_data'].apply(lambda x: x[\"time_between_detections\"])\n",
    "sequence_df = sequence_df.drop(columns=['sequence_data'])\n",
    "\n",
    "sequence_df"
   ]
  }
 ],
 "metadata": {
  "kernelspec": {
   "display_name": "Python 3",
   "language": "python",
   "name": "python3"
  },
  "language_info": {
   "codemirror_mode": {
    "name": "ipython",
    "version": 3
   },
   "file_extension": ".py",
   "mimetype": "text/x-python",
   "name": "python",
   "nbconvert_exporter": "python",
   "pygments_lexer": "ipython3",
   "version": "3.11.8"
  }
 },
 "nbformat": 4,
 "nbformat_minor": 2
}
