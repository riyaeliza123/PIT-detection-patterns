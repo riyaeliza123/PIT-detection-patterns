{
 "cells": [
  {
   "cell_type": "markdown",
   "metadata": {},
   "source": [
    "Pulling results from both notebooks to join the together"
   ]
  },
  {
   "cell_type": "code",
   "execution_count": 1,
   "metadata": {},
   "outputs": [
    {
     "name": "stdout",
     "output_type": "stream",
     "text": [
      "Category '1': ['11', '12', '13']\n",
      "Category '2': ['201', '202', '21', '22', '231', '232', '233']\n",
      "Category '3': ['301', '302', '3A', '3B']\n",
      "Category '4': ['401', '402', '41', '42', '44', '45']\n",
      "Category '5': ['501', '51', '5A', '5B']\n",
      "Category '6': ['61', '62', '6A', '6B', '6C', '6D', '6F']\n",
      "Category '7': ['701', '702', '71', '7A', '7B', '7C', '7D']\n",
      "Category '8': ['81', '82', '83', '84']\n",
      "Category '9': ['91', '92', '921', '922', '9A', '9B', '9C', '9D', '9F']\n",
      "Category 'others': ['A1', 'A2', 'AA', 'AB', 'C1', 'C2', '_C']\n",
      "          tag_id                                                  0\n",
      "0     989.001007       {'loc_code': ['61', '6A', '6B', '6A', '61']}\n",
      "1     989.001007                 {'loc_code': ['22', '202', '201']}\n",
      "2     989.001007       {'loc_code': ['6A', '6B', '6A', '6B', '6A']}\n",
      "3     989.001007                   {'loc_code': ['61', '6A', '6B']}\n",
      "4     989.001007                       {'loc_code': ['202', '201']}\n",
      "...          ...                                                ...\n",
      "6996  989.002028                               {'loc_code': ['91']}\n",
      "6997  989.002028            {'loc_code': ['91', '922', '9A', '9B']}\n",
      "6998  989.002028     {'loc_code': ['91', '921', '922', '9A', '9B']}\n",
      "6999  989.002028                               {'loc_code': ['91']}\n",
      "7000  989.002028  {'loc_code': ['91', '922', '921', '922', '9B',...\n",
      "\n",
      "[7001 rows x 2 columns]\n"
     ]
    },
    {
     "name": "stderr",
     "output_type": "stream",
     "text": [
      "<string>:8: SettingWithCopyWarning: \n",
      "A value is trying to be set on a copy of a slice from a DataFrame.\n",
      "Try using .loc[row_indexer,col_indexer] = value instead\n",
      "\n",
      "See the caveats in the documentation: https://pandas.pydata.org/pandas-docs/stable/user_guide/indexing.html#returning-a-view-versus-a-copy\n",
      "<string>:10: SettingWithCopyWarning: \n",
      "A value is trying to be set on a copy of a slice from a DataFrame.\n",
      "Try using .loc[row_indexer,col_indexer] = value instead\n",
      "\n",
      "See the caveats in the documentation: https://pandas.pydata.org/pandas-docs/stable/user_guide/indexing.html#returning-a-view-versus-a-copy\n",
      "<string>:11: SettingWithCopyWarning: \n",
      "A value is trying to be set on a copy of a slice from a DataFrame.\n",
      "Try using .loc[row_indexer,col_indexer] = value instead\n",
      "\n",
      "See the caveats in the documentation: https://pandas.pydata.org/pandas-docs/stable/user_guide/indexing.html#returning-a-view-versus-a-copy\n",
      "<string>:12: SettingWithCopyWarning: \n",
      "A value is trying to be set on a copy of a slice from a DataFrame.\n",
      "Try using .loc[row_indexer,col_indexer] = value instead\n",
      "\n",
      "See the caveats in the documentation: https://pandas.pydata.org/pandas-docs/stable/user_guide/indexing.html#returning-a-view-versus-a-copy\n",
      "<string>:14: SettingWithCopyWarning: \n",
      "A value is trying to be set on a copy of a slice from a DataFrame.\n",
      "Try using .loc[row_indexer,col_indexer] = value instead\n",
      "\n",
      "See the caveats in the documentation: https://pandas.pydata.org/pandas-docs/stable/user_guide/indexing.html#returning-a-view-versus-a-copy\n"
     ]
    },
    {
     "name": "stdout",
     "output_type": "stream",
     "text": [
      "          tag_id                                      sequence_data\n",
      "0     989.001007  {'loc_code': ['61', '6A', '6B', '6A', '61'], '...\n",
      "1     989.001007  {'loc_code': ['22', '202', '201'], 'time_betwe...\n",
      "2     989.001007  {'loc_code': ['6A', '6B', '6A', '6B', '6A'], '...\n",
      "3     989.001007  {'loc_code': ['61', '6A', '6B'], 'time_between...\n",
      "4     989.001007  {'loc_code': ['202', '201'], 'time_between_det...\n",
      "...          ...                                                ...\n",
      "6996  989.002028  {'loc_code': ['91'], 'time_between_detections'...\n",
      "6997  989.002028  {'loc_code': ['91', '922', '9A', '9B'], 'time_...\n",
      "6998  989.002028  {'loc_code': ['91', '921', '922', '9A', '9B'],...\n",
      "6999  989.002028  {'loc_code': ['91'], 'time_between_detections'...\n",
      "7000  989.002028  {'loc_code': ['91', '922', '921', '922', '9B',...\n",
      "\n",
      "[7001 rows x 2 columns]\n"
     ]
    }
   ],
   "source": [
    "import nbformat\n",
    "from nbconvert.preprocessors import ExecutePreprocessor\n",
    "import pandas as pd\n",
    "\n",
    "def load_notebook(notebook_path):\n",
    "    with open(notebook_path, 'r') as f:\n",
    "        nb = nbformat.read(f, as_version=4)\n",
    "\n",
    "    # Execute the notebook in an isolated environment\n",
    "    ep = ExecutePreprocessor(timeout=600, kernel_name='python3')\n",
    "    ep.preprocess(nb, {'metadata': {'path': './'}})  # Run notebook in current directory\n",
    "    globals_dict = {}\n",
    "    exec(\"\\n\".join(cell.source for cell in nb.cells if cell.cell_type == \"code\"), globals_dict)\n",
    "    if \"sequence_df\" in globals_dict:\n",
    "        return globals_dict[\"sequence_df\"]\n",
    "    else:\n",
    "        raise ValueError(f\"'sequence_df' not found in {notebook_path}\")\n",
    "\n",
    "# Load DataFrames from both notebooks\n",
    "directionality_df = load_notebook('directionality.ipynb')\n",
    "time_between_detections_df = load_notebook('time_between_detections.ipynb')\n"
   ]
  },
  {
   "cell_type": "code",
   "execution_count": 2,
   "metadata": {},
   "outputs": [
    {
     "data": {
      "application/vnd.microsoft.datawrangler.viewer.v0+json": {
       "columns": [
        {
         "name": "index",
         "rawType": "int64",
         "type": "integer"
        },
        {
         "name": "tag_id",
         "rawType": "float64",
         "type": "float"
        },
        {
         "name": "loc_code",
         "rawType": "object",
         "type": "unknown"
        },
        {
         "name": "movement_direction",
         "rawType": "object",
         "type": "unknown"
        }
       ],
       "conversionMethod": "pd.DataFrame",
       "ref": "7265d668-77dc-497b-baf2-00de18db717e",
       "rows": [
        [
         "0",
         "989.00100659888",
         "['61', '6A', '6B', '6A', '61']",
         "['us', 'us', 'ds', 'ds']"
        ],
        [
         "1",
         "989.001006608003",
         "['22', '202', '201']",
         "['us', 'ds']"
        ],
        [
         "2",
         "989.001006608062",
         "['6A', '6B', '6A', '6B', '6A']",
         "['us', 'ds', 'us', 'ds']"
        ],
        [
         "3",
         "989.001006675482",
         "['61', '6A', '6B']",
         "['us', 'us']"
        ],
        [
         "4",
         "989.001006675484",
         "['202', '201']",
         "['ds']"
        ],
        [
         "5",
         "989.001006676104",
         "['402', '401', '402', '401', '402', '401', '402', '401', '402', '401', '402', '401', '402', '401', '402', '401', '402', '401', '402', '401', '402', '401', '402', '401', '402', '401', '402', '401', '402', '401', '402', '401', '402', '401', '402', '401', '402', '401', '402', '401', '402', '401', '402', '401', '402', '401', '402', '401', '402', '401', '402', '401', '402', '401', '402', '401', '402', '401', '402', '401', '402', '401', '402', '401', '402', '401', '402', '401', '402', '401', '402', '401', '402', '401', '402', '401', '402', '401', '402', '401', '402', '401', '402', '401', '402', '401', '402', '401', '402', '401', '402', '401', '402', '401', '402', '401', '402', '401', '402', '401', '402', '401', '402', '401', '402', '401', '402', '401', '402', '401', '402', '401', '402', '401', '402', '401', '402', '401', '402', '401', '402', '401', '402', '401', '402', '401', '402', '401', '402', '401', '402', '401', '402', '401', '402', '401', '402', '401', '402', '401', '402', '401', '402', '401', '402', '401', '402', '401', '402', '401', '402', '401', '402', '401', '402', '401', '402', '401', '402', '401', '402', '401', '402', '401', '402', '401', '402', '401', '402', '401', '402', '401', '402', '401', '402', '401', '402', '401', '402', '401', '402', '401', '402', '401', '402', '401', '402', '401', '402', '401', '402', '401', '402', '401', '402', '401', '402', '401', '402', '401', '402', '401', '402', '401', '402', '401', '402', '401', '402', '401', '402', '401', '402', '401', '402', '401', '402', '401', '402', '401', '402', '401', '402', '401', '402', '401', '402', '401', '402', '401', '402', '401', '402', '401', '402', '401', '402', '401', '402', '401', '402', '401', '402', '401', '402', '401', '402', '401', '402', '401', '402', '401', '402', '401', '402', '401', '402', '401', '402', '401', '402', '401', '402', '401', '402', '401', '402', '401', '402', '401', '402', '401', '402', '401', '402', '401', '402', '401', '402', '401', '402', '401', '402', '401', '402', '401', '402', '401', '402', '401', '402', '401', '402', '401', '402', '401', '402', '401', '402', '401', '402', '401', '402', '401', '402', '401', '402', '401', '402', '401', '402', '401', '402', '401', '402', '401', '402', '401', '402', '401', '402', '401', '402', '401', '402', '401', '402', '401', '402', '401', '402', '401', '402', '401', '402', '401', '402', '401', '402', '401', '402', '401', '402']",
         "['ds', 'us', 'ds', 'us', 'ds', 'us', 'ds', 'us', 'ds', 'us', 'ds', 'us', 'ds', 'us', 'ds', 'us', 'ds', 'us', 'ds', 'us', 'ds', 'us', 'ds', 'us', 'ds', 'us', 'ds', 'us', 'ds', 'us', 'ds', 'us', 'ds', 'us', 'ds', 'us', 'ds', 'us', 'ds', 'us', 'ds', 'us', 'ds', 'us', 'ds', 'us', 'ds', 'us', 'ds', 'us', 'ds', 'us', 'ds', 'us', 'ds', 'us', 'ds', 'us', 'ds', 'us', 'ds', 'us', 'ds', 'us', 'ds', 'us', 'ds', 'us', 'ds', 'us', 'ds', 'us', 'ds', 'us', 'ds', 'us', 'ds', 'us', 'ds', 'us', 'ds', 'us', 'ds', 'us', 'ds', 'us', 'ds', 'us', 'ds', 'us', 'ds', 'us', 'ds', 'us', 'ds', 'us', 'ds', 'us', 'ds', 'us', 'ds', 'us', 'ds', 'us', 'ds', 'us', 'ds', 'us', 'ds', 'us', 'ds', 'us', 'ds', 'us', 'ds', 'us', 'ds', 'us', 'ds', 'us', 'ds', 'us', 'ds', 'us', 'ds', 'us', 'ds', 'us', 'ds', 'us', 'ds', 'us', 'ds', 'us', 'ds', 'us', 'ds', 'us', 'ds', 'us', 'ds', 'us', 'ds', 'us', 'ds', 'us', 'ds', 'us', 'ds', 'us', 'ds', 'us', 'ds', 'us', 'ds', 'us', 'ds', 'us', 'ds', 'us', 'ds', 'us', 'ds', 'us', 'ds', 'us', 'ds', 'us', 'ds', 'us', 'ds', 'us', 'ds', 'us', 'ds', 'us', 'ds', 'us', 'ds', 'us', 'ds', 'us', 'ds', 'us', 'ds', 'us', 'ds', 'us', 'ds', 'us', 'ds', 'us', 'ds', 'us', 'ds', 'us', 'ds', 'us', 'ds', 'us', 'ds', 'us', 'ds', 'us', 'ds', 'us', 'ds', 'us', 'ds', 'us', 'ds', 'us', 'ds', 'us', 'ds', 'us', 'ds', 'us', 'ds', 'us', 'ds', 'us', 'ds', 'us', 'ds', 'us', 'ds', 'us', 'ds', 'us', 'ds', 'us', 'ds', 'us', 'ds', 'us', 'ds', 'us', 'ds', 'us', 'ds', 'us', 'ds', 'us', 'ds', 'us', 'ds', 'us', 'ds', 'us', 'ds', 'us', 'ds', 'us', 'ds', 'us', 'ds', 'us', 'ds', 'us', 'ds', 'us', 'ds', 'us', 'ds', 'us', 'ds', 'us', 'ds', 'us', 'ds', 'us', 'ds', 'us', 'ds', 'us', 'ds', 'us', 'ds', 'us', 'ds', 'us', 'ds', 'us', 'ds', 'us', 'ds', 'us', 'ds', 'us', 'ds', 'us', 'ds', 'us', 'ds', 'us', 'ds', 'us', 'ds', 'us', 'ds', 'us', 'ds', 'us', 'ds', 'us', 'ds', 'us', 'ds', 'us', 'ds', 'us', 'ds', 'us', 'ds', 'us', 'ds', 'us', 'ds', 'us', 'ds', 'us', 'ds', 'us', 'ds', 'us', 'ds', 'us', 'ds', 'us', 'ds', 'us', 'ds', 'us', 'ds', 'us', 'ds', 'us', 'ds', 'us', 'ds', 'us']"
        ],
        [
         "6",
         "989.001006676128",
         "['401']",
         "[]"
        ],
        [
         "7",
         "989.001006676135",
         "['402']",
         "[]"
        ],
        [
         "8",
         "989.001006676365",
         "['22']",
         "[]"
        ],
        [
         "9",
         "989.001006676545",
         "['22']",
         "[]"
        ],
        [
         "10",
         "989.001006676594",
         "['81', '84', '83', '84']",
         "['us', 'ds', 'us']"
        ],
        [
         "11",
         "989.001006676596",
         "['81', '83', '84']",
         "['us', 'us']"
        ],
        [
         "12",
         "989.001006676619",
         "['84', '82', '83']",
         "['ds', 'us']"
        ],
        [
         "13",
         "989.001006676621",
         "['84', '82', '83', '84']",
         "['ds', 'us', 'us']"
        ],
        [
         "14",
         "989.001006676628",
         "['84', '82', '83', '84']",
         "['ds', 'us', 'us']"
        ],
        [
         "15",
         "989.001006676636",
         "['84', '82', '84', '81', '83', '84']",
         "['ds', 'us', 'ds', 'us', 'us']"
        ],
        [
         "16",
         "989.001006676637",
         "['84', '82', '84', '83', '84']",
         "['ds', 'us', 'ds', 'us']"
        ],
        [
         "17",
         "989.001006676649",
         "['84', '82', '81', '84', '83', '84']",
         "['ds', 'ds', 'us', 'ds', 'us']"
        ],
        [
         "18",
         "989.001006676653",
         "['82', '81', '83', '84']",
         "['ds', 'us', 'us']"
        ],
        [
         "19",
         "989.001006676969",
         "['44']",
         "[]"
        ],
        [
         "20",
         "989.001006676972",
         "['44']",
         "[]"
        ],
        [
         "21",
         "989.001006677009",
         "['44']",
         "[]"
        ],
        [
         "22",
         "989.001006677579",
         "['301', '302', '301']",
         "['us', 'ds']"
        ],
        [
         "23",
         "989.001006677596",
         "['302']",
         "[]"
        ],
        [
         "24",
         "989.001006678087",
         "['402', '44']",
         "['us']"
        ],
        [
         "25",
         "989.001006678097",
         "['401', '402', '401', '402', '44']",
         "['us', 'ds', 'us', 'us']"
        ],
        [
         "26",
         "989.0010066781",
         "['44']",
         "[]"
        ],
        [
         "27",
         "989.001006678105",
         "['41']",
         "[]"
        ],
        [
         "28",
         "989.001006678159",
         "['41']",
         "[]"
        ],
        [
         "29",
         "989.001006678314",
         "['201', '202']",
         "['us']"
        ],
        [
         "30",
         "989.001006678532",
         "['202', '201', '202']",
         "['ds', 'us']"
        ],
        [
         "31",
         "989.001006678562",
         "['7A']",
         "[]"
        ],
        [
         "32",
         "989.001006678563",
         "['232', '231']",
         "['ds']"
        ],
        [
         "33",
         "989.001030605066",
         "['202', '232', '231', '233']",
         "['us', 'ds', 'us']"
        ],
        [
         "34",
         "989.001030608631",
         "['71']",
         "[]"
        ],
        [
         "35",
         "989.001033389589",
         "['21']",
         "[]"
        ],
        [
         "36",
         "989.001034043886",
         "['302', '301', '302']",
         "['ds', 'us']"
        ],
        [
         "37",
         "989.001034043902",
         "['202', '201', '202', '201']",
         "['ds', 'us', 'ds']"
        ],
        [
         "38",
         "989.001034043979",
         "['202', '201', '233']",
         "['ds', 'us']"
        ],
        [
         "39",
         "989.00103404408",
         "['202', '201']",
         "['ds']"
        ],
        [
         "40",
         "989.00103404415",
         "['202', '201', '233']",
         "['ds', 'us']"
        ],
        [
         "41",
         "989.001034044161",
         "['202', '201', '202', '201', '202', '201', '202']",
         "['ds', 'us', 'ds', 'us', 'ds', 'us']"
        ],
        [
         "42",
         "989.001034044232",
         "['202', '201']",
         "['ds']"
        ],
        [
         "43",
         "989.001034044239",
         "['202', '201']",
         "['ds']"
        ],
        [
         "44",
         "989.001034044255",
         "['22', '201', '202', '201', '202', '201']",
         "['us', 'us', 'ds', 'us', 'ds']"
        ],
        [
         "45",
         "989.001034044646",
         "['202', '201', '202', '201']",
         "['ds', 'us', 'ds']"
        ],
        [
         "46",
         "989.001034044706",
         "['21', '202', '201', '202', '201', '202', '201']",
         "['us', 'ds', 'us', 'ds', 'us', 'ds']"
        ],
        [
         "47",
         "989.001034044857",
         "['21', '202']",
         "['us']"
        ],
        [
         "48",
         "989.001034044932",
         "['202', '201']",
         "['ds']"
        ],
        [
         "49",
         "989.001034044971",
         "['202', '201']",
         "['ds']"
        ]
       ],
       "shape": {
        "columns": 3,
        "rows": 7001
       }
      },
      "text/html": [
       "<div>\n",
       "<style scoped>\n",
       "    .dataframe tbody tr th:only-of-type {\n",
       "        vertical-align: middle;\n",
       "    }\n",
       "\n",
       "    .dataframe tbody tr th {\n",
       "        vertical-align: top;\n",
       "    }\n",
       "\n",
       "    .dataframe thead th {\n",
       "        text-align: right;\n",
       "    }\n",
       "</style>\n",
       "<table border=\"1\" class=\"dataframe\">\n",
       "  <thead>\n",
       "    <tr style=\"text-align: right;\">\n",
       "      <th></th>\n",
       "      <th>tag_id</th>\n",
       "      <th>loc_code</th>\n",
       "      <th>movement_direction</th>\n",
       "    </tr>\n",
       "  </thead>\n",
       "  <tbody>\n",
       "    <tr>\n",
       "      <th>0</th>\n",
       "      <td>989.001007</td>\n",
       "      <td>[61, 6A, 6B, 6A, 61]</td>\n",
       "      <td>[us, us, ds, ds]</td>\n",
       "    </tr>\n",
       "    <tr>\n",
       "      <th>1</th>\n",
       "      <td>989.001007</td>\n",
       "      <td>[22, 202, 201]</td>\n",
       "      <td>[us, ds]</td>\n",
       "    </tr>\n",
       "    <tr>\n",
       "      <th>2</th>\n",
       "      <td>989.001007</td>\n",
       "      <td>[6A, 6B, 6A, 6B, 6A]</td>\n",
       "      <td>[us, ds, us, ds]</td>\n",
       "    </tr>\n",
       "    <tr>\n",
       "      <th>3</th>\n",
       "      <td>989.001007</td>\n",
       "      <td>[61, 6A, 6B]</td>\n",
       "      <td>[us, us]</td>\n",
       "    </tr>\n",
       "    <tr>\n",
       "      <th>4</th>\n",
       "      <td>989.001007</td>\n",
       "      <td>[202, 201]</td>\n",
       "      <td>[ds]</td>\n",
       "    </tr>\n",
       "    <tr>\n",
       "      <th>...</th>\n",
       "      <td>...</td>\n",
       "      <td>...</td>\n",
       "      <td>...</td>\n",
       "    </tr>\n",
       "    <tr>\n",
       "      <th>6996</th>\n",
       "      <td>989.002028</td>\n",
       "      <td>[91]</td>\n",
       "      <td>[]</td>\n",
       "    </tr>\n",
       "    <tr>\n",
       "      <th>6997</th>\n",
       "      <td>989.002028</td>\n",
       "      <td>[91, 922, 9A, 9B]</td>\n",
       "      <td>[us, us, us]</td>\n",
       "    </tr>\n",
       "    <tr>\n",
       "      <th>6998</th>\n",
       "      <td>989.002028</td>\n",
       "      <td>[91, 921, 922, 9A, 9B]</td>\n",
       "      <td>[us, us, us, us]</td>\n",
       "    </tr>\n",
       "    <tr>\n",
       "      <th>6999</th>\n",
       "      <td>989.002028</td>\n",
       "      <td>[91]</td>\n",
       "      <td>[]</td>\n",
       "    </tr>\n",
       "    <tr>\n",
       "      <th>7000</th>\n",
       "      <td>989.002028</td>\n",
       "      <td>[91, 922, 921, 922, 9B, 9A, 9B, 9A]</td>\n",
       "      <td>[us, ds, us, us, ds, us, ds]</td>\n",
       "    </tr>\n",
       "  </tbody>\n",
       "</table>\n",
       "<p>7001 rows × 3 columns</p>\n",
       "</div>"
      ],
      "text/plain": [
       "          tag_id                             loc_code  \\\n",
       "0     989.001007                 [61, 6A, 6B, 6A, 61]   \n",
       "1     989.001007                       [22, 202, 201]   \n",
       "2     989.001007                 [6A, 6B, 6A, 6B, 6A]   \n",
       "3     989.001007                         [61, 6A, 6B]   \n",
       "4     989.001007                           [202, 201]   \n",
       "...          ...                                  ...   \n",
       "6996  989.002028                                 [91]   \n",
       "6997  989.002028                    [91, 922, 9A, 9B]   \n",
       "6998  989.002028               [91, 921, 922, 9A, 9B]   \n",
       "6999  989.002028                                 [91]   \n",
       "7000  989.002028  [91, 922, 921, 922, 9B, 9A, 9B, 9A]   \n",
       "\n",
       "                movement_direction  \n",
       "0                 [us, us, ds, ds]  \n",
       "1                         [us, ds]  \n",
       "2                 [us, ds, us, ds]  \n",
       "3                         [us, us]  \n",
       "4                             [ds]  \n",
       "...                            ...  \n",
       "6996                            []  \n",
       "6997                  [us, us, us]  \n",
       "6998              [us, us, us, us]  \n",
       "6999                            []  \n",
       "7000  [us, ds, us, us, ds, us, ds]  \n",
       "\n",
       "[7001 rows x 3 columns]"
      ]
     },
     "execution_count": 2,
     "metadata": {},
     "output_type": "execute_result"
    }
   ],
   "source": [
    "directionality_df"
   ]
  },
  {
   "cell_type": "code",
   "execution_count": 3,
   "metadata": {},
   "outputs": [
    {
     "data": {
      "application/vnd.microsoft.datawrangler.viewer.v0+json": {
       "columns": [
        {
         "name": "index",
         "rawType": "int64",
         "type": "integer"
        },
        {
         "name": "tag_id",
         "rawType": "float64",
         "type": "float"
        },
        {
         "name": "loc_code",
         "rawType": "object",
         "type": "unknown"
        },
        {
         "name": "time_between_detections",
         "rawType": "object",
         "type": "unknown"
        },
        {
         "name": "number_of_detections",
         "rawType": "object",
         "type": "unknown"
        }
       ],
       "conversionMethod": "pd.DataFrame",
       "ref": "7ab8608d-e2c9-4a9a-a9eb-03824c422227",
       "rows": [
        [
         "0",
         "989.00100659888",
         "['61', '6A', '6B', '6A', '61']",
         "[Timedelta('0 days 00:15:36.770000'), Timedelta('0 days 00:15:46.650000'), Timedelta('0 days 00:08:37.690000'), Timedelta('0 days 00:16:47.650000'), NaT]",
         "[3, 1, 6, 1, 4]"
        ],
        [
         "1",
         "989.001006608003",
         "['22', '202', '201']",
         "[Timedelta('14 days 21:54:52.150000'), Timedelta('0 days 00:05:54.750000'), NaT]",
         "[10, 1, 1]"
        ],
        [
         "2",
         "989.001006608062",
         "['6A', '6B', '6A', '6B', '6A']",
         "[Timedelta('0 days 00:00:06.370000'), Timedelta('0 days 00:00:16.130000'), Timedelta('0 days 00:04:59.590000'), Timedelta('0 days 00:00:42.250000'), NaT]",
         "[1, 6, 1, 14, 7]"
        ],
        [
         "3",
         "989.001006675482",
         "['61', '6A', '6B']",
         "[Timedelta('0 days 00:07:41.460000'), Timedelta('0 days 00:01:38.940000'), NaT]",
         "[2, 1, 3]"
        ],
        [
         "4",
         "989.001006675484",
         "['202', '201']",
         "[Timedelta('0 days 00:20:52.190000'), NaT]",
         "[1, 1]"
        ],
        [
         "5",
         "989.001006676104",
         "['402', '401', '402', '401', '402', '401', '402', '401', '402', '401', '402', '401', '402', '401', '402', '401', '402', '401', '402', '401', '402', '401', '402', '401', '402', '401', '402', '401', '402', '401', '402', '401', '402', '401', '402', '401', '402', '401', '402', '401', '402', '401', '402', '401', '402', '401', '402', '401', '402', '401', '402', '401', '402', '401', '402', '401', '402', '401', '402', '401', '402', '401', '402', '401', '402', '401', '402', '401', '402', '401', '402', '401', '402', '401', '402', '401', '402', '401', '402', '401', '402', '401', '402', '401', '402', '401', '402', '401', '402', '401', '402', '401', '402', '401', '402', '401', '402', '401', '402', '401', '402', '401', '402', '401', '402', '401', '402', '401', '402', '401', '402', '401', '402', '401', '402', '401', '402', '401', '402', '401', '402', '401', '402', '401', '402', '401', '402', '401', '402', '401', '402', '401', '402', '401', '402', '401', '402', '401', '402', '401', '402', '401', '402', '401', '402', '401', '402', '401', '402', '401', '402', '401', '402', '401', '402', '401', '402', '401', '402', '401', '402', '401', '402', '401', '402', '401', '402', '401', '402', '401', '402', '401', '402', '401', '402', '401', '402', '401', '402', '401', '402', '401', '402', '401', '402', '401', '402', '401', '402', '401', '402', '401', '402', '401', '402', '401', '402', '401', '402', '401', '402', '401', '402', '401', '402', '401', '402', '401', '402', '401', '402', '401', '402', '401', '402', '401', '402', '401', '402', '401', '402', '401', '402', '401', '402', '401', '402', '401', '402', '401', '402', '401', '402', '401', '402', '401', '402', '401', '402', '401', '402', '401', '402', '401', '402', '401', '402', '401', '402', '401', '402', '401', '402', '401', '402', '401', '402', '401', '402', '401', '402', '401', '402', '401', '402', '401', '402', '401', '402', '401', '402', '401', '402', '401', '402', '401', '402', '401', '402', '401', '402', '401', '402', '401', '402', '401', '402', '401', '402', '401', '402', '401', '402', '401', '402', '401', '402', '401', '402', '401', '402', '401', '402', '401', '402', '401', '402', '401', '402', '401', '402', '401', '402', '401', '402', '401', '402', '401', '402', '401', '402', '401', '402', '401', '402', '401', '402', '401', '402', '401', '402', '401', '402', '401', '402', '401', '402', '401', '402', '401', '402', '401', '402']",
         "[Timedelta('0 days 00:11:02.820000'), Timedelta('0 days 02:08:38.870000'), Timedelta('0 days 02:58:02.930000'), Timedelta('0 days 00:04:19.360000'), Timedelta('0 days 00:05:47.240000'), Timedelta('0 days 17:50:38.630000'), Timedelta('0 days 00:10:30.390000'), Timedelta('0 days 00:11:26.620000'), Timedelta('0 days 00:13:24.060000'), Timedelta('0 days 00:05:41.920000'), Timedelta('0 days 00:15:33.400000'), Timedelta('0 days 01:02:33.380000'), Timedelta('0 days 01:37:42.180000'), Timedelta('0 days 01:27:39.860000'), Timedelta('1 days 21:44:02.340000'), Timedelta('4 days 12:36:16.560000'), Timedelta('0 days 00:16:55.990000'), Timedelta('0 days 00:12:23.870000'), Timedelta('0 days 01:44:50.570000'), Timedelta('0 days 03:25:33'), Timedelta('0 days 00:07:26.010000'), Timedelta('0 days 17:37:00.240000'), Timedelta('0 days 00:06:35.600000'), Timedelta('0 days 18:26:11.650000'), Timedelta('0 days 00:11:53.400000'), Timedelta('0 days 00:04:50.140000'), Timedelta('0 days 00:21:02.030000'), Timedelta('0 days 03:56:51.890000'), Timedelta('0 days 00:16:23.890000'), Timedelta('0 days 00:01:25.200000'), Timedelta('0 days 00:06:21.480000'), Timedelta('0 days 01:15:44.260000'), Timedelta('0 days 00:08:35.500000'), Timedelta('0 days 00:04:44.190000'), Timedelta('0 days 00:07:44.670000'), Timedelta('0 days 07:22:21.660000'), Timedelta('0 days 00:45:23.920000'), Timedelta('0 days 02:00:59.310000'), Timedelta('0 days 00:31:13.940000'), Timedelta('0 days 00:16:45.390000'), Timedelta('0 days 00:37:22.110000'), Timedelta('0 days 00:06:15.950000'), Timedelta('0 days 00:11:16.860000'), Timedelta('0 days 00:05:14.490000'), Timedelta('0 days 00:20:51.460000'), Timedelta('0 days 00:30:37.850000'), Timedelta('0 days 06:04:53.590000'), Timedelta('0 days 01:49:03.570000'), Timedelta('0 days 00:25:14.330000'), Timedelta('0 days 03:56:29.600000'), Timedelta('0 days 00:05:45.830000'), Timedelta('0 days 00:10:59.990000'), Timedelta('0 days 00:06:25.410000'), Timedelta('0 days 00:33:22.370000'), Timedelta('0 days 00:09:24.560000'), Timedelta('0 days 00:14:36.150000'), Timedelta('0 days 04:25:53.750000'), Timedelta('0 days 00:10:08.250000'), Timedelta('0 days 01:18:15.770000'), Timedelta('0 days 00:47:16.100000'), Timedelta('0 days 00:18:13.220000'), Timedelta('0 days 11:31:36.150000'), Timedelta('2 days 04:45:54.080000'), Timedelta('2 days 23:55:27.320000'), Timedelta('0 days 15:34:26.060000'), Timedelta('0 days 02:46:30.560000'), Timedelta('0 days 00:25:13.210000'), Timedelta('0 days 00:03:52.760000'), Timedelta('0 days 00:05:41.660000'), Timedelta('0 days 00:09:24.790000'), Timedelta('0 days 11:16:43.200000'), Timedelta('0 days 00:53:58.730000'), Timedelta('0 days 00:38:46.470000'), Timedelta('0 days 00:07:50.460000'), Timedelta('0 days 00:34:37.890000'), Timedelta('0 days 00:10:30.260000'), Timedelta('0 days 00:10:27.400000'), Timedelta('0 days 00:03:46.680000'), Timedelta('0 days 04:39:49.040000'), NaT, Timedelta('0 days 00:04:11.940000'), Timedelta('0 days 00:04:45.830000'), Timedelta('0 days 00:10:02.290000'), Timedelta('0 days 00:09:20.280000'), Timedelta('0 days 00:15:38.770000'), Timedelta('0 days 00:51:08.400000'), Timedelta('0 days 00:04:32.420000'), Timedelta('0 days 00:06:20.870000'), Timedelta('0 days 00:03:15.260000'), Timedelta('0 days 00:06:11.640000'), Timedelta('0 days 14:14:52.440000'), Timedelta('0 days 00:11:32.110000'), Timedelta('0 days 00:04:21.530000'), Timedelta('0 days 00:21:01.670000'), Timedelta('0 days 00:08:59.660000'), Timedelta('0 days 00:06:49.080000'), Timedelta('0 days 00:08:08.210000'), Timedelta('0 days 00:10:31.660000'), Timedelta('0 days 13:49:00.310000'), Timedelta('0 days 00:14:11.940000'), NaT, Timedelta('0 days 00:06:52.270000'), Timedelta('0 days 00:03:15.460000'), Timedelta('0 days 00:04:22.790000'), Timedelta('0 days 00:07:54.010000'), Timedelta('0 days 13:49:48.240000'), Timedelta('0 days 13:51:21.650000'), Timedelta('0 days 00:05:16.330000'), Timedelta('0 days 00:05:11.010000'), Timedelta('0 days 00:12:43.430000'), Timedelta('0 days 00:05:34.200000'), Timedelta('0 days 00:13:57.660000'), Timedelta('0 days 00:04:34.480000'), Timedelta('0 days 00:23:54.340000'), Timedelta('0 days 00:04:54.040000'), Timedelta('0 days 04:08:16.480000'), Timedelta('0 days 05:17:35.340000'), Timedelta('0 days 00:08:11.320000'), Timedelta('0 days 00:09:14.210000'), NaT, Timedelta('0 days 00:11:35.380000'), Timedelta('0 days 00:22:29.400000'), Timedelta('0 days 00:04:48.330000'), Timedelta('0 days 00:07:03.840000'), Timedelta('0 days 00:08:51.100000'), Timedelta('0 days 00:06:40.830000'), Timedelta('0 days 01:08:59.030000'), Timedelta('0 days 00:06:44.390000'), Timedelta('0 days 00:35:38.170000'), Timedelta('0 days 00:13:31.200000'), Timedelta('0 days 00:38:09.430000'), Timedelta('0 days 00:17:01.400000'), Timedelta('0 days 00:06:04.290000'), Timedelta('0 days 00:20:42.920000'), Timedelta('0 days 00:13:31.900000'), Timedelta('0 days 00:14:50.080000'), Timedelta('0 days 03:50:36.850000'), Timedelta('0 days 00:14:45.630000'), Timedelta('0 days 00:10:34.390000'), Timedelta('0 days 00:10:58.940000'), Timedelta('0 days 00:05:11.500000'), Timedelta('0 days 00:17:55.840000'), Timedelta('0 days 00:07:10.390000'), Timedelta('0 days 00:08:08.020000'), Timedelta('0 days 00:10:16.580000'), Timedelta('0 days 00:07:18.250000'), Timedelta('0 days 00:09:44.880000'), Timedelta('0 days 00:10:19.160000'), Timedelta('0 days 01:12:05.360000'), Timedelta('0 days 00:40:51.400000'), Timedelta('0 days 00:31:02.480000'), Timedelta('0 days 00:05:18.690000'), Timedelta('0 days 00:24:29.010000'), Timedelta('0 days 01:02:37.140000'), Timedelta('0 days 00:12:50.570000'), Timedelta('0 days 04:06:20.910000'), Timedelta('0 days 00:11:50.030000'), Timedelta('0 days 00:06:30.040000'), Timedelta('0 days 00:11:53.910000'), Timedelta('0 days 00:08:30.460000'), Timedelta('0 days 00:19:47.180000'), Timedelta('0 days 00:23:30.450000'), Timedelta('0 days 00:14:25.550000'), Timedelta('0 days 00:15:57.300000'), Timedelta('0 days 00:15:04.330000'), Timedelta('0 days 00:09:13.760000'), Timedelta('0 days 01:08:35.420000'), Timedelta('0 days 00:05:57.670000'), Timedelta('0 days 00:12:52.540000'), Timedelta('0 days 00:08:56.780000'), Timedelta('0 days 00:08:45.750000'), Timedelta('0 days 00:24:42.110000'), Timedelta('0 days 00:12:38.760000'), Timedelta('0 days 00:09:50.510000'), Timedelta('0 days 00:05:19.570000'), Timedelta('0 days 00:07:29.500000'), Timedelta('0 days 00:09:47.080000'), Timedelta('0 days 02:37:49.450000'), Timedelta('0 days 00:45:21.450000'), Timedelta('0 days 00:20:35.310000'), Timedelta('0 days 00:17:16.660000'), Timedelta('0 days 00:27:39.880000'), Timedelta('0 days 03:47:58.920000'), Timedelta('0 days 00:10:00.050000'), Timedelta('0 days 00:11:23.350000'), Timedelta('0 days 03:30:51.310000'), Timedelta('0 days 00:13:29.130000'), Timedelta('0 days 00:21:58.370000'), Timedelta('0 days 00:12:00.600000'), Timedelta('0 days 00:05:38.780000'), Timedelta('0 days 00:13:56.350000'), Timedelta('0 days 00:48:34.800000'), Timedelta('0 days 02:56:01.520000'), Timedelta('0 days 00:24:59.980000'), Timedelta('0 days 00:32:01.620000'), Timedelta('0 days 00:15:27.430000'), Timedelta('0 days 00:09:50.730000'), Timedelta('0 days 00:03:31.230000'), Timedelta('0 days 03:32:18.340000'), NaT, NaT, Timedelta('0 days 00:15:33.520000'), Timedelta('0 days 00:40:13.980000'), Timedelta('0 days 00:23:07.750000'), Timedelta('0 days 01:05:17.200000'), Timedelta('0 days 00:32:12.180000'), Timedelta('0 days 00:06:07.090000'), Timedelta('0 days 00:10:47.120000'), Timedelta('0 days 00:14:11.350000'), Timedelta('0 days 00:10:16.360000'), Timedelta('0 days 00:06:21.200000'), Timedelta('0 days 00:01:52.720000'), Timedelta('0 days 05:41:13.230000'), Timedelta('0 days 04:10:35.740000'), Timedelta('0 days 00:53:11.860000'), Timedelta('0 days 00:12:40.550000'), Timedelta('0 days 00:10:31.170000'), Timedelta('6 days 09:31:18.740000'), Timedelta('0 days 00:07:19.570000'), Timedelta('0 days 00:04:30.910000'), Timedelta('0 days 00:04:31.420000'), Timedelta('1 days 05:15:52.710000'), Timedelta('0 days 00:13:32.300000'), Timedelta('0 days 00:06:14.580000'), Timedelta('0 days 00:05:24.020000'), Timedelta('0 days 00:24:49.780000'), Timedelta('0 days 00:32:33.410000'), Timedelta('0 days 03:06:25.500000'), Timedelta('0 days 00:14:46.030000'), Timedelta('0 days 04:17:36.810000'), Timedelta('0 days 00:38:48.080000'), Timedelta('0 days 00:02:05.210000'), Timedelta('0 days 00:11:26.480000'), Timedelta('0 days 00:06:53.360000'), Timedelta('0 days 00:16:26'), Timedelta('34 days 15:04:55.610000'), Timedelta('0 days 00:54:03.030000'), Timedelta('0 days 00:08:48.640000'), Timedelta('5 days 11:24:10.760000'), Timedelta('0 days 00:10:14.180000'), Timedelta('0 days 15:53:25.660000'), Timedelta('0 days 22:02:48.410000'), Timedelta('0 days 00:17:46.510000'), Timedelta('0 days 00:02:22.070000'), Timedelta('0 days 03:12:59.840000'), Timedelta('0 days 00:04:29.050000'), Timedelta('0 days 11:23:49.750000'), Timedelta('0 days 12:46:39.290000'), Timedelta('0 days 01:14:45.300000'), Timedelta('2 days 23:26:00.150000'), Timedelta('0 days 00:46:22.610000'), Timedelta('1 days 18:03:16.320000'), Timedelta('0 days 01:04:45.840000'), Timedelta('0 days 02:06:33.010000'), Timedelta('0 days 00:18:55.670000'), Timedelta('0 days 07:08:59.560000'), Timedelta('0 days 00:32:32.760000'), Timedelta('0 days 13:36:13.890000'), Timedelta('0 days 10:28:40.030000'), Timedelta('0 days 13:20:13.920000'), Timedelta('0 days 00:05:30.650000'), Timedelta('0 days 00:01:43.100000'), Timedelta('0 days 00:06:18.810000'), Timedelta('0 days 00:01:35.680000'), Timedelta('0 days 10:16:46.300000'), Timedelta('0 days 14:04:29.620000'), Timedelta('0 days 00:04:52.920000'), Timedelta('0 days 09:43:29.920000'), Timedelta('0 days 00:06:22.070000'), Timedelta('0 days 09:52:14.690000'), Timedelta('0 days 00:05:42.590000'), Timedelta('0 days 00:55:53.690000'), Timedelta('0 days 01:01:18.570000'), Timedelta('0 days 20:40:18.960000'), Timedelta('0 days 00:04:49.350000'), Timedelta('1 days 00:04:10.510000'), Timedelta('0 days 00:06:34.900000'), Timedelta('0 days 00:02:12.720000'), Timedelta('0 days 00:08:51.380000'), Timedelta('1 days 23:47:49.810000'), Timedelta('0 days 00:02:35.170000'), Timedelta('0 days 00:04:42.190000'), Timedelta('0 days 00:03:51.350000'), Timedelta('0 days 23:57:32.640000'), Timedelta('1 days 09:56:32.290000'), Timedelta('0 days 00:11:32.850000'), Timedelta('0 days 08:08:08.110000'), Timedelta('0 days 00:01:27.890000'), Timedelta('0 days 00:02:41'), Timedelta('0 days 14:52:48.760000'), Timedelta('0 days 01:50:36.510000'), Timedelta('0 days 00:15:37.520000'), Timedelta('0 days 06:18:25.690000'), Timedelta('0 days 15:29:32.820000'), Timedelta('0 days 00:09:55.580000'), Timedelta('0 days 23:46:57.230000'), Timedelta('0 days 00:04:12.330000'), Timedelta('0 days 23:52:35.850000'), Timedelta('0 days 08:36:53.350000'), Timedelta('0 days 00:01:35.180000'), Timedelta('0 days 08:50:12.360000'), Timedelta('0 days 14:52:25.890000'), Timedelta('0 days 08:19:10.850000'), Timedelta('0 days 15:26:18.240000'), Timedelta('0 days 00:05:29.550000'), Timedelta('0 days 00:04:48.630000'), Timedelta('0 days 00:04:45.160000'), Timedelta('0 days 08:16:28.100000'), Timedelta('0 days 00:05:00.700000'), Timedelta('0 days 00:04:54.990000'), Timedelta('0 days 00:03:25.460000'), Timedelta('0 days 06:16:50.490000'), Timedelta('0 days 00:03:16.570000'), Timedelta('0 days 15:04:00.120000'), Timedelta('0 days 03:49:00.840000'), Timedelta('0 days 20:23:21.430000'), Timedelta('0 days 08:24:34.080000'), Timedelta('0 days 00:05:50.070000'), Timedelta('0 days 00:05:38.530000'), Timedelta('0 days 07:59:43.970000'), Timedelta('0 days 00:08:05.420000'), Timedelta('0 days 00:09:40.730000'), Timedelta('0 days 00:04:45.840000'), Timedelta('0 days 07:16:58.150000'), Timedelta('0 days 00:20:31.430000'), Timedelta('0 days 22:57:56.060000'), Timedelta('0 days 07:22:46.440000'), Timedelta('0 days 00:23:49.590000'), Timedelta('0 days 00:14:16.820000'), Timedelta('0 days 00:12:46.730000'), Timedelta('0 days 00:06:57.320000'), Timedelta('0 days 00:05:49.030000'), Timedelta('0 days 07:21:43.240000'), Timedelta('0 days 00:02:54.250000'), Timedelta('0 days 00:14:08.270000'), Timedelta('0 days 00:41:40.730000'), Timedelta('0 days 05:23:07.400000'), Timedelta('0 days 16:06:29.420000'), Timedelta('0 days 00:05:57.050000'), Timedelta('0 days 07:03:24.580000'), Timedelta('0 days 00:04:43.220000'), Timedelta('0 days 00:18:29.960000'), NaT]",
         "[14, 2, 1, 2, 10, 3, 3, 3, 3, 9, 2, 5, 3, 3, 2, 1, 25, 1, 3, 1, 4, 1, 6, 6, 3, 2, 9, 2, 1, 3, 9, 1, 4, 2, 2, 12, 5, 1, 2, 4, 2, 6, 11, 3, 1, 2, 2, 2, 2, 22, 1, 1, 2, 3, 1, 1, 8, 3, 1, 7, 12, 5, 15, 4, 54, 1, 19, 4, 1, 2, 232, 1, 83, 1, 178, 1, 3, 2, 8, 1, 2, 2, 1, 5, 2, 1, 12, 7, 31, 2, 2, 1, 4, 1, 4, 2, 2, 2, 6, 3, 20, 2, 39, 2, 43, 1, 245, 1, 57, 2, 112, 2, 2, 2, 2, 1, 300, 4, 397, 2, 202, 2, 4, 4, 680, 3, 221, 1, 174, 9, 2, 2, 1, 3, 19, 3, 165, 5, 6, 3, 6, 11, 2, 2, 1, 3, 1, 2, 1, 1, 3, 1, 13, 1, 122, 1, 1, 14, 15, 10, 1, 2, 2, 1, 1, 2, 17, 3, 113, 1, 3, 2, 1, 7, 2, 18, 1, 5, 1, 1, 34, 1, 430, 7, 239, 20, 112, 12, 45, 19, 1, 1, 1, 2, 124, 3, 83, 2, 1, 7, 1, 6, 139, 1, 78, 2, 691, 2, 366, 1, 441, 1, 1, 3, 248, 14, 5, 4, 10, 3, 4, 1, 28, 1, 24, 2, 43, 1, 1, 1, 4, 5, 2, 3, 16, 1, 5, 1, 3, 2, 3, 2, 17, 1, 7, 1, 7, 1, 12, 1, 33, 2, 1, 1, 7, 1, 2, 4, 1, 1, 1, 2, 2, 2, 6, 1, 1, 1, 3, 1, 3, 3, 16, 37, 1, 1, 1, 2, 2, 1, 1, 2, 3, 1, 1, 1, 11, 1, 2, 4, 1, 1, 3, 1, 1, 1, 1, 1, 1, 1, 6, 3, 1, 1, 1, 3, 2, 1, 2, 2, 3, 2, 3, 2, 2, 2, 1, 1, 9, 1, 7, 1, 1, 1, 6, 1, 6, 2, 3, 2, 3, 1, 3, 1, 3, 2, 3, 6, 2, 2, 1, 1, 2]"
        ],
        [
         "6",
         "989.001006676128",
         "['401']",
         "[NaT]",
         "[1]"
        ],
        [
         "7",
         "989.001006676135",
         "['402']",
         "[NaT]",
         "[1]"
        ],
        [
         "8",
         "989.001006676365",
         "['22']",
         "[NaT]",
         "[1]"
        ],
        [
         "9",
         "989.001006676545",
         "['22']",
         "[NaT]",
         "[6]"
        ],
        [
         "10",
         "989.001006676594",
         "['81', '84', '83', '84']",
         "[Timedelta('514 days 09:31:53.870000'), Timedelta('0 days 00:15:07.520000'), Timedelta('0 days 00:04:52.480000'), NaT]",
         "[1, 1, 1, 1]"
        ],
        [
         "11",
         "989.001006676596",
         "['81', '83', '84']",
         "[Timedelta('516 days 11:03:46.420000'), Timedelta('0 days 00:02:06.610000'), NaT]",
         "[13, 1, 2]"
        ],
        [
         "12",
         "989.001006676619",
         "['84', '82', '83']",
         "[Timedelta('0 days 00:08:06.320000'), Timedelta('514 days 22:05:49.240000'), NaT]",
         "[3, 1, 7]"
        ],
        [
         "13",
         "989.001006676621",
         "['84', '82', '83', '84']",
         "[Timedelta('0 days 03:04:56.590000'), Timedelta('203 days 16:59:36.330000'), Timedelta('0 days 00:30:20.530000'), NaT]",
         "[2, 1, 2, 1]"
        ],
        [
         "14",
         "989.001006676628",
         "['84', '82', '83', '84']",
         "[Timedelta('0 days 02:21:50.630000'), Timedelta('517 days 19:34:19.870000'), Timedelta('0 days 00:05:06.270000'), NaT]",
         "[3, 1, 1, 2]"
        ],
        [
         "15",
         "989.001006676636",
         "['84', '82', '84', '81', '83', '84']",
         "[Timedelta('0 days 05:20:14.250000'), Timedelta('0 days 00:05:54.350000'), Timedelta('0 days 00:14:28.510000'), Timedelta('516 days 01:08:47.980000'), Timedelta('0 days 00:53:07.770000'), NaT]",
         "[1, 1, 1, 9, 1, 2]"
        ],
        [
         "16",
         "989.001006676637",
         "['84', '82', '84', '83', '84']",
         "[Timedelta('0 days 00:13:14.350000'), Timedelta('0 days 00:10:13.520000'), Timedelta('514 days 07:38:42.900000'), Timedelta('0 days 01:50:41.730000'), NaT]",
         "[2, 1, 1, 3, 2]"
        ],
        [
         "17",
         "989.001006676649",
         "['84', '82', '81', '84', '83', '84']",
         "[Timedelta('0 days 00:44:01.620000'), Timedelta('0 days 07:29:09.780000'), Timedelta('513 days 23:23:09.420000'), Timedelta('0 days 00:18:10.770000'), Timedelta('0 days 00:01:49.230000'), NaT]",
         "[1, 1, 4, 1, 1, 1]"
        ],
        [
         "18",
         "989.001006676653",
         "['82', '81', '83', '84']",
         "[Timedelta('0 days 00:38:14.470000'), Timedelta('515 days 13:53:11.680000'), Timedelta('0 days 01:10:55.220000'), NaT]",
         "[1, 2, 11, 2]"
        ],
        [
         "19",
         "989.001006676969",
         "['44']",
         "[NaT]",
         "[4]"
        ],
        [
         "20",
         "989.001006676972",
         "['44']",
         "[NaT]",
         "[4]"
        ],
        [
         "21",
         "989.001006677009",
         "['44']",
         "[NaT]",
         "[2]"
        ],
        [
         "22",
         "989.001006677579",
         "['301', '302', '301']",
         "[Timedelta('41 days 15:26:34.160000'), Timedelta('0 days 00:07:56.710000'), NaT]",
         "[1, 2, 3]"
        ],
        [
         "23",
         "989.001006677596",
         "['302']",
         "[NaT]",
         "[16]"
        ],
        [
         "24",
         "989.001006678087",
         "['402', '44']",
         "[Timedelta('516 days 04:18:20.980000'), NaT]",
         "[1, 3]"
        ],
        [
         "25",
         "989.001006678097",
         "['401', '402', '401', '402', '44']",
         "[Timedelta('0 days 00:06:37.560000'), Timedelta('0 days 00:00:26.980000'), Timedelta('0 days 04:42:22'), Timedelta('514 days 20:34:08.920000'), NaT]",
         "[3, 1, 1, 3, 7]"
        ],
        [
         "26",
         "989.0010066781",
         "['44']",
         "[NaT]",
         "[2]"
        ],
        [
         "27",
         "989.001006678105",
         "['41']",
         "[NaT]",
         "[1]"
        ],
        [
         "28",
         "989.001006678159",
         "['41']",
         "[NaT]",
         "[1]"
        ],
        [
         "29",
         "989.001006678314",
         "['201', '202']",
         "[Timedelta('0 days 03:04:36.140000'), NaT]",
         "[1, 1]"
        ],
        [
         "30",
         "989.001006678532",
         "['202', '201', '202']",
         "[Timedelta('0 days 00:18:17.130000'), Timedelta('36 days 19:00:14.880000'), NaT]",
         "[12, 1, 1]"
        ],
        [
         "31",
         "989.001006678562",
         "['7A']",
         "[NaT]",
         "[3]"
        ],
        [
         "32",
         "989.001006678563",
         "['232', '231']",
         "[Timedelta('0 days 00:00:10.370000'), NaT]",
         "[2, 2]"
        ],
        [
         "33",
         "989.001030605066",
         "['202', '232', '231', '233']",
         "[Timedelta('24 days 00:50:39.730000'), Timedelta('0 days 00:10:44.150000'), Timedelta('15 days 05:45:20.350000'), NaT]",
         "[1, 1, 2, 1]"
        ],
        [
         "34",
         "989.001030608631",
         "['71']",
         "[NaT]",
         "[6]"
        ],
        [
         "35",
         "989.001033389589",
         "['21']",
         "[NaT]",
         "[1]"
        ],
        [
         "36",
         "989.001034043886",
         "['302', '301', '302']",
         "[Timedelta('0 days 00:06:08.570000'), Timedelta('0 days 00:14:47.700000'), NaT]",
         "[29, 1, 1]"
        ],
        [
         "37",
         "989.001034043902",
         "['202', '201', '202', '201']",
         "[Timedelta('0 days 00:48:32.190000'), Timedelta('0 days 00:01:04.380000'), Timedelta('0 days 00:02:59.690000'), NaT]",
         "[3, 2, 2, 1]"
        ],
        [
         "38",
         "989.001034043979",
         "['202', '201', '233']",
         "[Timedelta('0 days 00:03:15.810000'), Timedelta('17 days 15:10:22.240000'), NaT]",
         "[1, 1, 1]"
        ],
        [
         "39",
         "989.00103404408",
         "['202', '201']",
         "[Timedelta('0 days 00:06:56.830000'), NaT]",
         "[1, 1]"
        ],
        [
         "40",
         "989.00103404415",
         "['202', '201', '233']",
         "[Timedelta('0 days 00:08:30.930000'), Timedelta('10 days 04:16:13.710000'), NaT]",
         "[1, 1, 6]"
        ],
        [
         "41",
         "989.001034044161",
         "['202', '201', '202', '201', '202', '201', '202']",
         "[Timedelta('0 days 00:51:46.530000'), Timedelta('0 days 00:02:09.990000'), Timedelta('5 days 21:45:17.300000'), Timedelta('0 days 00:00:53.360000'), Timedelta('2 days 23:14:25.460000'), Timedelta('0 days 00:02:15.140000'), NaT]",
         "[13, 2, 1, 1, 1, 2, 1]"
        ],
        [
         "42",
         "989.001034044232",
         "['202', '201']",
         "[Timedelta('0 days 00:04:46.560000'), NaT]",
         "[1, 1]"
        ],
        [
         "43",
         "989.001034044239",
         "['202', '201']",
         "[Timedelta('0 days 00:06:35.590000'), NaT]",
         "[1, 1]"
        ],
        [
         "44",
         "989.001034044255",
         "['22', '201', '202', '201', '202', '201']",
         "[Timedelta('25 days 06:04:40.960000'), Timedelta('7 days 00:50:03.370000'), Timedelta('0 days 00:02:22.240000'), Timedelta('3 days 16:12:21.610000'), Timedelta('0 days 00:02:08.330000'), NaT]",
         "[18, 2, 1, 1, 1, 1]"
        ],
        [
         "45",
         "989.001034044646",
         "['202', '201', '202', '201']",
         "[Timedelta('0 days 00:03:18.540000'), Timedelta('0 days 04:33:45.420000'), Timedelta('0 days 04:36:34.820000'), NaT]",
         "[2, 1, 1, 2]"
        ],
        [
         "46",
         "989.001034044706",
         "['21', '202', '201', '202', '201', '202', '201']",
         "[Timedelta('2 days 09:16:22.710000'), Timedelta('0 days 00:01:44.810000'), Timedelta('0 days 06:10:07.700000'), Timedelta('0 days 00:02:19.930000'), Timedelta('1 days 00:18:02.820000'), Timedelta('0 days 00:01:54.300000'), NaT]",
         "[1, 3, 1, 4, 2, 1, 1]"
        ],
        [
         "47",
         "989.001034044857",
         "['21', '202']",
         "[Timedelta('1 days 06:39:38.220000'), NaT]",
         "[1, 2]"
        ],
        [
         "48",
         "989.001034044932",
         "['202', '201']",
         "[Timedelta('0 days 00:17:48.300000'), NaT]",
         "[1, 1]"
        ],
        [
         "49",
         "989.001034044971",
         "['202', '201']",
         "[Timedelta('0 days 00:06:16.780000'), NaT]",
         "[7, 1]"
        ]
       ],
       "shape": {
        "columns": 4,
        "rows": 7001
       }
      },
      "text/html": [
       "<div>\n",
       "<style scoped>\n",
       "    .dataframe tbody tr th:only-of-type {\n",
       "        vertical-align: middle;\n",
       "    }\n",
       "\n",
       "    .dataframe tbody tr th {\n",
       "        vertical-align: top;\n",
       "    }\n",
       "\n",
       "    .dataframe thead th {\n",
       "        text-align: right;\n",
       "    }\n",
       "</style>\n",
       "<table border=\"1\" class=\"dataframe\">\n",
       "  <thead>\n",
       "    <tr style=\"text-align: right;\">\n",
       "      <th></th>\n",
       "      <th>tag_id</th>\n",
       "      <th>loc_code</th>\n",
       "      <th>time_between_detections</th>\n",
       "      <th>number_of_detections</th>\n",
       "    </tr>\n",
       "  </thead>\n",
       "  <tbody>\n",
       "    <tr>\n",
       "      <th>0</th>\n",
       "      <td>989.001007</td>\n",
       "      <td>[61, 6A, 6B, 6A, 61]</td>\n",
       "      <td>[0 days 00:15:36.770000, 0 days 00:15:46.65000...</td>\n",
       "      <td>[3, 1, 6, 1, 4]</td>\n",
       "    </tr>\n",
       "    <tr>\n",
       "      <th>1</th>\n",
       "      <td>989.001007</td>\n",
       "      <td>[22, 202, 201]</td>\n",
       "      <td>[14 days 21:54:52.150000, 0 days 00:05:54.7500...</td>\n",
       "      <td>[10, 1, 1]</td>\n",
       "    </tr>\n",
       "    <tr>\n",
       "      <th>2</th>\n",
       "      <td>989.001007</td>\n",
       "      <td>[6A, 6B, 6A, 6B, 6A]</td>\n",
       "      <td>[0 days 00:00:06.370000, 0 days 00:00:16.13000...</td>\n",
       "      <td>[1, 6, 1, 14, 7]</td>\n",
       "    </tr>\n",
       "    <tr>\n",
       "      <th>3</th>\n",
       "      <td>989.001007</td>\n",
       "      <td>[61, 6A, 6B]</td>\n",
       "      <td>[0 days 00:07:41.460000, 0 days 00:01:38.94000...</td>\n",
       "      <td>[2, 1, 3]</td>\n",
       "    </tr>\n",
       "    <tr>\n",
       "      <th>4</th>\n",
       "      <td>989.001007</td>\n",
       "      <td>[202, 201]</td>\n",
       "      <td>[0 days 00:20:52.190000, NaT]</td>\n",
       "      <td>[1, 1]</td>\n",
       "    </tr>\n",
       "    <tr>\n",
       "      <th>...</th>\n",
       "      <td>...</td>\n",
       "      <td>...</td>\n",
       "      <td>...</td>\n",
       "      <td>...</td>\n",
       "    </tr>\n",
       "    <tr>\n",
       "      <th>6996</th>\n",
       "      <td>989.002028</td>\n",
       "      <td>[91]</td>\n",
       "      <td>[NaT]</td>\n",
       "      <td>[2]</td>\n",
       "    </tr>\n",
       "    <tr>\n",
       "      <th>6997</th>\n",
       "      <td>989.002028</td>\n",
       "      <td>[91, 922, 9A, 9B]</td>\n",
       "      <td>[1 days 06:24:57.110000, 5 days 06:23:08.72000...</td>\n",
       "      <td>[1, 1, 1, 1]</td>\n",
       "    </tr>\n",
       "    <tr>\n",
       "      <th>6998</th>\n",
       "      <td>989.002028</td>\n",
       "      <td>[91, 921, 922, 9A, 9B]</td>\n",
       "      <td>[2 days 10:04:40.160000, 0 days 00:02:57.40000...</td>\n",
       "      <td>[1, 1, 2, 2, 2]</td>\n",
       "    </tr>\n",
       "    <tr>\n",
       "      <th>6999</th>\n",
       "      <td>989.002028</td>\n",
       "      <td>[91]</td>\n",
       "      <td>[NaT]</td>\n",
       "      <td>[1]</td>\n",
       "    </tr>\n",
       "    <tr>\n",
       "      <th>7000</th>\n",
       "      <td>989.002028</td>\n",
       "      <td>[91, 922, 921, 922, 9B, 9A, 9B, 9A]</td>\n",
       "      <td>[2 days 22:01:48.730000, 0 days 00:07:22.11000...</td>\n",
       "      <td>[1, 4, 1, 1, 1, 1, 1, 1]</td>\n",
       "    </tr>\n",
       "  </tbody>\n",
       "</table>\n",
       "<p>7001 rows × 4 columns</p>\n",
       "</div>"
      ],
      "text/plain": [
       "          tag_id                             loc_code  \\\n",
       "0     989.001007                 [61, 6A, 6B, 6A, 61]   \n",
       "1     989.001007                       [22, 202, 201]   \n",
       "2     989.001007                 [6A, 6B, 6A, 6B, 6A]   \n",
       "3     989.001007                         [61, 6A, 6B]   \n",
       "4     989.001007                           [202, 201]   \n",
       "...          ...                                  ...   \n",
       "6996  989.002028                                 [91]   \n",
       "6997  989.002028                    [91, 922, 9A, 9B]   \n",
       "6998  989.002028               [91, 921, 922, 9A, 9B]   \n",
       "6999  989.002028                                 [91]   \n",
       "7000  989.002028  [91, 922, 921, 922, 9B, 9A, 9B, 9A]   \n",
       "\n",
       "                                time_between_detections  \\\n",
       "0     [0 days 00:15:36.770000, 0 days 00:15:46.65000...   \n",
       "1     [14 days 21:54:52.150000, 0 days 00:05:54.7500...   \n",
       "2     [0 days 00:00:06.370000, 0 days 00:00:16.13000...   \n",
       "3     [0 days 00:07:41.460000, 0 days 00:01:38.94000...   \n",
       "4                         [0 days 00:20:52.190000, NaT]   \n",
       "...                                                 ...   \n",
       "6996                                              [NaT]   \n",
       "6997  [1 days 06:24:57.110000, 5 days 06:23:08.72000...   \n",
       "6998  [2 days 10:04:40.160000, 0 days 00:02:57.40000...   \n",
       "6999                                              [NaT]   \n",
       "7000  [2 days 22:01:48.730000, 0 days 00:07:22.11000...   \n",
       "\n",
       "          number_of_detections  \n",
       "0              [3, 1, 6, 1, 4]  \n",
       "1                   [10, 1, 1]  \n",
       "2             [1, 6, 1, 14, 7]  \n",
       "3                    [2, 1, 3]  \n",
       "4                       [1, 1]  \n",
       "...                        ...  \n",
       "6996                       [2]  \n",
       "6997              [1, 1, 1, 1]  \n",
       "6998           [1, 1, 2, 2, 2]  \n",
       "6999                       [1]  \n",
       "7000  [1, 4, 1, 1, 1, 1, 1, 1]  \n",
       "\n",
       "[7001 rows x 4 columns]"
      ]
     },
     "execution_count": 3,
     "metadata": {},
     "output_type": "execute_result"
    }
   ],
   "source": [
    "time_between_detections_df"
   ]
  },
  {
   "cell_type": "code",
   "execution_count": 4,
   "metadata": {},
   "outputs": [
    {
     "data": {
      "application/vnd.microsoft.datawrangler.viewer.v0+json": {
       "columns": [
        {
         "name": "index",
         "rawType": "int64",
         "type": "integer"
        },
        {
         "name": "tag_id",
         "rawType": "float64",
         "type": "float"
        },
        {
         "name": "loc_code",
         "rawType": "object",
         "type": "unknown"
        },
        {
         "name": "number_of_detections",
         "rawType": "object",
         "type": "unknown"
        },
        {
         "name": "movement_direction",
         "rawType": "object",
         "type": "unknown"
        },
        {
         "name": "time_between_detections",
         "rawType": "object",
         "type": "unknown"
        }
       ],
       "conversionMethod": "pd.DataFrame",
       "ref": "d6f5458d-2bf1-4721-b586-815a4ec2bee0",
       "rows": [
        [
         "0",
         "989.00100659888",
         "['61', '6A', '6B', '6A', '61']",
         "[3, 1, 6, 1, 4]",
         "['us', 'us', 'ds', 'ds']",
         "[Timedelta('0 days 00:15:36.770000'), Timedelta('0 days 00:15:46.650000'), Timedelta('0 days 00:08:37.690000'), Timedelta('0 days 00:16:47.650000'), NaT]"
        ],
        [
         "1",
         "989.001006608003",
         "['22', '202', '201']",
         "[10, 1, 1]",
         "['us', 'ds']",
         "[Timedelta('14 days 21:54:52.150000'), Timedelta('0 days 00:05:54.750000'), NaT]"
        ],
        [
         "2",
         "989.001006608062",
         "['6A', '6B', '6A', '6B', '6A']",
         "[1, 6, 1, 14, 7]",
         "['us', 'ds', 'us', 'ds']",
         "[Timedelta('0 days 00:00:06.370000'), Timedelta('0 days 00:00:16.130000'), Timedelta('0 days 00:04:59.590000'), Timedelta('0 days 00:00:42.250000'), NaT]"
        ],
        [
         "3",
         "989.001006675482",
         "['61', '6A', '6B']",
         "[2, 1, 3]",
         "['us', 'us']",
         "[Timedelta('0 days 00:07:41.460000'), Timedelta('0 days 00:01:38.940000'), NaT]"
        ],
        [
         "4",
         "989.001006675484",
         "['202', '201']",
         "[1, 1]",
         "['ds']",
         "[Timedelta('0 days 00:20:52.190000'), NaT]"
        ],
        [
         "5",
         "989.001006676104",
         "['402', '401', '402', '401', '402', '401', '402', '401', '402', '401', '402', '401', '402', '401', '402', '401', '402', '401', '402', '401', '402', '401', '402', '401', '402', '401', '402', '401', '402', '401', '402', '401', '402', '401', '402', '401', '402', '401', '402', '401', '402', '401', '402', '401', '402', '401', '402', '401', '402', '401', '402', '401', '402', '401', '402', '401', '402', '401', '402', '401', '402', '401', '402', '401', '402', '401', '402', '401', '402', '401', '402', '401', '402', '401', '402', '401', '402', '401', '402', '401', '402', '401', '402', '401', '402', '401', '402', '401', '402', '401', '402', '401', '402', '401', '402', '401', '402', '401', '402', '401', '402', '401', '402', '401', '402', '401', '402', '401', '402', '401', '402', '401', '402', '401', '402', '401', '402', '401', '402', '401', '402', '401', '402', '401', '402', '401', '402', '401', '402', '401', '402', '401', '402', '401', '402', '401', '402', '401', '402', '401', '402', '401', '402', '401', '402', '401', '402', '401', '402', '401', '402', '401', '402', '401', '402', '401', '402', '401', '402', '401', '402', '401', '402', '401', '402', '401', '402', '401', '402', '401', '402', '401', '402', '401', '402', '401', '402', '401', '402', '401', '402', '401', '402', '401', '402', '401', '402', '401', '402', '401', '402', '401', '402', '401', '402', '401', '402', '401', '402', '401', '402', '401', '402', '401', '402', '401', '402', '401', '402', '401', '402', '401', '402', '401', '402', '401', '402', '401', '402', '401', '402', '401', '402', '401', '402', '401', '402', '401', '402', '401', '402', '401', '402', '401', '402', '401', '402', '401', '402', '401', '402', '401', '402', '401', '402', '401', '402', '401', '402', '401', '402', '401', '402', '401', '402', '401', '402', '401', '402', '401', '402', '401', '402', '401', '402', '401', '402', '401', '402', '401', '402', '401', '402', '401', '402', '401', '402', '401', '402', '401', '402', '401', '402', '401', '402', '401', '402', '401', '402', '401', '402', '401', '402', '401', '402', '401', '402', '401', '402', '401', '402', '401', '402', '401', '402', '401', '402', '401', '402', '401', '402', '401', '402', '401', '402', '401', '402', '401', '402', '401', '402', '401', '402', '401', '402', '401', '402', '401', '402', '401', '402', '401', '402', '401', '402', '401', '402', '401', '402', '401', '402', '401', '402']",
         "[14, 2, 1, 2, 10, 3, 3, 3, 3, 9, 2, 5, 3, 3, 2, 1, 25, 1, 3, 1, 4, 1, 6, 6, 3, 2, 9, 2, 1, 3, 9, 1, 4, 2, 2, 12, 5, 1, 2, 4, 2, 6, 11, 3, 1, 2, 2, 2, 2, 22, 1, 1, 2, 3, 1, 1, 8, 3, 1, 7, 12, 5, 15, 4, 54, 1, 19, 4, 1, 2, 232, 1, 83, 1, 178, 1, 3, 2, 8, 1, 2, 2, 1, 5, 2, 1, 12, 7, 31, 2, 2, 1, 4, 1, 4, 2, 2, 2, 6, 3, 20, 2, 39, 2, 43, 1, 245, 1, 57, 2, 112, 2, 2, 2, 2, 1, 300, 4, 397, 2, 202, 2, 4, 4, 680, 3, 221, 1, 174, 9, 2, 2, 1, 3, 19, 3, 165, 5, 6, 3, 6, 11, 2, 2, 1, 3, 1, 2, 1, 1, 3, 1, 13, 1, 122, 1, 1, 14, 15, 10, 1, 2, 2, 1, 1, 2, 17, 3, 113, 1, 3, 2, 1, 7, 2, 18, 1, 5, 1, 1, 34, 1, 430, 7, 239, 20, 112, 12, 45, 19, 1, 1, 1, 2, 124, 3, 83, 2, 1, 7, 1, 6, 139, 1, 78, 2, 691, 2, 366, 1, 441, 1, 1, 3, 248, 14, 5, 4, 10, 3, 4, 1, 28, 1, 24, 2, 43, 1, 1, 1, 4, 5, 2, 3, 16, 1, 5, 1, 3, 2, 3, 2, 17, 1, 7, 1, 7, 1, 12, 1, 33, 2, 1, 1, 7, 1, 2, 4, 1, 1, 1, 2, 2, 2, 6, 1, 1, 1, 3, 1, 3, 3, 16, 37, 1, 1, 1, 2, 2, 1, 1, 2, 3, 1, 1, 1, 11, 1, 2, 4, 1, 1, 3, 1, 1, 1, 1, 1, 1, 1, 6, 3, 1, 1, 1, 3, 2, 1, 2, 2, 3, 2, 3, 2, 2, 2, 1, 1, 9, 1, 7, 1, 1, 1, 6, 1, 6, 2, 3, 2, 3, 1, 3, 1, 3, 2, 3, 6, 2, 2, 1, 1, 2]",
         "['ds', 'us', 'ds', 'us', 'ds', 'us', 'ds', 'us', 'ds', 'us', 'ds', 'us', 'ds', 'us', 'ds', 'us', 'ds', 'us', 'ds', 'us', 'ds', 'us', 'ds', 'us', 'ds', 'us', 'ds', 'us', 'ds', 'us', 'ds', 'us', 'ds', 'us', 'ds', 'us', 'ds', 'us', 'ds', 'us', 'ds', 'us', 'ds', 'us', 'ds', 'us', 'ds', 'us', 'ds', 'us', 'ds', 'us', 'ds', 'us', 'ds', 'us', 'ds', 'us', 'ds', 'us', 'ds', 'us', 'ds', 'us', 'ds', 'us', 'ds', 'us', 'ds', 'us', 'ds', 'us', 'ds', 'us', 'ds', 'us', 'ds', 'us', 'ds', 'us', 'ds', 'us', 'ds', 'us', 'ds', 'us', 'ds', 'us', 'ds', 'us', 'ds', 'us', 'ds', 'us', 'ds', 'us', 'ds', 'us', 'ds', 'us', 'ds', 'us', 'ds', 'us', 'ds', 'us', 'ds', 'us', 'ds', 'us', 'ds', 'us', 'ds', 'us', 'ds', 'us', 'ds', 'us', 'ds', 'us', 'ds', 'us', 'ds', 'us', 'ds', 'us', 'ds', 'us', 'ds', 'us', 'ds', 'us', 'ds', 'us', 'ds', 'us', 'ds', 'us', 'ds', 'us', 'ds', 'us', 'ds', 'us', 'ds', 'us', 'ds', 'us', 'ds', 'us', 'ds', 'us', 'ds', 'us', 'ds', 'us', 'ds', 'us', 'ds', 'us', 'ds', 'us', 'ds', 'us', 'ds', 'us', 'ds', 'us', 'ds', 'us', 'ds', 'us', 'ds', 'us', 'ds', 'us', 'ds', 'us', 'ds', 'us', 'ds', 'us', 'ds', 'us', 'ds', 'us', 'ds', 'us', 'ds', 'us', 'ds', 'us', 'ds', 'us', 'ds', 'us', 'ds', 'us', 'ds', 'us', 'ds', 'us', 'ds', 'us', 'ds', 'us', 'ds', 'us', 'ds', 'us', 'ds', 'us', 'ds', 'us', 'ds', 'us', 'ds', 'us', 'ds', 'us', 'ds', 'us', 'ds', 'us', 'ds', 'us', 'ds', 'us', 'ds', 'us', 'ds', 'us', 'ds', 'us', 'ds', 'us', 'ds', 'us', 'ds', 'us', 'ds', 'us', 'ds', 'us', 'ds', 'us', 'ds', 'us', 'ds', 'us', 'ds', 'us', 'ds', 'us', 'ds', 'us', 'ds', 'us', 'ds', 'us', 'ds', 'us', 'ds', 'us', 'ds', 'us', 'ds', 'us', 'ds', 'us', 'ds', 'us', 'ds', 'us', 'ds', 'us', 'ds', 'us', 'ds', 'us', 'ds', 'us', 'ds', 'us', 'ds', 'us', 'ds', 'us', 'ds', 'us', 'ds', 'us', 'ds', 'us', 'ds', 'us', 'ds', 'us', 'ds', 'us', 'ds', 'us', 'ds', 'us', 'ds', 'us', 'ds', 'us', 'ds', 'us', 'ds', 'us', 'ds', 'us', 'ds', 'us', 'ds', 'us', 'ds', 'us', 'ds', 'us', 'ds', 'us', 'ds', 'us', 'ds', 'us', 'ds', 'us', 'ds', 'us', 'ds', 'us', 'ds', 'us', 'ds', 'us', 'ds', 'us', 'ds', 'us']",
         "[Timedelta('0 days 00:11:02.820000'), Timedelta('0 days 02:08:38.870000'), Timedelta('0 days 02:58:02.930000'), Timedelta('0 days 00:04:19.360000'), Timedelta('0 days 00:05:47.240000'), Timedelta('0 days 17:50:38.630000'), Timedelta('0 days 00:10:30.390000'), Timedelta('0 days 00:11:26.620000'), Timedelta('0 days 00:13:24.060000'), Timedelta('0 days 00:05:41.920000'), Timedelta('0 days 00:15:33.400000'), Timedelta('0 days 01:02:33.380000'), Timedelta('0 days 01:37:42.180000'), Timedelta('0 days 01:27:39.860000'), Timedelta('1 days 21:44:02.340000'), Timedelta('4 days 12:36:16.560000'), Timedelta('0 days 00:16:55.990000'), Timedelta('0 days 00:12:23.870000'), Timedelta('0 days 01:44:50.570000'), Timedelta('0 days 03:25:33'), Timedelta('0 days 00:07:26.010000'), Timedelta('0 days 17:37:00.240000'), Timedelta('0 days 00:06:35.600000'), Timedelta('0 days 18:26:11.650000'), Timedelta('0 days 00:11:53.400000'), Timedelta('0 days 00:04:50.140000'), Timedelta('0 days 00:21:02.030000'), Timedelta('0 days 03:56:51.890000'), Timedelta('0 days 00:16:23.890000'), Timedelta('0 days 00:01:25.200000'), Timedelta('0 days 00:06:21.480000'), Timedelta('0 days 01:15:44.260000'), Timedelta('0 days 00:08:35.500000'), Timedelta('0 days 00:04:44.190000'), Timedelta('0 days 00:07:44.670000'), Timedelta('0 days 07:22:21.660000'), Timedelta('0 days 00:45:23.920000'), Timedelta('0 days 02:00:59.310000'), Timedelta('0 days 00:31:13.940000'), Timedelta('0 days 00:16:45.390000'), Timedelta('0 days 00:37:22.110000'), Timedelta('0 days 00:06:15.950000'), Timedelta('0 days 00:11:16.860000'), Timedelta('0 days 00:05:14.490000'), Timedelta('0 days 00:20:51.460000'), Timedelta('0 days 00:30:37.850000'), Timedelta('0 days 06:04:53.590000'), Timedelta('0 days 01:49:03.570000'), Timedelta('0 days 00:25:14.330000'), Timedelta('0 days 03:56:29.600000'), Timedelta('0 days 00:05:45.830000'), Timedelta('0 days 00:10:59.990000'), Timedelta('0 days 00:06:25.410000'), Timedelta('0 days 00:33:22.370000'), Timedelta('0 days 00:09:24.560000'), Timedelta('0 days 00:14:36.150000'), Timedelta('0 days 04:25:53.750000'), Timedelta('0 days 00:10:08.250000'), Timedelta('0 days 01:18:15.770000'), Timedelta('0 days 00:47:16.100000'), Timedelta('0 days 00:18:13.220000'), Timedelta('0 days 11:31:36.150000'), Timedelta('2 days 04:45:54.080000'), Timedelta('2 days 23:55:27.320000'), Timedelta('0 days 15:34:26.060000'), Timedelta('0 days 02:46:30.560000'), Timedelta('0 days 00:25:13.210000'), Timedelta('0 days 00:03:52.760000'), Timedelta('0 days 00:05:41.660000'), Timedelta('0 days 00:09:24.790000'), Timedelta('0 days 11:16:43.200000'), Timedelta('0 days 00:53:58.730000'), Timedelta('0 days 00:38:46.470000'), Timedelta('0 days 00:07:50.460000'), Timedelta('0 days 00:34:37.890000'), Timedelta('0 days 00:10:30.260000'), Timedelta('0 days 00:10:27.400000'), Timedelta('0 days 00:03:46.680000'), Timedelta('0 days 04:39:49.040000'), NaT, Timedelta('0 days 00:04:11.940000'), Timedelta('0 days 00:04:45.830000'), Timedelta('0 days 00:10:02.290000'), Timedelta('0 days 00:09:20.280000'), Timedelta('0 days 00:15:38.770000'), Timedelta('0 days 00:51:08.400000'), Timedelta('0 days 00:04:32.420000'), Timedelta('0 days 00:06:20.870000'), Timedelta('0 days 00:03:15.260000'), Timedelta('0 days 00:06:11.640000'), Timedelta('0 days 14:14:52.440000'), Timedelta('0 days 00:11:32.110000'), Timedelta('0 days 00:04:21.530000'), Timedelta('0 days 00:21:01.670000'), Timedelta('0 days 00:08:59.660000'), Timedelta('0 days 00:06:49.080000'), Timedelta('0 days 00:08:08.210000'), Timedelta('0 days 00:10:31.660000'), Timedelta('0 days 13:49:00.310000'), Timedelta('0 days 00:14:11.940000'), NaT, Timedelta('0 days 00:06:52.270000'), Timedelta('0 days 00:03:15.460000'), Timedelta('0 days 00:04:22.790000'), Timedelta('0 days 00:07:54.010000'), Timedelta('0 days 13:49:48.240000'), Timedelta('0 days 13:51:21.650000'), Timedelta('0 days 00:05:16.330000'), Timedelta('0 days 00:05:11.010000'), Timedelta('0 days 00:12:43.430000'), Timedelta('0 days 00:05:34.200000'), Timedelta('0 days 00:13:57.660000'), Timedelta('0 days 00:04:34.480000'), Timedelta('0 days 00:23:54.340000'), Timedelta('0 days 00:04:54.040000'), Timedelta('0 days 04:08:16.480000'), Timedelta('0 days 05:17:35.340000'), Timedelta('0 days 00:08:11.320000'), Timedelta('0 days 00:09:14.210000'), NaT, Timedelta('0 days 00:11:35.380000'), Timedelta('0 days 00:22:29.400000'), Timedelta('0 days 00:04:48.330000'), Timedelta('0 days 00:07:03.840000'), Timedelta('0 days 00:08:51.100000'), Timedelta('0 days 00:06:40.830000'), Timedelta('0 days 01:08:59.030000'), Timedelta('0 days 00:06:44.390000'), Timedelta('0 days 00:35:38.170000'), Timedelta('0 days 00:13:31.200000'), Timedelta('0 days 00:38:09.430000'), Timedelta('0 days 00:17:01.400000'), Timedelta('0 days 00:06:04.290000'), Timedelta('0 days 00:20:42.920000'), Timedelta('0 days 00:13:31.900000'), Timedelta('0 days 00:14:50.080000'), Timedelta('0 days 03:50:36.850000'), Timedelta('0 days 00:14:45.630000'), Timedelta('0 days 00:10:34.390000'), Timedelta('0 days 00:10:58.940000'), Timedelta('0 days 00:05:11.500000'), Timedelta('0 days 00:17:55.840000'), Timedelta('0 days 00:07:10.390000'), Timedelta('0 days 00:08:08.020000'), Timedelta('0 days 00:10:16.580000'), Timedelta('0 days 00:07:18.250000'), Timedelta('0 days 00:09:44.880000'), Timedelta('0 days 00:10:19.160000'), Timedelta('0 days 01:12:05.360000'), Timedelta('0 days 00:40:51.400000'), Timedelta('0 days 00:31:02.480000'), Timedelta('0 days 00:05:18.690000'), Timedelta('0 days 00:24:29.010000'), Timedelta('0 days 01:02:37.140000'), Timedelta('0 days 00:12:50.570000'), Timedelta('0 days 04:06:20.910000'), Timedelta('0 days 00:11:50.030000'), Timedelta('0 days 00:06:30.040000'), Timedelta('0 days 00:11:53.910000'), Timedelta('0 days 00:08:30.460000'), Timedelta('0 days 00:19:47.180000'), Timedelta('0 days 00:23:30.450000'), Timedelta('0 days 00:14:25.550000'), Timedelta('0 days 00:15:57.300000'), Timedelta('0 days 00:15:04.330000'), Timedelta('0 days 00:09:13.760000'), Timedelta('0 days 01:08:35.420000'), Timedelta('0 days 00:05:57.670000'), Timedelta('0 days 00:12:52.540000'), Timedelta('0 days 00:08:56.780000'), Timedelta('0 days 00:08:45.750000'), Timedelta('0 days 00:24:42.110000'), Timedelta('0 days 00:12:38.760000'), Timedelta('0 days 00:09:50.510000'), Timedelta('0 days 00:05:19.570000'), Timedelta('0 days 00:07:29.500000'), Timedelta('0 days 00:09:47.080000'), Timedelta('0 days 02:37:49.450000'), Timedelta('0 days 00:45:21.450000'), Timedelta('0 days 00:20:35.310000'), Timedelta('0 days 00:17:16.660000'), Timedelta('0 days 00:27:39.880000'), Timedelta('0 days 03:47:58.920000'), Timedelta('0 days 00:10:00.050000'), Timedelta('0 days 00:11:23.350000'), Timedelta('0 days 03:30:51.310000'), Timedelta('0 days 00:13:29.130000'), Timedelta('0 days 00:21:58.370000'), Timedelta('0 days 00:12:00.600000'), Timedelta('0 days 00:05:38.780000'), Timedelta('0 days 00:13:56.350000'), Timedelta('0 days 00:48:34.800000'), Timedelta('0 days 02:56:01.520000'), Timedelta('0 days 00:24:59.980000'), Timedelta('0 days 00:32:01.620000'), Timedelta('0 days 00:15:27.430000'), Timedelta('0 days 00:09:50.730000'), Timedelta('0 days 00:03:31.230000'), Timedelta('0 days 03:32:18.340000'), NaT, NaT, Timedelta('0 days 00:15:33.520000'), Timedelta('0 days 00:40:13.980000'), Timedelta('0 days 00:23:07.750000'), Timedelta('0 days 01:05:17.200000'), Timedelta('0 days 00:32:12.180000'), Timedelta('0 days 00:06:07.090000'), Timedelta('0 days 00:10:47.120000'), Timedelta('0 days 00:14:11.350000'), Timedelta('0 days 00:10:16.360000'), Timedelta('0 days 00:06:21.200000'), Timedelta('0 days 00:01:52.720000'), Timedelta('0 days 05:41:13.230000'), Timedelta('0 days 04:10:35.740000'), Timedelta('0 days 00:53:11.860000'), Timedelta('0 days 00:12:40.550000'), Timedelta('0 days 00:10:31.170000'), Timedelta('6 days 09:31:18.740000'), Timedelta('0 days 00:07:19.570000'), Timedelta('0 days 00:04:30.910000'), Timedelta('0 days 00:04:31.420000'), Timedelta('1 days 05:15:52.710000'), Timedelta('0 days 00:13:32.300000'), Timedelta('0 days 00:06:14.580000'), Timedelta('0 days 00:05:24.020000'), Timedelta('0 days 00:24:49.780000'), Timedelta('0 days 00:32:33.410000'), Timedelta('0 days 03:06:25.500000'), Timedelta('0 days 00:14:46.030000'), Timedelta('0 days 04:17:36.810000'), Timedelta('0 days 00:38:48.080000'), Timedelta('0 days 00:02:05.210000'), Timedelta('0 days 00:11:26.480000'), Timedelta('0 days 00:06:53.360000'), Timedelta('0 days 00:16:26'), Timedelta('34 days 15:04:55.610000'), Timedelta('0 days 00:54:03.030000'), Timedelta('0 days 00:08:48.640000'), Timedelta('5 days 11:24:10.760000'), Timedelta('0 days 00:10:14.180000'), Timedelta('0 days 15:53:25.660000'), Timedelta('0 days 22:02:48.410000'), Timedelta('0 days 00:17:46.510000'), Timedelta('0 days 00:02:22.070000'), Timedelta('0 days 03:12:59.840000'), Timedelta('0 days 00:04:29.050000'), Timedelta('0 days 11:23:49.750000'), Timedelta('0 days 12:46:39.290000'), Timedelta('0 days 01:14:45.300000'), Timedelta('2 days 23:26:00.150000'), Timedelta('0 days 00:46:22.610000'), Timedelta('1 days 18:03:16.320000'), Timedelta('0 days 01:04:45.840000'), Timedelta('0 days 02:06:33.010000'), Timedelta('0 days 00:18:55.670000'), Timedelta('0 days 07:08:59.560000'), Timedelta('0 days 00:32:32.760000'), Timedelta('0 days 13:36:13.890000'), Timedelta('0 days 10:28:40.030000'), Timedelta('0 days 13:20:13.920000'), Timedelta('0 days 00:05:30.650000'), Timedelta('0 days 00:01:43.100000'), Timedelta('0 days 00:06:18.810000'), Timedelta('0 days 00:01:35.680000'), Timedelta('0 days 10:16:46.300000'), Timedelta('0 days 14:04:29.620000'), Timedelta('0 days 00:04:52.920000'), Timedelta('0 days 09:43:29.920000'), Timedelta('0 days 00:06:22.070000'), Timedelta('0 days 09:52:14.690000'), Timedelta('0 days 00:05:42.590000'), Timedelta('0 days 00:55:53.690000'), Timedelta('0 days 01:01:18.570000'), Timedelta('0 days 20:40:18.960000'), Timedelta('0 days 00:04:49.350000'), Timedelta('1 days 00:04:10.510000'), Timedelta('0 days 00:06:34.900000'), Timedelta('0 days 00:02:12.720000'), Timedelta('0 days 00:08:51.380000'), Timedelta('1 days 23:47:49.810000'), Timedelta('0 days 00:02:35.170000'), Timedelta('0 days 00:04:42.190000'), Timedelta('0 days 00:03:51.350000'), Timedelta('0 days 23:57:32.640000'), Timedelta('1 days 09:56:32.290000'), Timedelta('0 days 00:11:32.850000'), Timedelta('0 days 08:08:08.110000'), Timedelta('0 days 00:01:27.890000'), Timedelta('0 days 00:02:41'), Timedelta('0 days 14:52:48.760000'), Timedelta('0 days 01:50:36.510000'), Timedelta('0 days 00:15:37.520000'), Timedelta('0 days 06:18:25.690000'), Timedelta('0 days 15:29:32.820000'), Timedelta('0 days 00:09:55.580000'), Timedelta('0 days 23:46:57.230000'), Timedelta('0 days 00:04:12.330000'), Timedelta('0 days 23:52:35.850000'), Timedelta('0 days 08:36:53.350000'), Timedelta('0 days 00:01:35.180000'), Timedelta('0 days 08:50:12.360000'), Timedelta('0 days 14:52:25.890000'), Timedelta('0 days 08:19:10.850000'), Timedelta('0 days 15:26:18.240000'), Timedelta('0 days 00:05:29.550000'), Timedelta('0 days 00:04:48.630000'), Timedelta('0 days 00:04:45.160000'), Timedelta('0 days 08:16:28.100000'), Timedelta('0 days 00:05:00.700000'), Timedelta('0 days 00:04:54.990000'), Timedelta('0 days 00:03:25.460000'), Timedelta('0 days 06:16:50.490000'), Timedelta('0 days 00:03:16.570000'), Timedelta('0 days 15:04:00.120000'), Timedelta('0 days 03:49:00.840000'), Timedelta('0 days 20:23:21.430000'), Timedelta('0 days 08:24:34.080000'), Timedelta('0 days 00:05:50.070000'), Timedelta('0 days 00:05:38.530000'), Timedelta('0 days 07:59:43.970000'), Timedelta('0 days 00:08:05.420000'), Timedelta('0 days 00:09:40.730000'), Timedelta('0 days 00:04:45.840000'), Timedelta('0 days 07:16:58.150000'), Timedelta('0 days 00:20:31.430000'), Timedelta('0 days 22:57:56.060000'), Timedelta('0 days 07:22:46.440000'), Timedelta('0 days 00:23:49.590000'), Timedelta('0 days 00:14:16.820000'), Timedelta('0 days 00:12:46.730000'), Timedelta('0 days 00:06:57.320000'), Timedelta('0 days 00:05:49.030000'), Timedelta('0 days 07:21:43.240000'), Timedelta('0 days 00:02:54.250000'), Timedelta('0 days 00:14:08.270000'), Timedelta('0 days 00:41:40.730000'), Timedelta('0 days 05:23:07.400000'), Timedelta('0 days 16:06:29.420000'), Timedelta('0 days 00:05:57.050000'), Timedelta('0 days 07:03:24.580000'), Timedelta('0 days 00:04:43.220000'), Timedelta('0 days 00:18:29.960000'), NaT]"
        ],
        [
         "6",
         "989.001006676128",
         "['401']",
         "[1]",
         "[]",
         "[NaT]"
        ],
        [
         "7",
         "989.001006676135",
         "['402']",
         "[1]",
         "[]",
         "[NaT]"
        ],
        [
         "8",
         "989.001006676365",
         "['22']",
         "[1]",
         "[]",
         "[NaT]"
        ],
        [
         "9",
         "989.001006676545",
         "['22']",
         "[6]",
         "[]",
         "[NaT]"
        ],
        [
         "10",
         "989.001006676594",
         "['81', '84', '83', '84']",
         "[1, 1, 1, 1]",
         "['us', 'ds', 'us']",
         "[Timedelta('514 days 09:31:53.870000'), Timedelta('0 days 00:15:07.520000'), Timedelta('0 days 00:04:52.480000'), NaT]"
        ],
        [
         "11",
         "989.001006676596",
         "['81', '83', '84']",
         "[13, 1, 2]",
         "['us', 'us']",
         "[Timedelta('516 days 11:03:46.420000'), Timedelta('0 days 00:02:06.610000'), NaT]"
        ],
        [
         "12",
         "989.001006676619",
         "['84', '82', '83']",
         "[3, 1, 7]",
         "['ds', 'us']",
         "[Timedelta('0 days 00:08:06.320000'), Timedelta('514 days 22:05:49.240000'), NaT]"
        ],
        [
         "13",
         "989.001006676621",
         "['84', '82', '83', '84']",
         "[2, 1, 2, 1]",
         "['ds', 'us', 'us']",
         "[Timedelta('0 days 03:04:56.590000'), Timedelta('203 days 16:59:36.330000'), Timedelta('0 days 00:30:20.530000'), NaT]"
        ],
        [
         "14",
         "989.001006676628",
         "['84', '82', '83', '84']",
         "[3, 1, 1, 2]",
         "['ds', 'us', 'us']",
         "[Timedelta('0 days 02:21:50.630000'), Timedelta('517 days 19:34:19.870000'), Timedelta('0 days 00:05:06.270000'), NaT]"
        ],
        [
         "15",
         "989.001006676636",
         "['84', '82', '84', '81', '83', '84']",
         "[1, 1, 1, 9, 1, 2]",
         "['ds', 'us', 'ds', 'us', 'us']",
         "[Timedelta('0 days 05:20:14.250000'), Timedelta('0 days 00:05:54.350000'), Timedelta('0 days 00:14:28.510000'), Timedelta('516 days 01:08:47.980000'), Timedelta('0 days 00:53:07.770000'), NaT]"
        ],
        [
         "16",
         "989.001006676637",
         "['84', '82', '84', '83', '84']",
         "[2, 1, 1, 3, 2]",
         "['ds', 'us', 'ds', 'us']",
         "[Timedelta('0 days 00:13:14.350000'), Timedelta('0 days 00:10:13.520000'), Timedelta('514 days 07:38:42.900000'), Timedelta('0 days 01:50:41.730000'), NaT]"
        ],
        [
         "17",
         "989.001006676649",
         "['84', '82', '81', '84', '83', '84']",
         "[1, 1, 4, 1, 1, 1]",
         "['ds', 'ds', 'us', 'ds', 'us']",
         "[Timedelta('0 days 00:44:01.620000'), Timedelta('0 days 07:29:09.780000'), Timedelta('513 days 23:23:09.420000'), Timedelta('0 days 00:18:10.770000'), Timedelta('0 days 00:01:49.230000'), NaT]"
        ],
        [
         "18",
         "989.001006676653",
         "['82', '81', '83', '84']",
         "[1, 2, 11, 2]",
         "['ds', 'us', 'us']",
         "[Timedelta('0 days 00:38:14.470000'), Timedelta('515 days 13:53:11.680000'), Timedelta('0 days 01:10:55.220000'), NaT]"
        ],
        [
         "19",
         "989.001006676969",
         "['44']",
         "[4]",
         "[]",
         "[NaT]"
        ],
        [
         "20",
         "989.001006676972",
         "['44']",
         "[4]",
         "[]",
         "[NaT]"
        ],
        [
         "21",
         "989.001006677009",
         "['44']",
         "[2]",
         "[]",
         "[NaT]"
        ],
        [
         "22",
         "989.001006677579",
         "['301', '302', '301']",
         "[1, 2, 3]",
         "['us', 'ds']",
         "[Timedelta('41 days 15:26:34.160000'), Timedelta('0 days 00:07:56.710000'), NaT]"
        ],
        [
         "23",
         "989.001006677596",
         "['302']",
         "[16]",
         "[]",
         "[NaT]"
        ],
        [
         "24",
         "989.001006678087",
         "['402', '44']",
         "[1, 3]",
         "['us']",
         "[Timedelta('516 days 04:18:20.980000'), NaT]"
        ],
        [
         "25",
         "989.001006678097",
         "['401', '402', '401', '402', '44']",
         "[3, 1, 1, 3, 7]",
         "['us', 'ds', 'us', 'us']",
         "[Timedelta('0 days 00:06:37.560000'), Timedelta('0 days 00:00:26.980000'), Timedelta('0 days 04:42:22'), Timedelta('514 days 20:34:08.920000'), NaT]"
        ],
        [
         "26",
         "989.0010066781",
         "['44']",
         "[2]",
         "[]",
         "[NaT]"
        ],
        [
         "27",
         "989.001006678105",
         "['41']",
         "[1]",
         "[]",
         "[NaT]"
        ],
        [
         "28",
         "989.001006678159",
         "['41']",
         "[1]",
         "[]",
         "[NaT]"
        ],
        [
         "29",
         "989.001006678314",
         "['201', '202']",
         "[1, 1]",
         "['us']",
         "[Timedelta('0 days 03:04:36.140000'), NaT]"
        ],
        [
         "30",
         "989.001006678532",
         "['202', '201', '202']",
         "[12, 1, 1]",
         "['ds', 'us']",
         "[Timedelta('0 days 00:18:17.130000'), Timedelta('36 days 19:00:14.880000'), NaT]"
        ],
        [
         "31",
         "989.001006678562",
         "['7A']",
         "[3]",
         "[]",
         "[NaT]"
        ],
        [
         "32",
         "989.001006678563",
         "['232', '231']",
         "[2, 2]",
         "['ds']",
         "[Timedelta('0 days 00:00:10.370000'), NaT]"
        ],
        [
         "33",
         "989.001030605066",
         "['202', '232', '231', '233']",
         "[1, 1, 2, 1]",
         "['us', 'ds', 'us']",
         "[Timedelta('24 days 00:50:39.730000'), Timedelta('0 days 00:10:44.150000'), Timedelta('15 days 05:45:20.350000'), NaT]"
        ],
        [
         "34",
         "989.001030608631",
         "['71']",
         "[6]",
         "[]",
         "[NaT]"
        ],
        [
         "35",
         "989.001033389589",
         "['21']",
         "[1]",
         "[]",
         "[NaT]"
        ],
        [
         "36",
         "989.001034043886",
         "['302', '301', '302']",
         "[29, 1, 1]",
         "['ds', 'us']",
         "[Timedelta('0 days 00:06:08.570000'), Timedelta('0 days 00:14:47.700000'), NaT]"
        ],
        [
         "37",
         "989.001034043902",
         "['202', '201', '202', '201']",
         "[3, 2, 2, 1]",
         "['ds', 'us', 'ds']",
         "[Timedelta('0 days 00:48:32.190000'), Timedelta('0 days 00:01:04.380000'), Timedelta('0 days 00:02:59.690000'), NaT]"
        ],
        [
         "38",
         "989.001034043979",
         "['202', '201', '233']",
         "[1, 1, 1]",
         "['ds', 'us']",
         "[Timedelta('0 days 00:03:15.810000'), Timedelta('17 days 15:10:22.240000'), NaT]"
        ],
        [
         "39",
         "989.00103404408",
         "['202', '201']",
         "[1, 1]",
         "['ds']",
         "[Timedelta('0 days 00:06:56.830000'), NaT]"
        ],
        [
         "40",
         "989.00103404415",
         "['202', '201', '233']",
         "[1, 1, 6]",
         "['ds', 'us']",
         "[Timedelta('0 days 00:08:30.930000'), Timedelta('10 days 04:16:13.710000'), NaT]"
        ],
        [
         "41",
         "989.001034044161",
         "['202', '201', '202', '201', '202', '201', '202']",
         "[13, 2, 1, 1, 1, 2, 1]",
         "['ds', 'us', 'ds', 'us', 'ds', 'us']",
         "[Timedelta('0 days 00:51:46.530000'), Timedelta('0 days 00:02:09.990000'), Timedelta('5 days 21:45:17.300000'), Timedelta('0 days 00:00:53.360000'), Timedelta('2 days 23:14:25.460000'), Timedelta('0 days 00:02:15.140000'), NaT]"
        ],
        [
         "42",
         "989.001034044232",
         "['202', '201']",
         "[1, 1]",
         "['ds']",
         "[Timedelta('0 days 00:04:46.560000'), NaT]"
        ],
        [
         "43",
         "989.001034044239",
         "['202', '201']",
         "[1, 1]",
         "['ds']",
         "[Timedelta('0 days 00:06:35.590000'), NaT]"
        ],
        [
         "44",
         "989.001034044255",
         "['22', '201', '202', '201', '202', '201']",
         "[18, 2, 1, 1, 1, 1]",
         "['us', 'us', 'ds', 'us', 'ds']",
         "[Timedelta('25 days 06:04:40.960000'), Timedelta('7 days 00:50:03.370000'), Timedelta('0 days 00:02:22.240000'), Timedelta('3 days 16:12:21.610000'), Timedelta('0 days 00:02:08.330000'), NaT]"
        ],
        [
         "45",
         "989.001034044646",
         "['202', '201', '202', '201']",
         "[2, 1, 1, 2]",
         "['ds', 'us', 'ds']",
         "[Timedelta('0 days 00:03:18.540000'), Timedelta('0 days 04:33:45.420000'), Timedelta('0 days 04:36:34.820000'), NaT]"
        ],
        [
         "46",
         "989.001034044706",
         "['21', '202', '201', '202', '201', '202', '201']",
         "[1, 3, 1, 4, 2, 1, 1]",
         "['us', 'ds', 'us', 'ds', 'us', 'ds']",
         "[Timedelta('2 days 09:16:22.710000'), Timedelta('0 days 00:01:44.810000'), Timedelta('0 days 06:10:07.700000'), Timedelta('0 days 00:02:19.930000'), Timedelta('1 days 00:18:02.820000'), Timedelta('0 days 00:01:54.300000'), NaT]"
        ],
        [
         "47",
         "989.001034044857",
         "['21', '202']",
         "[1, 2]",
         "['us']",
         "[Timedelta('1 days 06:39:38.220000'), NaT]"
        ],
        [
         "48",
         "989.001034044932",
         "['202', '201']",
         "[1, 1]",
         "['ds']",
         "[Timedelta('0 days 00:17:48.300000'), NaT]"
        ],
        [
         "49",
         "989.001034044971",
         "['202', '201']",
         "[7, 1]",
         "['ds']",
         "[Timedelta('0 days 00:06:16.780000'), NaT]"
        ]
       ],
       "shape": {
        "columns": 5,
        "rows": 7001
       }
      },
      "text/html": [
       "<div>\n",
       "<style scoped>\n",
       "    .dataframe tbody tr th:only-of-type {\n",
       "        vertical-align: middle;\n",
       "    }\n",
       "\n",
       "    .dataframe tbody tr th {\n",
       "        vertical-align: top;\n",
       "    }\n",
       "\n",
       "    .dataframe thead th {\n",
       "        text-align: right;\n",
       "    }\n",
       "</style>\n",
       "<table border=\"1\" class=\"dataframe\">\n",
       "  <thead>\n",
       "    <tr style=\"text-align: right;\">\n",
       "      <th></th>\n",
       "      <th>tag_id</th>\n",
       "      <th>loc_code</th>\n",
       "      <th>number_of_detections</th>\n",
       "      <th>movement_direction</th>\n",
       "      <th>time_between_detections</th>\n",
       "    </tr>\n",
       "  </thead>\n",
       "  <tbody>\n",
       "    <tr>\n",
       "      <th>0</th>\n",
       "      <td>989.001007</td>\n",
       "      <td>[61, 6A, 6B, 6A, 61]</td>\n",
       "      <td>[3, 1, 6, 1, 4]</td>\n",
       "      <td>[us, us, ds, ds]</td>\n",
       "      <td>[0 days 00:15:36.770000, 0 days 00:15:46.65000...</td>\n",
       "    </tr>\n",
       "    <tr>\n",
       "      <th>1</th>\n",
       "      <td>989.001007</td>\n",
       "      <td>[22, 202, 201]</td>\n",
       "      <td>[10, 1, 1]</td>\n",
       "      <td>[us, ds]</td>\n",
       "      <td>[14 days 21:54:52.150000, 0 days 00:05:54.7500...</td>\n",
       "    </tr>\n",
       "    <tr>\n",
       "      <th>2</th>\n",
       "      <td>989.001007</td>\n",
       "      <td>[6A, 6B, 6A, 6B, 6A]</td>\n",
       "      <td>[1, 6, 1, 14, 7]</td>\n",
       "      <td>[us, ds, us, ds]</td>\n",
       "      <td>[0 days 00:00:06.370000, 0 days 00:00:16.13000...</td>\n",
       "    </tr>\n",
       "    <tr>\n",
       "      <th>3</th>\n",
       "      <td>989.001007</td>\n",
       "      <td>[61, 6A, 6B]</td>\n",
       "      <td>[2, 1, 3]</td>\n",
       "      <td>[us, us]</td>\n",
       "      <td>[0 days 00:07:41.460000, 0 days 00:01:38.94000...</td>\n",
       "    </tr>\n",
       "    <tr>\n",
       "      <th>4</th>\n",
       "      <td>989.001007</td>\n",
       "      <td>[202, 201]</td>\n",
       "      <td>[1, 1]</td>\n",
       "      <td>[ds]</td>\n",
       "      <td>[0 days 00:20:52.190000, NaT]</td>\n",
       "    </tr>\n",
       "    <tr>\n",
       "      <th>...</th>\n",
       "      <td>...</td>\n",
       "      <td>...</td>\n",
       "      <td>...</td>\n",
       "      <td>...</td>\n",
       "      <td>...</td>\n",
       "    </tr>\n",
       "    <tr>\n",
       "      <th>6996</th>\n",
       "      <td>989.002028</td>\n",
       "      <td>[91]</td>\n",
       "      <td>[2]</td>\n",
       "      <td>[]</td>\n",
       "      <td>[NaT]</td>\n",
       "    </tr>\n",
       "    <tr>\n",
       "      <th>6997</th>\n",
       "      <td>989.002028</td>\n",
       "      <td>[91, 922, 9A, 9B]</td>\n",
       "      <td>[1, 1, 1, 1]</td>\n",
       "      <td>[us, us, us]</td>\n",
       "      <td>[1 days 06:24:57.110000, 5 days 06:23:08.72000...</td>\n",
       "    </tr>\n",
       "    <tr>\n",
       "      <th>6998</th>\n",
       "      <td>989.002028</td>\n",
       "      <td>[91, 921, 922, 9A, 9B]</td>\n",
       "      <td>[1, 1, 2, 2, 2]</td>\n",
       "      <td>[us, us, us, us]</td>\n",
       "      <td>[2 days 10:04:40.160000, 0 days 00:02:57.40000...</td>\n",
       "    </tr>\n",
       "    <tr>\n",
       "      <th>6999</th>\n",
       "      <td>989.002028</td>\n",
       "      <td>[91]</td>\n",
       "      <td>[1]</td>\n",
       "      <td>[]</td>\n",
       "      <td>[NaT]</td>\n",
       "    </tr>\n",
       "    <tr>\n",
       "      <th>7000</th>\n",
       "      <td>989.002028</td>\n",
       "      <td>[91, 922, 921, 922, 9B, 9A, 9B, 9A]</td>\n",
       "      <td>[1, 4, 1, 1, 1, 1, 1, 1]</td>\n",
       "      <td>[us, ds, us, us, ds, us, ds]</td>\n",
       "      <td>[2 days 22:01:48.730000, 0 days 00:07:22.11000...</td>\n",
       "    </tr>\n",
       "  </tbody>\n",
       "</table>\n",
       "<p>7001 rows × 5 columns</p>\n",
       "</div>"
      ],
      "text/plain": [
       "          tag_id                             loc_code  \\\n",
       "0     989.001007                 [61, 6A, 6B, 6A, 61]   \n",
       "1     989.001007                       [22, 202, 201]   \n",
       "2     989.001007                 [6A, 6B, 6A, 6B, 6A]   \n",
       "3     989.001007                         [61, 6A, 6B]   \n",
       "4     989.001007                           [202, 201]   \n",
       "...          ...                                  ...   \n",
       "6996  989.002028                                 [91]   \n",
       "6997  989.002028                    [91, 922, 9A, 9B]   \n",
       "6998  989.002028               [91, 921, 922, 9A, 9B]   \n",
       "6999  989.002028                                 [91]   \n",
       "7000  989.002028  [91, 922, 921, 922, 9B, 9A, 9B, 9A]   \n",
       "\n",
       "          number_of_detections            movement_direction  \\\n",
       "0              [3, 1, 6, 1, 4]              [us, us, ds, ds]   \n",
       "1                   [10, 1, 1]                      [us, ds]   \n",
       "2             [1, 6, 1, 14, 7]              [us, ds, us, ds]   \n",
       "3                    [2, 1, 3]                      [us, us]   \n",
       "4                       [1, 1]                          [ds]   \n",
       "...                        ...                           ...   \n",
       "6996                       [2]                            []   \n",
       "6997              [1, 1, 1, 1]                  [us, us, us]   \n",
       "6998           [1, 1, 2, 2, 2]              [us, us, us, us]   \n",
       "6999                       [1]                            []   \n",
       "7000  [1, 4, 1, 1, 1, 1, 1, 1]  [us, ds, us, us, ds, us, ds]   \n",
       "\n",
       "                                time_between_detections  \n",
       "0     [0 days 00:15:36.770000, 0 days 00:15:46.65000...  \n",
       "1     [14 days 21:54:52.150000, 0 days 00:05:54.7500...  \n",
       "2     [0 days 00:00:06.370000, 0 days 00:00:16.13000...  \n",
       "3     [0 days 00:07:41.460000, 0 days 00:01:38.94000...  \n",
       "4                         [0 days 00:20:52.190000, NaT]  \n",
       "...                                                 ...  \n",
       "6996                                              [NaT]  \n",
       "6997  [1 days 06:24:57.110000, 5 days 06:23:08.72000...  \n",
       "6998  [2 days 10:04:40.160000, 0 days 00:02:57.40000...  \n",
       "6999                                              [NaT]  \n",
       "7000  [2 days 22:01:48.730000, 0 days 00:07:22.11000...  \n",
       "\n",
       "[7001 rows x 5 columns]"
      ]
     },
     "execution_count": 4,
     "metadata": {},
     "output_type": "execute_result"
    }
   ],
   "source": [
    "time_between_detections_df = time_between_detections_df.drop(columns=[\"loc_code\"])  \n",
    "merged_df = directionality_df.merge(time_between_detections_df, on=\"tag_id\")  \n",
    "merged_df = merged_df[['tag_id', 'loc_code', 'number_of_detections', 'movement_direction', 'time_between_detections']]\n",
    "merged_df"
   ]
  },
  {
   "cell_type": "code",
   "execution_count": 5,
   "metadata": {},
   "outputs": [],
   "source": [
    "merged_df.to_csv(\"data/tag summaries.csv\", index=False)"
   ]
  },
  {
   "cell_type": "code",
   "execution_count": 6,
   "metadata": {},
   "outputs": [
    {
     "data": {
      "application/vnd.microsoft.datawrangler.viewer.v0+json": {
       "columns": [
        {
         "name": "index",
         "rawType": "int64",
         "type": "integer"
        },
        {
         "name": "tag_id",
         "rawType": "float64",
         "type": "float"
        },
        {
         "name": "loc_code",
         "rawType": "object",
         "type": "unknown"
        },
        {
         "name": "number_of_detections",
         "rawType": "object",
         "type": "unknown"
        },
        {
         "name": "movement_direction",
         "rawType": "object",
         "type": "unknown"
        },
        {
         "name": "time_between_detections",
         "rawType": "object",
         "type": "unknown"
        }
       ],
       "conversionMethod": "pd.DataFrame",
       "ref": "bea89e48-5604-44f9-9199-377e46f8d945",
       "rows": [
        [
         "94",
         "989.001034166386",
         "['61', '61', '61']",
         "[1, 2, 1]",
         "['unknown', 'unknown']",
         "[Timedelta('0 days 00:17:31.940000'), Timedelta('0 days 11:53:05.490000'), NaT]"
        ],
        [
         "131",
         "989.001034167148",
         "['7B', '7A', '71']",
         "[18, 8, 3]",
         "['ds', 'unknown']",
         "[Timedelta('0 days 00:00:24.840000'), NaT, NaT]"
        ],
        [
         "192",
         "989.001034170131",
         "['7B', '7A', '7B', '7A', '7B', '71']",
         "[1, 11, 1, 4, 1, 32]",
         "['ds', 'us', 'ds', 'us', 'unknown']",
         "[Timedelta('0 days 00:00:47.110000'), Timedelta('0 days 00:01:11.050000'), Timedelta('0 days 00:00:28.580000'), Timedelta('0 days 00:00:55.270000'), Timedelta('23 days 20:41:29.540000'), NaT]"
        ],
        [
         "208",
         "989.001034171397",
         "['9D', '9A', '9B']",
         "[1, 1, 1]",
         "['unknown', 'us']",
         "[NaT, Timedelta('0 days 00:00:03.070000'), NaT]"
        ],
        [
         "212",
         "989.001034171744",
         "['9C', '9D', '91']",
         "[1, 1, 2]",
         "['unknown', 'ds']",
         "[NaT, NaT, NaT]"
        ],
        [
         "213",
         "989.001034171775",
         "['9C', '9A', '9B', '9A', '9B']",
         "[1, 1, 1, 1, 1]",
         "['unknown', 'us', 'ds', 'us']",
         "[NaT, Timedelta('0 days 00:00:01.230000'), Timedelta('0 days 00:01:21.650000'), Timedelta('0 days 00:00:07.980000'), NaT]"
        ],
        [
         "217",
         "989.001034171849",
         "['9D', '922']",
         "[1, 1]",
         "['unknown']",
         "[NaT, NaT]"
        ],
        [
         "219",
         "989.001034171886",
         "['9D', '9B', '9A']",
         "[4, 1, 3]",
         "['unknown', 'ds']",
         "[NaT, Timedelta('0 days 00:00:51.080000'), NaT]"
        ],
        [
         "222",
         "989.001034172098",
         "['9C', '9D', '91']",
         "[5, 7, 2]",
         "['unknown', 'ds']",
         "[NaT, NaT, NaT]"
        ],
        [
         "223",
         "989.001034172129",
         "['9D', '9B', '9A', '9B', '9A', '9B', '9A', '9B', '9A', '9B', '9A', '9B', '9A']",
         "[1, 1, 2, 1, 1, 1, 1, 1, 1, 2, 2, 1, 1]",
         "['unknown', 'ds', 'us', 'ds', 'us', 'ds', 'us', 'ds', 'us', 'ds', 'us', 'ds']",
         "[NaT, Timedelta('0 days 00:00:00.400000'), Timedelta('0 days 00:00:04.620000'), Timedelta('0 days 00:00:57.420000'), Timedelta('0 days 00:00:02.450000'), Timedelta('0 days 00:01:01.760000'), Timedelta('0 days 00:00:00.040000'), Timedelta('0 days 00:00:59.660000'), Timedelta('0 days 00:00:09.820000'), Timedelta('0 days 00:00:00.050000'), Timedelta('0 days 00:00:19.060000'), Timedelta('0 days 00:00:55.190000'), NaT]"
        ],
        [
         "229",
         "989.001034172324",
         "['9D', '922']",
         "[1, 1]",
         "['unknown']",
         "[NaT, NaT]"
        ],
        [
         "233",
         "989.001034172382",
         "['9C', '9A', '9B']",
         "[1, 1, 1]",
         "['unknown', 'us']",
         "[NaT, Timedelta('0 days 00:00:00.950000'), NaT]"
        ],
        [
         "235",
         "989.001034172529",
         "['9C', '9D', '91']",
         "[1, 1, 1]",
         "['unknown', 'ds']",
         "[NaT, NaT, NaT]"
        ],
        [
         "236",
         "989.001034172556",
         "['9C', '9D', '9B', '9A', '9B', '9A', '9B', '9A', '9B', '9A', '9B', '9A', '9B', '9A', '9B', '9A', '9B', '9A', '9B', '9A', '9B', '9A', '9B']",
         "[1, 1, 1, 2, 1, 2, 1, 1, 1, 1, 1, 1, 1, 1, 1, 1, 1, 1, 1, 1, 1, 1, 1]",
         "['unknown', 'unknown', 'ds', 'us', 'ds', 'us', 'ds', 'us', 'ds', 'us', 'ds', 'us', 'ds', 'us', 'ds', 'us', 'ds', 'us', 'ds', 'us', 'ds', 'us']",
         "[NaT, NaT, Timedelta('0 days 00:00:00.020000'), Timedelta('0 days 00:00:31.540000'), Timedelta('0 days 00:00:38.920000'), Timedelta('0 days 00:00:00.420000'), Timedelta('0 days 00:00:59.310000'), Timedelta('0 days 00:00:00.320000'), Timedelta('0 days 00:01:16.500000'), Timedelta('0 days 00:00:42.150000'), Timedelta('0 days 00:00:17.040000'), Timedelta('0 days 00:00:49.030000'), Timedelta('0 days 00:02:58.270000'), Timedelta('0 days 00:00:11.830000'), NaT, NaT, Timedelta('0 days 00:01:30.740000'), Timedelta('0 days 00:00:05.220000'), Timedelta('0 days 16:15:17.420000'), Timedelta('0 days 00:00:03.410000'), Timedelta('0 days 00:08:31.370000'), Timedelta('0 days 00:00:01.310000'), NaT]"
        ],
        [
         "238",
         "989.001034172594",
         "['9C', '9D', '91']",
         "[1, 1, 1]",
         "['unknown', 'ds']",
         "[NaT, NaT, NaT]"
        ],
        [
         "239",
         "989.001034172632",
         "['9D', '9B', '9A']",
         "[1, 1, 1]",
         "['unknown', 'ds']",
         "[NaT, Timedelta('0 days 00:00:02.320000'), NaT]"
        ],
        [
         "247",
         "989.001034173003",
         "['9C', '9D', '91']",
         "[1, 1, 1]",
         "['unknown', 'ds']",
         "[NaT, NaT, NaT]"
        ],
        [
         "252",
         "989.001034173096",
         "['9C', '9D', '9B', '9A', '9B']",
         "[4, 6, 1, 1, 1]",
         "['unknown', 'unknown', 'ds', 'us']",
         "[NaT, NaT, Timedelta('0 days 00:00:49.190000'), Timedelta('0 days 00:00:10.130000'), NaT]"
        ],
        [
         "260",
         "989.001034173271",
         "['9D', '9B', '9A', '9B', '9A', '9B', '9A']",
         "[2, 1, 2, 1, 3, 2, 2]",
         "['unknown', 'ds', 'us', 'ds', 'us', 'ds']",
         "[NaT, Timedelta('0 days 00:00:00.010000'), Timedelta('0 days 00:00:02.510000'), Timedelta('0 days 00:02:46.120000'), Timedelta('0 days 00:00:08.310000'), Timedelta('0 days 00:00:00.800000'), NaT]"
        ],
        [
         "263",
         "989.001034173512",
         "['9C', '9D', '91']",
         "[1, 1, 1]",
         "['unknown', 'ds']",
         "[NaT, NaT, NaT]"
        ],
        [
         "267",
         "989.001034173606",
         "['9C', '9D', '9A', '9B']",
         "[3, 1, 1, 1]",
         "['unknown', 'unknown', 'us']",
         "[NaT, NaT, Timedelta('0 days 00:00:00.330000'), NaT]"
        ],
        [
         "270",
         "989.001034173678",
         "['9D', '9B', '9A', '9F']",
         "[1, 1, 1, 163]",
         "['unknown', 'ds', 'unknown']",
         "[NaT, Timedelta('0 days 00:00:08.180000'), Timedelta('7 days 09:08:30.440000'), NaT]"
        ],
        [
         "274",
         "989.001034173953",
         "['91', '9A', '9B', '9A', '9F']",
         "[1, 1, 1, 1, 3]",
         "['us', 'us', 'ds', 'unknown']",
         "[Timedelta('0 days 23:58:26.290000'), Timedelta('0 days 00:00:04.430000'), Timedelta('0 days 00:01:08.600000'), Timedelta('2 days 19:34:46.220000'), NaT]"
        ],
        [
         "278",
         "989.001034174119",
         "['9C', '9D', '91']",
         "[1, 1, 6]",
         "['unknown', 'ds']",
         "[NaT, NaT, NaT]"
        ],
        [
         "289",
         "989.001034174829",
         "['9C', '9D', '91']",
         "[6, 6, 1]",
         "['unknown', 'ds']",
         "[NaT, NaT, NaT]"
        ],
        [
         "297",
         "989.001034175145",
         "['9C', '9D', '9A', '9B', '9A', '9B', '9A', '9B']",
         "[3, 4, 1, 1, 1, 1, 2, 1]",
         "['unknown', 'unknown', 'us', 'ds', 'us', 'ds', 'us']",
         "[NaT, NaT, Timedelta('0 days 00:00:00.850000'), Timedelta('0 days 00:01:34.880000'), Timedelta('0 days 00:00:15.700000'), NaT, Timedelta('0 days 00:00:37.930000'), NaT]"
        ],
        [
         "298",
         "989.001034175149",
         "['9C', '9D', '9A', '9B', '9A', '9B', '9A', '9B', '9A', '9B']",
         "[1, 1, 1, 1, 1, 1, 1, 1, 2, 1]",
         "['unknown', 'unknown', 'us', 'ds', 'us', 'ds', 'us', 'ds', 'us']",
         "[NaT, NaT, Timedelta('0 days 00:00:01.060000'), Timedelta('0 days 00:00:58.280000'), Timedelta('0 days 00:00:01.450000'), Timedelta('0 days 00:00:58.550000'), Timedelta('0 days 00:00:03.510000'), Timedelta('0 days 00:01:51.640000'), Timedelta('0 days 00:00:14.130000'), NaT]"
        ],
        [
         "302",
         "989.001034175222",
         "['9D', '9A', '9B', '9A', '9B', '9A', '9B', '9A']",
         "[1, 1, 1, 1, 1, 1, 2, 1]",
         "['unknown', 'us', 'ds', 'us', 'ds', 'us', 'ds']",
         "[NaT, Timedelta('0 days 00:00:03.210000'), Timedelta('0 days 00:09:29.660000'), Timedelta('0 days 00:00:05.390000'), Timedelta('0 days 00:00:58.070000'), Timedelta('0 days 00:00:04.100000'), Timedelta('0 days 00:00:00.210000'), NaT]"
        ],
        [
         "305",
         "989.001034175298",
         "['9D', '9A', '9B', '9A', '9B']",
         "[1, 1, 1, 1, 1]",
         "['unknown', 'us', 'ds', 'us']",
         "[NaT, Timedelta('0 days 00:00:00.810000'), Timedelta('0 days 00:02:03.360000'), Timedelta('0 days 00:00:03.040000'), NaT]"
        ],
        [
         "318",
         "989.001034176199",
         "['9D', '9B', '9A', '9B', '9A', '9B', '9A', '9B']",
         "[1, 1, 1, 1, 2, 1, 1, 1]",
         "['unknown', 'ds', 'us', 'ds', 'us', 'ds', 'us']",
         "[NaT, Timedelta('0 days 00:00:00.050000'), NaT, NaT, Timedelta('0 days 00:00:03.230000'), Timedelta('0 days 00:01:26.270000'), Timedelta('0 days 00:00:03.430000'), NaT]"
        ],
        [
         "319",
         "989.00103417632",
         "['9C', '9D', '91']",
         "[1, 1, 3]",
         "['unknown', 'ds']",
         "[NaT, NaT, NaT]"
        ],
        [
         "320",
         "989.001034176379",
         "['9C', '9A', '9B', '9A', '9B']",
         "[1, 1, 1, 2, 1]",
         "['unknown', 'us', 'ds', 'us']",
         "[NaT, Timedelta('0 days 00:00:01.020000'), Timedelta('0 days 00:01:51.340000'), Timedelta('0 days 00:00:14.740000'), NaT]"
        ],
        [
         "321",
         "989.001034176447",
         "['A1', 'A2', 'AB', 'C2', 'AA', 'C1', 'AA', 'AB', 'C2', 'AB', 'AA', 'C1', 'AA', 'AB', 'C2', 'AB', 'C1', 'AA', 'C2', 'AB', 'AA', 'C1', 'AA', 'C2', 'AB', 'AB', 'AA', 'C1', 'AA', 'AB', 'C2']",
         "[3, 1, 1, 1, 1, 2, 1, 1, 2, 1, 1, 2, 1, 1, 2, 1, 1, 1, 1, 1, 1, 2, 1, 2, 1, 1, 1, 2, 1, 1, 1]",
         "['us', 'us', 'unknown', 'ds', 'unknown', 'unknown', 'us', 'unknown', 'unknown', 'ds', 'unknown', 'unknown', 'us', 'unknown', 'unknown', 'ds', 'unknown', 'us', 'unknown', 'ds', 'unknown', 'unknown', 'us', 'unknown', 'unknown', 'ds', 'unknown', 'unknown', 'us', 'unknown']",
         "[Timedelta('0 days 00:07:41.450000'), Timedelta('2 days 07:39:25.930000'), Timedelta('0 days 00:00:00'), Timedelta('0 days 00:01:32.560000'), Timedelta('0 days 00:00:00'), Timedelta('0 days 00:00:00'), Timedelta('0 days 00:01:39.510000'), Timedelta('0 days 00:00:00'), Timedelta('0 days 00:00:00'), Timedelta('0 days 00:00:50.960000'), Timedelta('0 days 00:00:00'), Timedelta('0 days 00:00:00'), Timedelta('0 days 00:04:18.770000'), Timedelta('0 days 00:00:00'), Timedelta('0 days 00:00:00'), Timedelta('0 days 00:17:36.110000'), Timedelta('0 days 00:00:00'), Timedelta('1 days 00:02:13.560000'), Timedelta('0 days 00:00:00'), Timedelta('0 days 00:01:31.140000'), Timedelta('0 days 00:00:00'), Timedelta('0 days 00:00:00'), Timedelta('0 days 00:01:01.810000'), Timedelta('-1 days +02:47:37.760000'), Timedelta('0 days 21:12:22.240000'), Timedelta('0 days 00:01:39.230000'), Timedelta('0 days 00:00:00'), Timedelta('0 days 00:00:00'), Timedelta('0 days 00:00:34.890000'), Timedelta('0 days 00:00:00'), NaT]"
        ],
        [
         "329",
         "989.001034177877",
         "['A2', 'A1', 'A2', 'A1', 'C1', 'AA', 'AB', 'C2', 'C2', 'C1', 'AA', 'C1', 'AB', 'C2', 'C2', 'C1', 'AA', 'AA', 'C1', 'AB', 'C2', 'AB', 'C1', 'AA', 'AA', 'AB', 'C2', 'AB', 'C2', 'C1', 'AA', 'C1', 'AA', 'C2', 'AB', 'AB', 'C1', 'AA', 'AA', 'C2', 'AB', 'C2', 'AB', 'C1', 'AA', 'AA', 'C1', 'AB', 'C2', 'C2', 'AA', 'C1', 'C1', 'AB', 'C2', 'C2', 'AA', 'C1', 'C1', 'AB', 'C2', 'C1', 'AA', 'C1', 'AB', 'C2', 'C2', 'C1', 'AA', 'C2', 'AB', 'AB', 'AA', 'C1', 'C1', 'AA', 'C2', 'AB', 'C2', 'C2', 'AB', 'AA', 'C1', 'A2', 'A1']",
         "[2, 5, 1, 1, 1, 1, 2, 1, 1, 1, 2, 1, 2, 1, 1, 1, 1, 1, 1, 1, 2, 1, 2, 1, 1, 1, 2, 2, 1, 1, 1, 1, 1, 2, 1, 1, 2, 1, 1, 1, 1, 1, 1, 1, 1, 1, 1, 2, 1, 1, 2, 1, 1, 2, 1, 1, 2, 1, 1, 1, 1, 1, 2, 1, 2, 1, 1, 1, 1, 2, 1, 1, 1, 1, 1, 1, 1, 2, 1, 1, 1, 1, 1, 1, 1]",
         "['ds', 'us', 'ds', 'us', 'unknown', 'us', 'unknown', 'unknown', 'ds', 'unknown', 'unknown', 'us', 'unknown', 'unknown', 'ds', 'unknown', 'unknown', 'unknown', 'us', 'unknown', 'unknown', 'ds', 'unknown', 'unknown', 'us', 'unknown', 'unknown', 'unknown', 'ds', 'unknown', 'unknown', 'unknown', 'us', 'unknown', 'unknown', 'ds', 'unknown', 'unknown', 'us', 'unknown', 'unknown', 'unknown', 'ds', 'unknown', 'unknown', 'unknown', 'us', 'unknown', 'unknown', 'ds', 'unknown', 'unknown', 'us', 'unknown', 'unknown', 'ds', 'unknown', 'unknown', 'us', 'unknown', 'ds', 'unknown', 'unknown', 'us', 'unknown', 'unknown', 'ds', 'unknown', 'us', 'unknown', 'unknown', 'ds', 'unknown', 'unknown', 'unknown', 'us', 'unknown', 'unknown', 'unknown', 'unknown', 'ds', 'unknown', 'ds', 'ds']",
         "[Timedelta('40 days 03:16:34.900000'), Timedelta('0 days 00:09:09.120000'), Timedelta('28 days 17:29:00.430000'), Timedelta('103 days 09:50:02.150000'), Timedelta('0 days 00:00:00'), Timedelta('0 days 00:05:06.290000'), Timedelta('-1 days +23:44:52.400000'), Timedelta('0 days 00:15:07.600000'), Timedelta('0 days 00:03:25.950000'), Timedelta('0 days 00:00:00'), Timedelta('0 days 00:00:00'), Timedelta('0 days 00:01:58.130000'), Timedelta('-1 days +23:23:13.760000'), Timedelta('0 days 00:36:46.240000'), Timedelta('0 days 00:01:08.440000'), Timedelta('0 days 00:00:00'), Timedelta('0 days 22:13:09.370000'), Timedelta('0 days 00:00:00'), Timedelta('0 days 00:02:18.290000'), Timedelta('0 days 00:00:00'), Timedelta('0 days 00:00:00'), Timedelta('0 days 00:04:21.860000'), Timedelta('-1 days +21:00:36.460000'), Timedelta('0 days 02:59:23.540000'), Timedelta('0 days 00:03:14.770000'), Timedelta('0 days 00:00:00'), Timedelta('0 days 00:00:00'), Timedelta('0 days 00:00:00'), Timedelta('0 days 00:00:53.260000'), Timedelta('0 days 00:00:00'), Timedelta('7 days 19:37:41.350000'), Timedelta('0 days 00:00:00'), Timedelta('0 days 00:03:25.180000'), Timedelta('-1 days +23:37:15.970000'), Timedelta('0 days 00:22:44.030000'), Timedelta('0 days 00:02:20.360000'), Timedelta('-2 days +00:18:19.210000'), Timedelta('1 days 23:41:40.790000'), Timedelta('0 days 00:01:07.760000'), Timedelta('0 days 00:00:00'), Timedelta('1 days 22:37:27.410000'), Timedelta('0 days 00:00:00'), Timedelta('0 days 00:01:48.470000'), Timedelta('0 days 00:00:00'), Timedelta('5 days 00:24:16.290000'), Timedelta('0 days 00:00:00'), Timedelta('0 days 00:03:58.660000'), Timedelta('-1 days +23:26:23.960000'), Timedelta('0 days 00:33:36.040000'), Timedelta('0 days 00:02:22.490000'), Timedelta('-1 days +21:42:16.390000'), Timedelta('0 days 02:17:43.610000'), Timedelta('0 days 00:02:38.110000'), Timedelta('-1 days +23:48:19.470000'), Timedelta('0 days 00:11:40.530000'), Timedelta('0 days 00:02:06.280000'), Timedelta('-9 days +02:10:23'), Timedelta('8 days 21:49:37'), Timedelta('0 days 00:03:36.500000'), Timedelta('0 days 00:00:00'), Timedelta('0 days 00:02:30.610000'), Timedelta('0 days 00:00:00'), Timedelta('0 days 00:00:00'), Timedelta('0 days 00:01:48.230000'), Timedelta('-1 days +23:26:48.540000'), Timedelta('0 days 00:33:11.460000'), Timedelta('0 days 00:02:13.180000'), Timedelta('0 days 00:00:00'), Timedelta('0 days 00:48:12.500000'), Timedelta('-1 days +23:46:56.640000'), Timedelta('0 days 00:13:03.360000'), Timedelta('0 days 00:02:46.130000'), Timedelta('0 days 00:00:00'), Timedelta('0 days 23:44:18.290000'), Timedelta('0 days 00:00:00'), Timedelta('0 days 00:04:21.200000'), Timedelta('0 days 00:00:00'), Timedelta('0 days 00:00:00'), Timedelta('4 days 22:23:47.640000'), Timedelta('0 days 00:00:00'), Timedelta('0 days 00:02:52.830000'), Timedelta('0 days 00:00:00'), Timedelta('194 days 12:07:22.840000'), Timedelta('0 days 00:06:52.720000'), NaT]"
        ],
        [
         "333",
         "989.001034178893",
         "['A1', 'A2', 'A1', 'A2', 'C2', 'C1', 'C2', 'AB', 'C2', 'AB', 'C2', 'AA', 'C1', 'C1', 'AA', 'C2', 'AB', 'C2', 'AB', 'AA', 'C1', 'C1', 'AB', 'C2', 'C2', 'C1', 'AA', 'C1', 'C2', 'AB', 'C2', 'AB', 'AA', 'C1']",
         "[1, 1, 2, 1, 1, 2, 3, 2, 2, 2, 1, 1, 1, 1, 1, 1, 2, 2, 1, 2, 1, 1, 2, 1, 1, 1, 2, 1, 1, 2, 2, 1, 1, 1]",
         "['us', 'ds', 'us', 'us', 'ds', 'us', 'unknown', 'unknown', 'unknown', 'unknown', 'ds', 'unknown', 'unknown', 'unknown', 'us', 'unknown', 'unknown', 'unknown', 'ds', 'unknown', 'unknown', 'us', 'unknown', 'unknown', 'ds', 'unknown', 'unknown', 'us', 'unknown', 'unknown', 'unknown', 'ds', 'unknown']",
         "[Timedelta('0 days 00:17:30.030000'), Timedelta('108 days 01:34:59.540000'), Timedelta('0 days 00:04:37.390000'), Timedelta('44 days 16:19:49.180000'), Timedelta('0 days 00:07:01.140000'), Timedelta('0 days 00:03:41.910000'), Timedelta('0 days 00:00:00'), Timedelta('0 days 00:00:00'), Timedelta('0 days 00:00:00'), Timedelta('0 days 00:00:00'), Timedelta('0 days 09:15:43.080000'), Timedelta('0 days 00:00:00'), Timedelta('1 days 16:08:36.920000'), Timedelta('0 days 00:00:00'), Timedelta('0 days 00:00:28.300000'), Timedelta('0 days 00:00:00'), Timedelta('0 days 00:00:00'), Timedelta('0 days 00:00:00'), Timedelta('0 days 00:00:42.670000'), Timedelta('-1 days +20:14:58.320000'), Timedelta('0 days 03:45:01.680000'), Timedelta('0 days 00:02:14.920000'), Timedelta('-1 days +23:49:07.930000'), Timedelta('0 days 00:10:52.070000'), Timedelta('0 days 00:03:05.310000'), Timedelta('0 days 00:00:00'), Timedelta('0 days 00:00:00'), Timedelta('0 days 00:00:54.850000'), Timedelta('0 days 00:00:00'), Timedelta('0 days 00:00:00'), Timedelta('0 days 00:00:00'), Timedelta('0 days 00:00:48.820000'), Timedelta('0 days 00:00:00'), NaT]"
        ],
        [
         "350",
         "989.001038723112",
         "['402', '501', '51', '5A', '51', '5A', '5B', '5A']",
         "[1, 4, 2, 1, 1, 1, 2, 1]",
         "['unknown', 'us', 'ds', 'us', 'ds', 'us', 'ds']",
         "[Timedelta('500 days 15:56:23.680000'), Timedelta('0 days 03:08:00.830000'), Timedelta('0 days 01:36:01.830000'), Timedelta('0 days 00:40:10.630000'), Timedelta('6 days 23:55:29.910000'), Timedelta('0 days 00:00:52.710000'), Timedelta('0 days 00:00:10.070000'), NaT]"
        ],
        [
         "359",
         "989.001038723332",
         "['7B', '7A', '7B', '7A', '7B', '71', '702']",
         "[2, 1, 1, 1, 1, 1, 14]",
         "['ds', 'us', 'ds', 'us', 'unknown', 'ds']",
         "[Timedelta('0 days 00:06:08.780000'), Timedelta('0 days 00:00:21.700000'), Timedelta('0 days 00:07:46.530000'), Timedelta('0 days 00:00:07.470000'), Timedelta('7 days 12:41:39.050000'), Timedelta('6 days 23:25:04.340000'), NaT]"
        ],
        [
         "368",
         "989.001038723576",
         "['3A', '302', '301']",
         "[1, 4, 1]",
         "['unknown', 'ds']",
         "[NaT, Timedelta('58 days 06:33:18.990000'), NaT]"
        ],
        [
         "369",
         "989.001038723577",
         "['3A', '302']",
         "[1, 1]",
         "['unknown']",
         "[NaT, NaT]"
        ],
        [
         "370",
         "989.001038723583",
         "['3A', '302']",
         "[1, 2]",
         "['unknown']",
         "[NaT, NaT]"
        ],
        [
         "372",
         "989.001038723621",
         "['3A', '402']",
         "[1, 7]",
         "['unknown']",
         "[NaT, NaT]"
        ],
        [
         "373",
         "989.001038723636",
         "['3A', '302']",
         "[1, 1]",
         "['unknown']",
         "[NaT, NaT]"
        ],
        [
         "374",
         "989.001038723743",
         "['3A', '301']",
         "[1, 1]",
         "['unknown']",
         "[NaT, NaT]"
        ],
        [
         "378",
         "989.001038723881",
         "['3A', '302', '301']",
         "[1, 1, 2]",
         "['unknown', 'ds']",
         "[NaT, Timedelta('0 days 00:19:20.600000'), NaT]"
        ],
        [
         "380",
         "989.001038723924",
         "['3B', '3A', '302', '301', '302']",
         "[2, 1, 1, 1, 2]",
         "['unknown', 'unknown', 'ds', 'us']",
         "[NaT, NaT, Timedelta('0 days 00:34:22.530000'), Timedelta('0 days 00:26:21.330000'), NaT]"
        ],
        [
         "381",
         "989.001038723944",
         "['3A', '302']",
         "[1, 9]",
         "['unknown']",
         "[NaT, NaT]"
        ],
        [
         "383",
         "989.001038724011",
         "['3A', '302']",
         "[1, 2]",
         "['unknown']",
         "[NaT, NaT]"
        ],
        [
         "384",
         "989.001038724065",
         "['3B', '3A', '302', '301', '302']",
         "[2, 1, 2, 2, 1]",
         "['unknown', 'unknown', 'ds', 'us']",
         "[NaT, NaT, Timedelta('0 days 09:48:56.220000'), Timedelta('13 days 18:19:41.140000'), NaT]"
        ],
        [
         "386",
         "989.001038724131",
         "['3A', '302']",
         "[1, 1]",
         "['unknown']",
         "[NaT, NaT]"
        ],
        [
         "387",
         "989.001038724143",
         "['3B', '3A', '501']",
         "[3, 1, 1]",
         "['unknown', 'unknown']",
         "[NaT, NaT, NaT]"
        ]
       ],
       "shape": {
        "columns": 5,
        "rows": 1151
       }
      },
      "text/html": [
       "<div>\n",
       "<style scoped>\n",
       "    .dataframe tbody tr th:only-of-type {\n",
       "        vertical-align: middle;\n",
       "    }\n",
       "\n",
       "    .dataframe tbody tr th {\n",
       "        vertical-align: top;\n",
       "    }\n",
       "\n",
       "    .dataframe thead th {\n",
       "        text-align: right;\n",
       "    }\n",
       "</style>\n",
       "<table border=\"1\" class=\"dataframe\">\n",
       "  <thead>\n",
       "    <tr style=\"text-align: right;\">\n",
       "      <th></th>\n",
       "      <th>tag_id</th>\n",
       "      <th>loc_code</th>\n",
       "      <th>number_of_detections</th>\n",
       "      <th>movement_direction</th>\n",
       "      <th>time_between_detections</th>\n",
       "    </tr>\n",
       "  </thead>\n",
       "  <tbody>\n",
       "    <tr>\n",
       "      <th>94</th>\n",
       "      <td>989.001034</td>\n",
       "      <td>[61, 61, 61]</td>\n",
       "      <td>[1, 2, 1]</td>\n",
       "      <td>[unknown, unknown]</td>\n",
       "      <td>[0 days 00:17:31.940000, 0 days 11:53:05.49000...</td>\n",
       "    </tr>\n",
       "    <tr>\n",
       "      <th>131</th>\n",
       "      <td>989.001034</td>\n",
       "      <td>[7B, 7A, 71]</td>\n",
       "      <td>[18, 8, 3]</td>\n",
       "      <td>[ds, unknown]</td>\n",
       "      <td>[0 days 00:00:24.840000, NaT, NaT]</td>\n",
       "    </tr>\n",
       "    <tr>\n",
       "      <th>192</th>\n",
       "      <td>989.001034</td>\n",
       "      <td>[7B, 7A, 7B, 7A, 7B, 71]</td>\n",
       "      <td>[1, 11, 1, 4, 1, 32]</td>\n",
       "      <td>[ds, us, ds, us, unknown]</td>\n",
       "      <td>[0 days 00:00:47.110000, 0 days 00:01:11.05000...</td>\n",
       "    </tr>\n",
       "    <tr>\n",
       "      <th>208</th>\n",
       "      <td>989.001034</td>\n",
       "      <td>[9D, 9A, 9B]</td>\n",
       "      <td>[1, 1, 1]</td>\n",
       "      <td>[unknown, us]</td>\n",
       "      <td>[NaT, 0 days 00:00:03.070000, NaT]</td>\n",
       "    </tr>\n",
       "    <tr>\n",
       "      <th>212</th>\n",
       "      <td>989.001034</td>\n",
       "      <td>[9C, 9D, 91]</td>\n",
       "      <td>[1, 1, 2]</td>\n",
       "      <td>[unknown, ds]</td>\n",
       "      <td>[NaT, NaT, NaT]</td>\n",
       "    </tr>\n",
       "    <tr>\n",
       "      <th>...</th>\n",
       "      <td>...</td>\n",
       "      <td>...</td>\n",
       "      <td>...</td>\n",
       "      <td>...</td>\n",
       "      <td>...</td>\n",
       "    </tr>\n",
       "    <tr>\n",
       "      <th>6687</th>\n",
       "      <td>989.001046</td>\n",
       "      <td>[9D, 9C, 91, 922, 921, 922, 9A, 9B, 9A]</td>\n",
       "      <td>[1, 1, 2, 4, 1, 1, 1, 2, 1]</td>\n",
       "      <td>[unknown, ds, us, ds, us, us, us, ds]</td>\n",
       "      <td>[0 days 00:00:02.150000, 114 days 14:42:54.420...</td>\n",
       "    </tr>\n",
       "    <tr>\n",
       "      <th>6689</th>\n",
       "      <td>989.002027</td>\n",
       "      <td>[61, 61, 61]</td>\n",
       "      <td>[1, 1, 1]</td>\n",
       "      <td>[unknown, unknown]</td>\n",
       "      <td>[0 days 00:02:06.630000, 116 days 21:17:52.990...</td>\n",
       "    </tr>\n",
       "    <tr>\n",
       "      <th>6711</th>\n",
       "      <td>989.002028</td>\n",
       "      <td>[6A, 501]</td>\n",
       "      <td>[1, 3136]</td>\n",
       "      <td>[unknown]</td>\n",
       "      <td>[13 days 06:02:27.910000, NaT]</td>\n",
       "    </tr>\n",
       "    <tr>\n",
       "      <th>6912</th>\n",
       "      <td>989.002028</td>\n",
       "      <td>[922, 921, 9D, 9C, 9D, 9C, 9D, 9C, 9D, 9C, 9D,...</td>\n",
       "      <td>[1, 1, 1, 5, 1, 15, 12, 25, 17, 9, 8, 9, 3, 11...</td>\n",
       "      <td>[ds, unknown, unknown, unknown, unknown, unkno...</td>\n",
       "      <td>[0 days 00:00:34.200000, 0 days 21:48:35.76000...</td>\n",
       "    </tr>\n",
       "    <tr>\n",
       "      <th>6940</th>\n",
       "      <td>989.002028</td>\n",
       "      <td>[702, 71, 7A, 7B]</td>\n",
       "      <td>[1, 1, 1, 6]</td>\n",
       "      <td>[us, unknown, us]</td>\n",
       "      <td>[20 days 08:11:55.960000, 3 days 22:55:44.2700...</td>\n",
       "    </tr>\n",
       "  </tbody>\n",
       "</table>\n",
       "<p>1151 rows × 5 columns</p>\n",
       "</div>"
      ],
      "text/plain": [
       "          tag_id                                           loc_code  \\\n",
       "94    989.001034                                       [61, 61, 61]   \n",
       "131   989.001034                                       [7B, 7A, 71]   \n",
       "192   989.001034                           [7B, 7A, 7B, 7A, 7B, 71]   \n",
       "208   989.001034                                       [9D, 9A, 9B]   \n",
       "212   989.001034                                       [9C, 9D, 91]   \n",
       "...          ...                                                ...   \n",
       "6687  989.001046            [9D, 9C, 91, 922, 921, 922, 9A, 9B, 9A]   \n",
       "6689  989.002027                                       [61, 61, 61]   \n",
       "6711  989.002028                                          [6A, 501]   \n",
       "6912  989.002028  [922, 921, 9D, 9C, 9D, 9C, 9D, 9C, 9D, 9C, 9D,...   \n",
       "6940  989.002028                                  [702, 71, 7A, 7B]   \n",
       "\n",
       "                                   number_of_detections  \\\n",
       "94                                            [1, 2, 1]   \n",
       "131                                          [18, 8, 3]   \n",
       "192                                [1, 11, 1, 4, 1, 32]   \n",
       "208                                           [1, 1, 1]   \n",
       "212                                           [1, 1, 2]   \n",
       "...                                                 ...   \n",
       "6687                        [1, 1, 2, 4, 1, 1, 1, 2, 1]   \n",
       "6689                                          [1, 1, 1]   \n",
       "6711                                          [1, 3136]   \n",
       "6912  [1, 1, 1, 5, 1, 15, 12, 25, 17, 9, 8, 9, 3, 11...   \n",
       "6940                                       [1, 1, 1, 6]   \n",
       "\n",
       "                                     movement_direction  \\\n",
       "94                                   [unknown, unknown]   \n",
       "131                                       [ds, unknown]   \n",
       "192                           [ds, us, ds, us, unknown]   \n",
       "208                                       [unknown, us]   \n",
       "212                                       [unknown, ds]   \n",
       "...                                                 ...   \n",
       "6687              [unknown, ds, us, ds, us, us, us, ds]   \n",
       "6689                                 [unknown, unknown]   \n",
       "6711                                          [unknown]   \n",
       "6912  [ds, unknown, unknown, unknown, unknown, unkno...   \n",
       "6940                                  [us, unknown, us]   \n",
       "\n",
       "                                time_between_detections  \n",
       "94    [0 days 00:17:31.940000, 0 days 11:53:05.49000...  \n",
       "131                  [0 days 00:00:24.840000, NaT, NaT]  \n",
       "192   [0 days 00:00:47.110000, 0 days 00:01:11.05000...  \n",
       "208                  [NaT, 0 days 00:00:03.070000, NaT]  \n",
       "212                                     [NaT, NaT, NaT]  \n",
       "...                                                 ...  \n",
       "6687  [0 days 00:00:02.150000, 114 days 14:42:54.420...  \n",
       "6689  [0 days 00:02:06.630000, 116 days 21:17:52.990...  \n",
       "6711                     [13 days 06:02:27.910000, NaT]  \n",
       "6912  [0 days 00:00:34.200000, 0 days 21:48:35.76000...  \n",
       "6940  [20 days 08:11:55.960000, 3 days 22:55:44.2700...  \n",
       "\n",
       "[1151 rows x 5 columns]"
      ]
     },
     "execution_count": 6,
     "metadata": {},
     "output_type": "execute_result"
    }
   ],
   "source": [
    "unusual = merged_df[merged_df[\"movement_direction\"].apply(lambda x: \"unknown\" in x)]\n",
    "unusual"
   ]
  },
  {
   "cell_type": "code",
   "execution_count": 7,
   "metadata": {},
   "outputs": [],
   "source": [
    "unusual.to_csv(\"data/unusual movements.csv\", index=False)"
   ]
  },
  {
   "cell_type": "markdown",
   "metadata": {},
   "source": [
    "Count/Visualize movement direction"
   ]
  },
  {
   "cell_type": "code",
   "execution_count": 8,
   "metadata": {},
   "outputs": [],
   "source": [
    "filtered_df = merged_df[~merged_df[\"movement_direction\"].apply(lambda x: \"unknown\" in x)] # remove any \"unknown\""
   ]
  },
  {
   "cell_type": "code",
   "execution_count": 9,
   "metadata": {},
   "outputs": [
    {
     "data": {
      "application/vnd.microsoft.datawrangler.viewer.v0+json": {
       "columns": [
        {
         "name": "index",
         "rawType": "int64",
         "type": "integer"
        },
        {
         "name": "Combination",
         "rawType": "object",
         "type": "unknown"
        },
        {
         "name": "Count",
         "rawType": "int64",
         "type": "integer"
        }
       ],
       "conversionMethod": "pd.DataFrame",
       "ref": "2104a56a-21d4-42f6-9ac7-486b96e70fd6",
       "rows": [
        [
         "0",
         "()",
         "1545"
        ],
        [
         "1",
         "('ds',)",
         "687"
        ],
        [
         "2",
         "('ds', 'us')",
         "634"
        ],
        [
         "3",
         "('us',)",
         "599"
        ],
        [
         "4",
         "('ds', 'us', 'us')",
         "350"
        ],
        [
         "5",
         "('ds', 'ds', 'us', 'us')",
         "313"
        ],
        [
         "6",
         "('ds', 'ds', 'us')",
         "269"
        ],
        [
         "7",
         "('us', 'us')",
         "208"
        ],
        [
         "8",
         "('ds', 'ds', 'ds', 'us', 'us', 'us')",
         "117"
        ],
        [
         "9",
         "('ds', 'ds', 'us', 'us', 'us')",
         "106"
        ],
        [
         "10",
         "('ds', 'ds', 'ds', 'us', 'us')",
         "84"
        ],
        [
         "11",
         "('ds', 'us', 'us', 'us')",
         "80"
        ],
        [
         "12",
         "('ds', 'ds', 'ds', 'us', 'us', 'us', 'us')",
         "69"
        ],
        [
         "13",
         "('ds', 'ds', 'us', 'us', 'us', 'us')",
         "58"
        ],
        [
         "14",
         "('ds', 'ds', 'ds', 'ds', 'us', 'us', 'us')",
         "55"
        ],
        [
         "15",
         "('ds', 'ds', 'ds', 'ds', 'us', 'us', 'us', 'us', 'us')",
         "52"
        ],
        [
         "16",
         "('ds', 'ds', 'ds', 'ds', 'us', 'us', 'us', 'us')",
         "47"
        ],
        [
         "17",
         "('us', 'us', 'us')",
         "30"
        ],
        [
         "18",
         "('ds', 'ds', 'ds', 'us', 'us', 'us', 'us', 'us')",
         "29"
        ],
        [
         "19",
         "('ds', 'ds', 'ds', 'ds', 'ds', 'us', 'us', 'us', 'us', 'us', 'us')",
         "28"
        ],
        [
         "20",
         "('ds', 'ds', 'ds', 'ds', 'ds', 'us', 'us', 'us', 'us', 'us')",
         "27"
        ],
        [
         "21",
         "('ds', 'ds', 'ds', 'ds', 'us', 'us', 'us', 'us', 'us', 'us')",
         "23"
        ],
        [
         "22",
         "('ds', 'ds', 'ds', 'ds', 'ds', 'us', 'us', 'us', 'us')",
         "20"
        ],
        [
         "23",
         "('ds', 'us', 'us', 'us', 'us')",
         "20"
        ],
        [
         "24",
         "('ds', 'ds', 'ds', 'ds', 'ds', 'ds', 'us', 'us', 'us', 'us', 'us', 'us', 'us')",
         "19"
        ],
        [
         "25",
         "('ds', 'ds', 'ds', 'ds', 'ds', 'ds', 'us', 'us', 'us', 'us', 'us', 'us')",
         "18"
        ],
        [
         "26",
         "('ds', 'ds', 'us', 'us', 'us', 'us', 'us')",
         "15"
        ],
        [
         "27",
         "('ds', 'ds', 'ds', 'ds', 'ds', 'ds', 'ds', 'us', 'us', 'us', 'us', 'us', 'us', 'us', 'us')",
         "13"
        ],
        [
         "28",
         "('ds', 'ds', 'ds', 'ds', 'ds', 'us', 'us', 'us', 'us', 'us', 'us', 'us')",
         "13"
        ],
        [
         "29",
         "('ds', 'ds', 'ds', 'ds', 'ds', 'ds', 'ds', 'ds', 'us', 'us', 'us', 'us', 'us', 'us', 'us', 'us', 'us')",
         "12"
        ],
        [
         "30",
         "('ds', 'ds', 'ds', 'ds', 'ds', 'ds', 'us', 'us', 'us', 'us', 'us', 'us', 'us', 'us')",
         "11"
        ],
        [
         "31",
         "('ds', 'ds', 'ds', 'ds', 'ds', 'ds', 'ds', 'ds', 'us', 'us', 'us', 'us', 'us', 'us', 'us', 'us')",
         "11"
        ],
        [
         "32",
         "('ds', 'ds', 'ds', 'ds', 'ds', 'ds', 'ds', 'us', 'us', 'us', 'us', 'us', 'us', 'us')",
         "11"
        ],
        [
         "33",
         "('ds', 'ds', 'ds', 'ds', 'ds', 'ds', 'ds', 'us', 'us', 'us', 'us', 'us', 'us')",
         "10"
        ],
        [
         "34",
         "('ds', 'ds', 'ds', 'ds', 'ds', 'ds', 'us', 'us', 'us', 'us', 'us')",
         "10"
        ],
        [
         "35",
         "('ds', 'ds', 'ds', 'ds', 'ds', 'ds', 'ds', 'ds', 'ds', 'ds', 'ds', 'us', 'us', 'us', 'us', 'us', 'us', 'us', 'us', 'us', 'us', 'us')",
         "10"
        ],
        [
         "36",
         "('ds', 'ds', 'ds', 'ds', 'ds', 'ds', 'ds', 'ds', 'ds', 'ds', 'us', 'us', 'us', 'us', 'us', 'us', 'us', 'us', 'us', 'us', 'us')",
         "9"
        ],
        [
         "37",
         "('ds', 'ds')",
         "9"
        ],
        [
         "38",
         "('ds', 'ds', 'ds', 'ds', 'ds', 'ds', 'ds', 'ds', 'ds', 'us', 'us', 'us', 'us', 'us', 'us', 'us', 'us', 'us', 'us')",
         "8"
        ],
        [
         "39",
         "('ds', 'ds', 'ds', 'ds', 'ds', 'ds', 'ds', 'ds', 'ds', 'ds', 'ds', 'ds', 'us', 'us', 'us', 'us', 'us', 'us', 'us', 'us', 'us', 'us', 'us', 'us')",
         "8"
        ],
        [
         "40",
         "('ds', 'ds', 'ds', 'ds', 'ds', 'ds', 'ds', 'ds', 'ds', 'us', 'us', 'us', 'us', 'us', 'us', 'us', 'us', 'us')",
         "7"
        ],
        [
         "41",
         "('ds', 'ds', 'ds', 'ds', 'ds', 'ds', 'ds', 'ds', 'us', 'us', 'us', 'us', 'us', 'us', 'us')",
         "7"
        ],
        [
         "42",
         "('ds', 'ds', 'ds', 'us', 'us', 'us', 'us', 'us', 'us')",
         "7"
        ],
        [
         "43",
         "('ds', 'ds', 'ds', 'ds', 'ds', 'ds', 'ds', 'ds', 'ds', 'ds', 'ds', 'ds', 'ds', 'us', 'us', 'us', 'us', 'us', 'us', 'us', 'us', 'us', 'us', 'us', 'us', 'us')",
         "6"
        ],
        [
         "44",
         "('us', 'us', 'us', 'us')",
         "6"
        ],
        [
         "45",
         "('ds', 'ds', 'ds', 'ds', 'ds', 'ds', 'ds', 'ds', 'ds', 'us', 'us', 'us', 'us', 'us', 'us', 'us', 'us')",
         "6"
        ],
        [
         "46",
         "('ds', 'us', 'us', 'us', 'us', 'us')",
         "5"
        ],
        [
         "47",
         "('ds', 'ds', 'ds', 'ds', 'ds', 'ds', 'ds', 'ds', 'us', 'us', 'us', 'us', 'us', 'us', 'us', 'us', 'us', 'us')",
         "5"
        ],
        [
         "48",
         "('ds', 'ds', 'ds', 'ds', 'ds', 'ds', 'ds', 'ds', 'ds', 'ds', 'ds', 'us', 'us', 'us', 'us', 'us', 'us', 'us', 'us', 'us', 'us', 'us', 'us')",
         "4"
        ],
        [
         "49",
         "('ds', 'ds', 'ds', 'us')",
         "4"
        ]
       ],
       "shape": {
        "columns": 2,
        "rows": 155
       }
      },
      "text/html": [
       "<div>\n",
       "<style scoped>\n",
       "    .dataframe tbody tr th:only-of-type {\n",
       "        vertical-align: middle;\n",
       "    }\n",
       "\n",
       "    .dataframe tbody tr th {\n",
       "        vertical-align: top;\n",
       "    }\n",
       "\n",
       "    .dataframe thead th {\n",
       "        text-align: right;\n",
       "    }\n",
       "</style>\n",
       "<table border=\"1\" class=\"dataframe\">\n",
       "  <thead>\n",
       "    <tr style=\"text-align: right;\">\n",
       "      <th></th>\n",
       "      <th>Combination</th>\n",
       "      <th>Count</th>\n",
       "    </tr>\n",
       "  </thead>\n",
       "  <tbody>\n",
       "    <tr>\n",
       "      <th>0</th>\n",
       "      <td>()</td>\n",
       "      <td>1545</td>\n",
       "    </tr>\n",
       "    <tr>\n",
       "      <th>1</th>\n",
       "      <td>(ds,)</td>\n",
       "      <td>687</td>\n",
       "    </tr>\n",
       "    <tr>\n",
       "      <th>2</th>\n",
       "      <td>(ds, us)</td>\n",
       "      <td>634</td>\n",
       "    </tr>\n",
       "    <tr>\n",
       "      <th>3</th>\n",
       "      <td>(us,)</td>\n",
       "      <td>599</td>\n",
       "    </tr>\n",
       "    <tr>\n",
       "      <th>4</th>\n",
       "      <td>(ds, us, us)</td>\n",
       "      <td>350</td>\n",
       "    </tr>\n",
       "    <tr>\n",
       "      <th>...</th>\n",
       "      <td>...</td>\n",
       "      <td>...</td>\n",
       "    </tr>\n",
       "    <tr>\n",
       "      <th>150</th>\n",
       "      <td>(ds, ds, ds, ds, us, us, us, us, us, us, us, us)</td>\n",
       "      <td>1</td>\n",
       "    </tr>\n",
       "    <tr>\n",
       "      <th>151</th>\n",
       "      <td>(ds, ds, ds, ds, ds, ds, ds, ds, ds, ds, us, u...</td>\n",
       "      <td>1</td>\n",
       "    </tr>\n",
       "    <tr>\n",
       "      <th>152</th>\n",
       "      <td>(ds, ds, ds, ds, ds, ds, ds, ds, ds, ds, ds, d...</td>\n",
       "      <td>1</td>\n",
       "    </tr>\n",
       "    <tr>\n",
       "      <th>153</th>\n",
       "      <td>(ds, ds, ds, ds, ds, ds, ds, ds, ds, ds, ds, d...</td>\n",
       "      <td>1</td>\n",
       "    </tr>\n",
       "    <tr>\n",
       "      <th>154</th>\n",
       "      <td>(ds, ds, ds, ds, ds, ds, ds, ds, ds, ds, ds, d...</td>\n",
       "      <td>1</td>\n",
       "    </tr>\n",
       "  </tbody>\n",
       "</table>\n",
       "<p>155 rows × 2 columns</p>\n",
       "</div>"
      ],
      "text/plain": [
       "                                           Combination  Count\n",
       "0                                                   ()   1545\n",
       "1                                                (ds,)    687\n",
       "2                                             (ds, us)    634\n",
       "3                                                (us,)    599\n",
       "4                                         (ds, us, us)    350\n",
       "..                                                 ...    ...\n",
       "150   (ds, ds, ds, ds, us, us, us, us, us, us, us, us)      1\n",
       "151  (ds, ds, ds, ds, ds, ds, ds, ds, ds, ds, us, u...      1\n",
       "152  (ds, ds, ds, ds, ds, ds, ds, ds, ds, ds, ds, d...      1\n",
       "153  (ds, ds, ds, ds, ds, ds, ds, ds, ds, ds, ds, d...      1\n",
       "154  (ds, ds, ds, ds, ds, ds, ds, ds, ds, ds, ds, d...      1\n",
       "\n",
       "[155 rows x 2 columns]"
      ]
     },
     "execution_count": 9,
     "metadata": {},
     "output_type": "execute_result"
    }
   ],
   "source": [
    "all_items = [tuple(sorted(item)) for sublist in filtered_df['movement_direction'] for item in [sublist]]\n",
    "counts = pd.Series(all_items).value_counts()\n",
    "movement_counts = pd.DataFrame({'Combination': counts.index, 'Count': counts.values})\n",
    "movement_counts"
   ]
  },
  {
   "cell_type": "code",
   "execution_count": 10,
   "metadata": {},
   "outputs": [
    {
     "data": {
      "image/png": "[encoded data removed]",
      "text/plain": [
       "<Figure size 800x800 with 1 Axes>"
      ]
     },
     "metadata": {},
     "output_type": "display_data"
    }
   ],
   "source": [
    "import matplotlib.pyplot as plt\n",
    "import numpy as np\n",
    "\n",
    "total_count = movement_counts[\"Count\"].sum()\n",
    "\n",
    "# 2% is considered the threshold, if the catagory has <2% = other\n",
    "threshold = 0.02 * total_count\n",
    "\n",
    "movement_counts[\"Category\"] = np.where(movement_counts[\"Count\"] < threshold, \"Other\", movement_counts[\"Combination\"])\n",
    "pie_data = movement_counts.groupby(\"Category\")[\"Count\"].sum().reset_index()\n",
    "\n",
    "plt.figure(figsize=(8, 8))\n",
    "plt.pie(pie_data[\"Count\"], labels=pie_data[\"Category\"], autopct=\"%1.1f%%\", startangle=90, wedgeprops={\"edgecolor\": \"black\"})\n",
    "plt.title(\"Distribution of Unique Combinations\")\n",
    "plt.show()\n"
   ]
  }
 ],
 "metadata": {
  "kernelspec": {
   "display_name": "Python 3",
   "language": "python",
   "name": "python3"
  },
  "language_info": {
   "codemirror_mode": {
    "name": "ipython",
    "version": 3
   },
   "file_extension": ".py",
   "mimetype": "text/x-python",
   "name": "python",
   "nbconvert_exporter": "python",
   "pygments_lexer": "ipython3",
   "version": "3.11.8"
  }
 },
 "nbformat": 4,
 "nbformat_minor": 2
}
