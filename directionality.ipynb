{
 "cells": [
  {
   "cell_type": "markdown",
   "metadata": {},
   "source": [
    "1. Look at locations, what is upstream/downstream\n",
    "2. Write directionality rules based on loc_code\n",
    "\n",
    "eg:\n",
    "1. [41, 42, 43] - [us, us]\n",
    "2. [22, 21, 22] - [ds, us]"
   ]
  },
  {
   "cell_type": "code",
   "execution_count": 1,
   "metadata": {},
   "outputs": [],
   "source": [
    "import pandas as pd"
   ]
  },
  {
   "cell_type": "code",
   "execution_count": 2,
   "metadata": {},
   "outputs": [],
   "source": [
    "dwell_loc = pd.read_csv(\"data/loc_code_detection_patterns.csv\")"
   ]
  },
  {
   "cell_type": "code",
   "execution_count": 5,
   "metadata": {},
   "outputs": [
    {
     "data": {
      "text/html": [
       "<div>\n",
       "<style scoped>\n",
       "    .dataframe tbody tr th:only-of-type {\n",
       "        vertical-align: middle;\n",
       "    }\n",
       "\n",
       "    .dataframe tbody tr th {\n",
       "        vertical-align: top;\n",
       "    }\n",
       "\n",
       "    .dataframe thead th {\n",
       "        text-align: right;\n",
       "    }\n",
       "</style>\n",
       "<table border=\"1\" class=\"dataframe\">\n",
       "  <thead>\n",
       "    <tr style=\"text-align: right;\">\n",
       "      <th></th>\n",
       "      <th>tag_id</th>\n",
       "      <th>loc_code</th>\n",
       "    </tr>\n",
       "  </thead>\n",
       "  <tbody>\n",
       "    <tr>\n",
       "      <th>0</th>\n",
       "      <td>989.001007</td>\n",
       "      <td>7A</td>\n",
       "    </tr>\n",
       "    <tr>\n",
       "      <th>1</th>\n",
       "      <td>989.001033</td>\n",
       "      <td>21</td>\n",
       "    </tr>\n",
       "    <tr>\n",
       "      <th>2</th>\n",
       "      <td>989.001007</td>\n",
       "      <td>22</td>\n",
       "    </tr>\n",
       "    <tr>\n",
       "      <th>3</th>\n",
       "      <td>989.001007</td>\n",
       "      <td>232</td>\n",
       "    </tr>\n",
       "    <tr>\n",
       "      <th>4</th>\n",
       "      <td>989.001007</td>\n",
       "      <td>231</td>\n",
       "    </tr>\n",
       "    <tr>\n",
       "      <th>...</th>\n",
       "      <td>...</td>\n",
       "      <td>...</td>\n",
       "    </tr>\n",
       "    <tr>\n",
       "      <th>36754</th>\n",
       "      <td>989.001043</td>\n",
       "      <td>44</td>\n",
       "    </tr>\n",
       "    <tr>\n",
       "      <th>36755</th>\n",
       "      <td>989.001043</td>\n",
       "      <td>45</td>\n",
       "    </tr>\n",
       "    <tr>\n",
       "      <th>36756</th>\n",
       "      <td>989.001043</td>\n",
       "      <td>44</td>\n",
       "    </tr>\n",
       "    <tr>\n",
       "      <th>36757</th>\n",
       "      <td>989.001043</td>\n",
       "      <td>45</td>\n",
       "    </tr>\n",
       "    <tr>\n",
       "      <th>36758</th>\n",
       "      <td>989.001043</td>\n",
       "      <td>44</td>\n",
       "    </tr>\n",
       "  </tbody>\n",
       "</table>\n",
       "<p>36759 rows × 2 columns</p>\n",
       "</div>"
      ],
      "text/plain": [
       "           tag_id loc_code\n",
       "0      989.001007       7A\n",
       "1      989.001033       21\n",
       "2      989.001007       22\n",
       "3      989.001007      232\n",
       "4      989.001007      231\n",
       "...           ...      ...\n",
       "36754  989.001043       44\n",
       "36755  989.001043       45\n",
       "36756  989.001043       44\n",
       "36757  989.001043       45\n",
       "36758  989.001043       44\n",
       "\n",
       "[36759 rows x 2 columns]"
      ]
     },
     "execution_count": 5,
     "metadata": {},
     "output_type": "execute_result"
    }
   ],
   "source": [
    "direction = dwell_loc[['tag_id', 'loc_code']]\n",
    "direction"
   ]
  },
  {
   "cell_type": "code",
   "execution_count": 8,
   "metadata": {},
   "outputs": [
    {
     "name": "stdout",
     "output_type": "stream",
     "text": [
      "Category '1': ['11', '12', '13']\n",
      "Category '2': ['201', '202', '21', '22', '231', '232', '233']\n",
      "Category '3': ['301', '302', '3A', '3B', '3M']\n",
      "Category '4': ['401', '402', '41', '42', '44', '45']\n",
      "Category '5': ['501', '51', '5A', '5B']\n",
      "Category '6': ['60', '61', '62', '6A', '6B', '6C', '6D', '6F']\n",
      "Category '7': ['701', '702', '71', '7A', '7B', '7C', '7D']\n",
      "Category '8': ['81', '82', '83', '84']\n",
      "Category '9': ['91', '92', '921', '922', '9A', '9B', '9C', '9D', '9F']\n",
      "Category 'others': ['A1', 'A2', 'AA', 'AB', 'C1', 'C2']\n"
     ]
    },
    {
     "name": "stderr",
     "output_type": "stream",
     "text": [
      "C:\\Users\\hp\\AppData\\Local\\Temp\\ipykernel_10760\\3695658845.py:1: SettingWithCopyWarning: \n",
      "A value is trying to be set on a copy of a slice from a DataFrame.\n",
      "Try using .loc[row_indexer,col_indexer] = value instead\n",
      "\n",
      "See the caveats in the documentation: https://pandas.pydata.org/pandas-docs/stable/user_guide/indexing.html#returning-a-view-versus-a-copy\n",
      "  direction['category'] = direction['loc_code'].apply(lambda x: x[0] if x[0].isdigit() else 'others')\n"
     ]
    }
   ],
   "source": [
    "direction['category'] = direction['loc_code'].apply(lambda x: x[0] if x[0].isdigit() else 'others')\n",
    "\n",
    "categorized_lists = direction.groupby('category')['loc_code'].apply(lambda x: sorted(set(x))).to_dict()\n",
    "\n",
    "for category, loc_codes in categorized_lists.items():\n",
    "    print(f\"Category '{category}': {loc_codes}\")"
   ]
  }
 ],
 "metadata": {
  "kernelspec": {
   "display_name": "Python 3",
   "language": "python",
   "name": "python3"
  },
  "language_info": {
   "codemirror_mode": {
    "name": "ipython",
    "version": 3
   },
   "file_extension": ".py",
   "mimetype": "text/x-python",
   "name": "python",
   "nbconvert_exporter": "python",
   "pygments_lexer": "ipython3",
   "version": "3.11.8"
  }
 },
 "nbformat": 4,
 "nbformat_minor": 2
}
